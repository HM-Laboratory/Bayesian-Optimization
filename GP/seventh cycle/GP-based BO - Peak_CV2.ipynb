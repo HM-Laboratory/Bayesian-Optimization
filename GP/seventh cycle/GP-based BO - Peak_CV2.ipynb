{
 "cells": [
  {
   "cell_type": "code",
   "execution_count": 1,
   "id": "90f66b81",
   "metadata": {},
   "outputs": [],
   "source": [
    "import numpy as np\n",
    "import pandas as pd\n",
    "import matplotlib.pyplot as plt\n",
    "import GPy\n",
    "import random\n",
    "from sklearn.metrics import mean_squared_error\n",
    "from sklearn.metrics import mean_squared_error as mse\n",
    "from emukit.core import ParameterSpace, ContinuousParameter\n",
    "from emukit.model_wrappers import GPyModelWrapper\n",
    "from emukit.bayesian_optimization.loops import BayesianOptimizationLoop\n",
    "from emukit.bayesian_optimization.acquisitions import ExpectedImprovement, \\\n",
    "                                                      NegativeLowerConfidenceBound, \\\n",
    "                                                      MaxValueEntropySearch, \\\n",
    "                                                      ProbabilityOfImprovement\n",
    "from sklearn.preprocessing import StandardScaler,MinMaxScaler\n",
    "from sklearn.model_selection import train_test_split"
   ]
  },
  {
   "cell_type": "code",
   "execution_count": 2,
   "id": "b211b11f",
   "metadata": {},
   "outputs": [],
   "source": [
    "def myplot(y_true_list, y_pred_list,var_list, title_str_list, color_list,region):\n",
    "    fig, axes = plt.subplots(1, 2, figsize=(5.5*2, 4.5))\n",
    "    fs = 18\n",
    "    \n",
    "    for i in range(len(axes)):\n",
    "        axes[i].scatter(y_true_list[i], y_pred_list[i], alpha = 0.6, c = color_list[i])\n",
    "        axes[i].plot(region,region, 'k--', alpha=0.75, zorder=0)\n",
    "        axes[i].errorbar(y_true_list[i],y_pred_list[i], yerr = var_list[i], ms = 0, \n",
    "                 ls = '', capsize = 2, alpha = 0.6,\n",
    "                 color = 'gray', zorder = 0)\n",
    "        axes[i].set_xlabel('Ground Truth', fontsize = fs)\n",
    "        axes[i].set_ylabel('Prediction', fontsize = fs)\n",
    "        axes[i].set_xlim(region)\n",
    "        axes[i].set_ylim(region)\n",
    "        rmse = mse(y_true_list[i],y_pred_list[i],squared=False)\n",
    "        title = title_str_list[i] + \" (RMSE = %.3f)\"%rmse\n",
    "        axes[i].set_title(title, fontsize = fs)\n",
    "        axes[i].grid(True, linestyle='-.')"
   ]
  },
  {
   "cell_type": "code",
   "execution_count": 3,
   "id": "60fca12c",
   "metadata": {},
   "outputs": [],
   "source": [
    "# 参数空间\n",
    "Tip_Height_min, Tip_Height_max, Tip_Height_step = [0.5, 50, 0.5]\n",
    "Tip_Height_var = np.arange(Tip_Height_min, Tip_Height_max+0.1*Tip_Height_step,Tip_Height_step)\n",
    "Tip_Height_num = len(Tip_Height_var)\n",
    "\n",
    "Dispense_Speed_AS_min, Dispense_Speed_AS_max, Dispense_Speed_AS_step = [20,500,10]\n",
    "Dispense_Speed_AS_var = np.arange(Dispense_Speed_AS_min, Dispense_Speed_AS_max+0.1*Dispense_Speed_AS_step,Dispense_Speed_AS_step)\n",
    "Dispense_Speed_AS_num = len(Dispense_Speed_AS_var)\n",
    "\n",
    "Spin_Speed_AS_min, Spin_Speed_AS_max, Spin_Speed_AS_step = [500,7000,100]\n",
    "Spin_Speed_var = np.arange(Spin_Speed_AS_min,Spin_Speed_AS_max+0.1*Spin_Speed_AS_step,Spin_Speed_AS_step)\n",
    "Spin_Speed_num = len(Spin_Speed_var)\n",
    "\n",
    "Volume_AS_min, Volume_AS_max, Volume_AS_step = [50,300,10]\n",
    "Volume_AS_var = np.arange(Volume_AS_min, Volume_AS_max+0.1*Volume_AS_step, Volume_AS_step)\n",
    "Volume_AS_num = len(Volume_AS_var)\n",
    "\n",
    "Timing_AS_min, Timing_AS_max, Timing_AS_step = [2,18,1]\n",
    "Timing_AS_var = np.arange(Timing_AS_min, Timing_AS_max+0.1*Timing_AS_step,Timing_AS_step)\n",
    "Timing_AS_num = len(Timing_AS_var)\n",
    "\n",
    "x_label=[\n",
    "    'Tip_Height',\n",
    "    'Dispense_Speed_AS',\n",
    "    'Spin_Speed_AS',\n",
    "    'Volume_AS',\n",
    "    'Timing_AS'\n",
    "]\n",
    "\n",
    "var_array = [\n",
    "    Tip_Height_var,\n",
    "    Dispense_Speed_AS_var,\n",
    "    Spin_Speed_var,\n",
    "    Volume_AS_var,\n",
    "    Timing_AS_var\n",
    "]\n",
    "\n",
    "\n",
    "def x_normalizer(X, var_array = var_array):\n",
    "    \n",
    "    def max_min_scaler(x, x_max, x_min):\n",
    "        return (x-x_min)/(x_max-x_min)\n",
    "    x_norm = []\n",
    "    for x in (X):\n",
    "           x_norm.append([max_min_scaler(x[i], \n",
    "                         max(var_array[i]), \n",
    "                         min(var_array[i])) for i in range(len(x))])\n",
    "            \n",
    "    return np.array(x_norm)\n",
    "\n",
    "def x_denormalizer(x_norm, var_array = var_array):\n",
    "    \n",
    "    def max_min_rescaler(x, x_max, x_min):\n",
    "        return x*(x_max-x_min)+x_min\n",
    "    x_original = []\n",
    "    for x in (x_norm):\n",
    "           x_original.append([max_min_rescaler(x[i], \n",
    "                              max(var_array[i]), \n",
    "                              min(var_array[i])) for i in range(len(x))])\n",
    "\n",
    "    return np.array(x_original)\n",
    "\n",
    "\n",
    "def get_closest_array(suggested_x):\n",
    "    \n",
    "    def get_closest_value(given_value, array_list):\n",
    "        absolute_difference_function = lambda list_value : abs(list_value - given_value)\n",
    "        closest_value = min(array_list, key=absolute_difference_function)\n",
    "        return closest_value\n",
    "    \n",
    "    var_list = var_array\n",
    "    modified_array = []\n",
    "    for x in suggested_x:\n",
    "        modified_array.append([get_closest_value(x[i], var_list[i]) for i in range(len(x))])\n",
    "    return np.array(modified_array)"
   ]
  },
  {
   "cell_type": "code",
   "execution_count": 4,
   "id": "7580e3f1",
   "metadata": {},
   "outputs": [],
   "source": [
    "data  = pd.read_excel('../高斯过程.xlsx',usecols=[i for i in range(1,9)],sheet_name='round6').dropna()\n",
    "Data = data.values\n",
    "\n",
    "X = Data[:,:5]\n",
    "Y = Data[:,7]\n",
    "\n",
    "X_norm = x_normalizer(X)\n",
    "ss_y = 0.003\n",
    "Y_norm = Y/ss_y \n",
    "\n",
    "Train_X, Test_X, Train_y, Test_y = train_test_split(X_norm, Y_norm, test_size = 0.3,random_state=1)\n"
   ]
  },
  {
   "cell_type": "code",
   "execution_count": 5,
   "id": "f5f1fe62",
   "metadata": {},
   "outputs": [
    {
     "data": {
      "text/plain": [
       "(55, 8)"
      ]
     },
     "execution_count": 5,
     "metadata": {},
     "output_type": "execute_result"
    }
   ],
   "source": [
    "data.shape"
   ]
  },
  {
   "cell_type": "code",
   "execution_count": 6,
   "id": "6f2625b5",
   "metadata": {},
   "outputs": [
    {
     "data": {
      "text/plain": [
       "(38, 5)"
      ]
     },
     "execution_count": 6,
     "metadata": {},
     "output_type": "execute_result"
    }
   ],
   "source": [
    "Train_X.shape"
   ]
  },
  {
   "cell_type": "code",
   "execution_count": 7,
   "id": "04b9d54b",
   "metadata": {
    "scrolled": true
   },
   "outputs": [
    {
     "name": "stderr",
     "output_type": "stream",
     "text": [
      "reconstraining parameters Mat52.lengthscale\n",
      "reconstraining parameters Mat52.variance\n"
     ]
    },
    {
     "name": "stdout",
     "output_type": "stream",
     "text": [
      "Optimization restart 1/50, f = -11.50753076844067\n",
      "Optimization restart 2/50, f = -11.360152537191887\n",
      "Optimization restart 3/50, f = -11.507558655568513\n",
      "Optimization restart 4/50, f = -11.50755855017076\n",
      "Optimization restart 5/50, f = -11.36013970477449\n",
      "Optimization restart 6/50, f = -11.507558733337532\n",
      "Optimization restart 7/50, f = -11.507558745677802\n",
      "Optimization restart 8/50, f = -11.507558828308216\n",
      "Optimization restart 9/50, f = -11.507558796110033\n",
      "Optimization restart 10/50, f = -11.507508174682432\n",
      "Optimization restart 11/50, f = -4.9905780164758475\n",
      "Optimization restart 12/50, f = -11.507558788000683\n",
      "Optimization restart 13/50, f = -11.50755731645594\n",
      "Optimization restart 14/50, f = -11.50755874541776\n",
      "Optimization restart 15/50, f = -11.507554798416034\n",
      "Optimization restart 16/50, f = -11.50755816732655\n",
      "Optimization restart 17/50, f = -11.507558706128172\n",
      "Optimization restart 18/50, f = -11.50755878391374\n",
      "Optimization restart 19/50, f = -11.360147036420436\n",
      "Optimization restart 20/50, f = -11.50755868541707\n",
      "Optimization restart 21/50, f = -11.36014583539858\n",
      "Optimization restart 22/50, f = -11.507558724526195\n",
      "Optimization restart 23/50, f = -11.50755879087605\n",
      "Optimization restart 24/50, f = -11.507545507351125\n",
      "Optimization restart 25/50, f = -11.507558809550734\n",
      "Optimization restart 26/50, f = -11.507558699222987\n",
      "Optimization restart 27/50, f = -11.50755881591661\n",
      "Optimization restart 28/50, f = -11.507558819179252\n",
      "Optimization restart 29/50, f = -11.36014698253317\n",
      "Optimization restart 30/50, f = -11.507555140182856\n",
      "Optimization restart 31/50, f = -11.360146986982986\n",
      "Optimization restart 32/50, f = -11.507558795999984\n",
      "Optimization restart 33/50, f = -11.507558626589788\n",
      "Optimization restart 34/50, f = -11.507558805528255\n",
      "Optimization restart 35/50, f = -11.507558828307307\n",
      "Optimization restart 36/50, f = -11.360143529872726\n",
      "Optimization restart 37/50, f = -11.507527816180318\n",
      "Optimization restart 38/50, f = -11.50755583937788\n",
      "Optimization restart 39/50, f = -11.50755838020821\n",
      "Optimization restart 40/50, f = -11.507558491121227\n",
      "Optimization restart 41/50, f = -11.50755882830801\n",
      "Optimization restart 42/50, f = -11.507552901243482\n",
      "Optimization restart 43/50, f = -10.229246421233466\n",
      "Optimization restart 44/50, f = -11.360147043238335\n",
      "Optimization restart 45/50, f = -11.507558374005978\n",
      "Optimization restart 46/50, f = -11.507557906525708\n",
      "Optimization restart 47/50, f = -11.507551165798606\n",
      "Optimization restart 48/50, f = -11.507555326058267\n",
      "Optimization restart 49/50, f = -11.360146831480577\n",
      "Optimization restart 50/50, f = -11.507558794975171\n"
     ]
    },
    {
     "data": {
      "application/vnd.jupyter.widget-view+json": {
       "model_id": "aeb92281949e473eb71bbfdb295b9570",
       "version_major": 2,
       "version_minor": 0
      },
      "text/plain": [
       "HBox(children=(VBox(children=(IntProgress(value=0, max=1000), HTML(value=''))), Box(children=(HTML(value=''),)…"
      ]
     },
     "metadata": {},
     "output_type": "display_data"
    }
   ],
   "source": [
    "rbf = GPy.kern.RBF(input_dim=5, variance=1., lengthscale=1.,ARD=True)\n",
    "linear = GPy.kern.Linear(input_dim=5,ARD =True)\n",
    "m52 = GPy.kern.Matern52(input_dim = 5, ARD =True)\n",
    "m52.lengthscale.constrain_bounded(1e-2, 1)\n",
    "m52.variance.constrain_bounded(1e-1, 1000.0)\n",
    "#poly = GPy.kern.Poly(input_dim=5)\n",
    "kernel = m52\n",
    "model_gpy = GPy.models.GPRegression(Train_X,Train_y.reshape(-1,1),kernel)\n",
    "\n",
    "model_gpy.randomize()\n",
    "model_gpy.optimize_restarts(num_restarts = 50)\n",
    "model_gpy.optimize(messages=True)\n",
    "\n",
    "y_pred_train = model_gpy.predict(Train_X)[0].ravel()\n",
    "y_pred_test = model_gpy.predict(Test_X)[0].ravel()\n",
    "var_train = np.sqrt(model_gpy.predict(Train_X)[1]).ravel()\n",
    "var_test = np.sqrt(model_gpy.predict(Test_X)[1]).ravel()"
   ]
  },
  {
   "cell_type": "code",
   "execution_count": 8,
   "id": "4862eab3",
   "metadata": {},
   "outputs": [
    {
     "data": {
      "image/png": "[encoded data removed]",
      "text/plain": [
       "<Figure size 1100x450 with 2 Axes>"
      ]
     },
     "metadata": {},
     "output_type": "display_data"
    }
   ],
   "source": [
    "myplot([Train_y,Test_y],[y_pred_train,y_pred_test],[var_train,var_test],\n",
    "       [\"Train - Peak cv\",\"Test - Peak cv\"],\n",
    "       [\"blue\",\"orange\"],\n",
    "      [-0.5,1])\n",
    "#plt.savefig('result',dpi=1000)"
   ]
  },
  {
   "cell_type": "code",
   "execution_count": 9,
   "id": "3c1564de",
   "metadata": {
    "scrolled": true
   },
   "outputs": [
    {
     "name": "stderr",
     "output_type": "stream",
     "text": [
      "reconstraining parameters Mat52.lengthscale\n",
      "reconstraining parameters Mat52.variance\n"
     ]
    },
    {
     "name": "stdout",
     "output_type": "stream",
     "text": [
      "Optimization restart 1/50, f = -6.632394615763889\n",
      "Optimization restart 2/50, f = -4.285525868819491\n",
      "Optimization restart 3/50, f = -3.798897740769121\n",
      "Optimization restart 4/50, f = -3.798835172282125\n",
      "Optimization restart 5/50, f = -6.632394738634382\n",
      "Optimization restart 6/50, f = -4.28552600362546\n",
      "Optimization restart 7/50, f = -3.798900879336866\n",
      "Optimization restart 8/50, f = -4.285525868819246\n",
      "Optimization restart 9/50, f = -4.285539739384738\n",
      "Optimization restart 10/50, f = -3.7988860216378946\n",
      "Optimization restart 11/50, f = -4.285525868817359\n",
      "Optimization restart 12/50, f = -3.7989011818255136\n",
      "Optimization restart 13/50, f = -4.285537682607355\n",
      "Optimization restart 14/50, f = -4.285525868819825\n",
      "Optimization restart 15/50, f = -6.63239473973967\n",
      "Optimization restart 16/50, f = -4.285525868808541\n",
      "Optimization restart 17/50, f = -4.285525842051026\n",
      "Optimization restart 18/50, f = -6.63239475627449\n",
      "Optimization restart 19/50, f = -3.7988996196344083\n",
      "Optimization restart 20/50, f = -3.798900154397465\n",
      "Optimization restart 21/50, f = -4.366259940257411\n",
      "Optimization restart 22/50, f = -4.285525633540267\n",
      "Optimization restart 23/50, f = -6.632394729673454\n",
      "Optimization restart 24/50, f = -6.632394597528197\n",
      "Optimization restart 25/50, f = -6.632394755696268\n",
      "Optimization restart 26/50, f = -3.7989012816458256\n",
      "Optimization restart 27/50, f = -6.632393141360506\n",
      "Optimization restart 28/50, f = -4.285525974883942\n",
      "Optimization restart 29/50, f = -6.632394679215221\n",
      "Optimization restart 30/50, f = -3.7988926763035096\n",
      "Optimization restart 31/50, f = -3.798894302215057\n",
      "Optimization restart 32/50, f = -6.63239474810079\n",
      "Optimization restart 33/50, f = -6.632394735495524\n",
      "Optimization restart 34/50, f = -6.632394692683473\n",
      "Optimization restart 35/50, f = -6.632394754780684\n",
      "Optimization restart 36/50, f = -4.285525868819462\n",
      "Optimization restart 37/50, f = -4.285527253495591\n",
      "Optimization restart 38/50, f = -3.7989013551073256\n",
      "Optimization restart 39/50, f = -3.798900188076221\n",
      "Optimization restart 40/50, f = -6.632394200111243\n",
      "Optimization restart 41/50, f = -4.366269009746162\n",
      "Optimization restart 42/50, f = -6.632394732628601\n",
      "Optimization restart 43/50, f = -4.285525877974198\n",
      "Optimization restart 44/50, f = -3.7989007148163445\n",
      "Optimization restart 45/50, f = -6.632392319778599\n",
      "Optimization restart 46/50, f = -3.798895994123523\n",
      "Optimization restart 47/50, f = -6.632394188649208\n",
      "Optimization restart 48/50, f = -4.285529844485293\n",
      "Optimization restart 49/50, f = -6.63239475365641\n",
      "Optimization restart 50/50, f = -6.632394747106833\n"
     ]
    },
    {
     "data": {
      "application/vnd.jupyter.widget-view+json": {
       "model_id": "8c70a4bc326b4adf9ec1d848cddc7127",
       "version_major": 2,
       "version_minor": 0
      },
      "text/plain": [
       "HBox(children=(VBox(children=(IntProgress(value=0, max=1000), HTML(value=''))), Box(children=(HTML(value=''),)…"
      ]
     },
     "metadata": {},
     "output_type": "display_data"
    },
    {
     "data": {
      "text/plain": [
       "<paramz.optimization.optimization.opt_lbfgsb at 0x20a603b6d30>"
      ]
     },
     "execution_count": 9,
     "metadata": {},
     "output_type": "execute_result"
    }
   ],
   "source": [
    "X_normalize = x_normalizer(Data[:,:5])\n",
    "Y_normalize = Data[:,7]/ss_y\n",
    "m52 = GPy.kern.sde_Matern52(input_dim=5,ARD =True)\n",
    "rbf =  GPy.kern.RBF(input_dim=5, variance=1., lengthscale=1.,ARD=True)\n",
    "linear = GPy.kern.Linear(input_dim=5,ARD =True)\n",
    "m52 = GPy.kern.Matern52(input_dim = 5, ARD =True)\n",
    "m52.lengthscale.constrain_bounded(1e-2, 1)\n",
    "m52.variance.constrain_bounded(1e-1, 1000.0)\n",
    "kernel = m52\n",
    "model = GPy.models.GPRegression(X_normalize,Y_normalize.reshape(-1,1),kernel)\n",
    "\n",
    "\n",
    "\n",
    "model.randomize()\n",
    "model.optimize_restarts(num_restarts = 50)\n",
    "model.optimize(messages=True)"
   ]
  },
  {
   "cell_type": "code",
   "execution_count": 10,
   "id": "917be3e1",
   "metadata": {},
   "outputs": [
    {
     "name": "stdout",
     "output_type": "stream",
     "text": [
      "6.679088220730986e-08\n"
     ]
    },
    {
     "data": {
      "image/png": "[encoded data removed]",
      "text/plain": [
       "<Figure size 640x480 with 1 Axes>"
      ]
     },
     "metadata": {},
     "output_type": "display_data"
    }
   ],
   "source": [
    "y_pred = model.predict(X_normalize)[0]\n",
    "plt.scatter(Y_normalize,y_pred,c='b',alpha=0.6)\n",
    "plt.plot([0,1],[0,1], 'k--', alpha=0.75, zorder=0)\n",
    "print(mse(Y_normalize,y_pred,squared=False))"
   ]
  },
  {
   "cell_type": "code",
   "execution_count": 11,
   "id": "33e260e6",
   "metadata": {},
   "outputs": [
    {
     "data": {
      "text/plain": [
       "[ContinuousParameter(Tip_Height, -0.005050505050505051, 1.005050505050505),\n",
       " ContinuousParameter(Dispense_Speed_AS, -0.010416666666666666, 1.0104166666666667),\n",
       " ContinuousParameter(Spin_Speed, -0.007692307692307693, 1.0076923076923077),\n",
       " ContinuousParameter(Volume_AS, -0.02, 1.02),\n",
       " ContinuousParameter(Timing_AS, -0.03125, 1.03125)]"
      ]
     },
     "execution_count": 11,
     "metadata": {},
     "output_type": "execute_result"
    }
   ],
   "source": [
    "parameter_space = ParameterSpace([ContinuousParameter('Tip_Height', 0-1/(Tip_Height_num-1)/2, 1+1/(Tip_Height_num-1)/2),\n",
    "                                  ContinuousParameter('Dispense_Speed_AS', 0-1/(Dispense_Speed_AS_num-1)/2, 1+1/(Dispense_Speed_AS_num-1)/2),\n",
    "                                  ContinuousParameter('Spin_Speed', 0-1/(Spin_Speed_num-1)/2, 1+1/(Spin_Speed_num-1)/2),\n",
    "                                  ContinuousParameter('Volume_AS', 0-1/(Volume_AS_num-1)/2, 1+1/(Volume_AS_num-1)/2),\n",
    "                                  ContinuousParameter('Timing_AS', 0-1/(Timing_AS_num-1)/2, 1+1/(Timing_AS_num-1)/2)\n",
    "                                  \n",
    "                                  ])\n",
    "parameter_space.parameters"
   ]
  },
  {
   "cell_type": "code",
   "execution_count": 22,
   "id": "66170708",
   "metadata": {},
   "outputs": [
    {
     "name": "stdout",
     "output_type": "stream",
     "text": [
      "1000000\n",
      "LPP\n"
     ]
    },
    {
     "name": "stderr",
     "output_type": "stream",
     "text": [
      " D:\\Anaconda\\lib\\site-packages\\emukit-0.4.10-py3.9.egg\\emukit\\bayesian_optimization\\acquisitions\\log_acquisition.py:25: RuntimeWarning:invalid value encountered in log\n"
     ]
    },
    {
     "name": "stdout",
     "output_type": "stream",
     "text": [
      "Init point :  [0.46538428 0.14174281 0.2063762  0.79678339 0.13500668]\n",
      "opt point :  (array([[0.46538428, 0.14174281, 0.2063762 , 0.79678339, 0.13500668]]), array([[nan]]))\n",
      "acq_max =  [[nan]]\n",
      "Init point :  [0.2900123  0.80174498 0.14451664 0.0076728  0.25450386]\n",
      "opt point :  (array([[0.2900123 , 0.80174498, 0.14451664, 0.0076728 , 0.25450386]]), array([[nan]]))\n",
      "acq_max =  [[nan]]\n",
      "Init point :  [0.78215543 0.61269504 0.67363696 0.19938139 0.45603455]\n",
      "opt point :  (array([[0.78215543, 0.61269504, 0.67363696, 0.19938139, 0.45603455]]), array([[nan]]))\n",
      "acq_max =  [[nan]]\n"
     ]
    },
    {
     "data": {
      "text/html": [
       "<div>\n",
       "<style scoped>\n",
       "    .dataframe tbody tr th:only-of-type {\n",
       "        vertical-align: middle;\n",
       "    }\n",
       "\n",
       "    .dataframe tbody tr th {\n",
       "        vertical-align: top;\n",
       "    }\n",
       "\n",
       "    .dataframe thead th {\n",
       "        text-align: right;\n",
       "    }\n",
       "</style>\n",
       "<table border=\"1\" class=\"dataframe\">\n",
       "  <thead>\n",
       "    <tr style=\"text-align: right;\">\n",
       "      <th></th>\n",
       "      <th>Tip_Height</th>\n",
       "      <th>Dispense_Speed_AS</th>\n",
       "      <th>Spin_Speed_AS</th>\n",
       "      <th>Volume_AS</th>\n",
       "      <th>Timing_AS</th>\n",
       "      <th>pred_mean</th>\n",
       "      <th>pred_sigma</th>\n",
       "    </tr>\n",
       "  </thead>\n",
       "  <tbody>\n",
       "    <tr>\n",
       "      <th>0</th>\n",
       "      <td>23.5</td>\n",
       "      <td>90.0</td>\n",
       "      <td>1800.0</td>\n",
       "      <td>250.0</td>\n",
       "      <td>4.0</td>\n",
       "      <td>0.000551</td>\n",
       "      <td>2.999982e-11</td>\n",
       "    </tr>\n",
       "    <tr>\n",
       "      <th>1</th>\n",
       "      <td>15.0</td>\n",
       "      <td>400.0</td>\n",
       "      <td>1400.0</td>\n",
       "      <td>50.0</td>\n",
       "      <td>6.0</td>\n",
       "      <td>0.001946</td>\n",
       "      <td>1.674707e-04</td>\n",
       "    </tr>\n",
       "    <tr>\n",
       "      <th>2</th>\n",
       "      <td>39.0</td>\n",
       "      <td>310.0</td>\n",
       "      <td>4900.0</td>\n",
       "      <td>100.0</td>\n",
       "      <td>9.0</td>\n",
       "      <td>0.000904</td>\n",
       "      <td>9.564855e-05</td>\n",
       "    </tr>\n",
       "  </tbody>\n",
       "</table>\n",
       "</div>"
      ],
      "text/plain": [
       "   Tip_Height  Dispense_Speed_AS  Spin_Speed_AS  Volume_AS  Timing_AS  \\\n",
       "0        23.5               90.0         1800.0      250.0        4.0   \n",
       "1        15.0              400.0         1400.0       50.0        6.0   \n",
       "2        39.0              310.0         4900.0      100.0        9.0   \n",
       "\n",
       "   pred_mean    pred_sigma  \n",
       "0   0.000551  2.999982e-11  \n",
       "1   0.001946  1.674707e-04  \n",
       "2   0.000904  9.564855e-05  "
      ]
     },
     "execution_count": 22,
     "metadata": {},
     "output_type": "execute_result"
    }
   ],
   "source": [
    "np.random.seed(1000)\n",
    "\n",
    "objective_model = GPyModelWrapper(model)\n",
    "bs = 3\n",
    "\n",
    "\n",
    "acquisition = NegativeLowerConfidenceBound(objective_model, beta = 1)#NegativeLowerConfidenceBound(objective_model, beta = beta[i])#ExpectedImprovement(objective_model, jitter=.1)#NegativeLowerConfidenceBound(objective_model, beta = 1)\n",
    "\n",
    "bayesopt= BayesianOptimizationLoop(model=objective_model, \n",
    "                                   space=parameter_space, \n",
    "                                   acquisition=acquisition,\n",
    "                                   batch_size = bs)\n",
    "\n",
    "\n",
    "X_new = bayesopt.candidate_point_calculator.compute_next_points(bayesopt.loop_state)\n",
    "x = get_closest_array(x_denormalizer(X_new,var_array))\n",
    "df_Xnew = pd.DataFrame(x, columns = x_label)\n",
    "u = ss_y*model.predict(x_normalizer(x))[0]\n",
    "sigma = ss_y*model.predict(x_normalizer(x))[1]\n",
    "pred = pd.DataFrame(np.append(u,sigma,axis=1),columns=['pred_mean','pred_sigma'])\n",
    "final = pd.concat([df_Xnew, pred], axis=1)\n",
    "final\n"
   ]
  },
  {
   "cell_type": "code",
   "execution_count": 23,
   "id": "39e4b2d5",
   "metadata": {},
   "outputs": [],
   "source": [
    "final.to_excel('Peak cv2_gp.xlsx')"
   ]
  },
  {
   "cell_type": "code",
   "execution_count": null,
   "id": "4fed4173",
   "metadata": {},
   "outputs": [],
   "source": []
  },
  {
   "cell_type": "code",
   "execution_count": null,
   "id": "78b3834a",
   "metadata": {},
   "outputs": [],
   "source": []
  },
  {
   "cell_type": "code",
   "execution_count": null,
   "id": "66b88f9c",
   "metadata": {},
   "outputs": [],
   "source": []
  },
  {
   "cell_type": "code",
   "execution_count": null,
   "id": "6e5a40c8",
   "metadata": {},
   "outputs": [],
   "source": []
  },
  {
   "cell_type": "code",
   "execution_count": null,
   "id": "21619b75",
   "metadata": {},
   "outputs": [],
   "source": []
  },
  {
   "cell_type": "code",
   "execution_count": null,
   "id": "3f90be3b",
   "metadata": {},
   "outputs": [],
   "source": []
  },
  {
   "cell_type": "code",
   "execution_count": null,
   "id": "39360183",
   "metadata": {},
   "outputs": [],
   "source": []
  },
  {
   "cell_type": "code",
   "execution_count": 12,
   "id": "5af66744",
   "metadata": {},
   "outputs": [
    {
     "name": "stdout",
     "output_type": "stream",
     "text": [
      "1000000\n",
      "Init point :  [0.9995193  0.62299296 0.98020145 0.33349543 0.00369579]\n",
      "opt point :  (array([[ 1.00505051,  0.63330826,  1.00769231,  0.31583644, -0.03125   ]]), array([[-0.18542445]]))\n",
      "acq_max =  [[0.18542445]]\n",
      "1000000\n",
      "Init point :  [ 0.98059726  0.625739    0.97293624  0.3914628  -0.01512588]\n",
      "opt point :  (array([[ 1.00505051,  0.66810203,  1.00769231,  0.39126599, -0.03125   ]]), array([[-0.40493834]]))\n",
      "acq_max =  [[0.40493834]]\n",
      "1000000\n",
      "Init point :  [ 0.99856828  0.99090052  0.56730463  0.5539351  -0.02817462]\n",
      "opt point :  (array([[ 1.00505051,  1.01041667,  1.00769231,  0.53584352, -0.03125   ]]), array([[-3.11057393]]))\n",
      "acq_max =  [[3.11057393]]\n"
     ]
    },
    {
     "data": {
      "text/html": [
       "<div>\n",
       "<style scoped>\n",
       "    .dataframe tbody tr th:only-of-type {\n",
       "        vertical-align: middle;\n",
       "    }\n",
       "\n",
       "    .dataframe tbody tr th {\n",
       "        vertical-align: top;\n",
       "    }\n",
       "\n",
       "    .dataframe thead th {\n",
       "        text-align: right;\n",
       "    }\n",
       "</style>\n",
       "<table border=\"1\" class=\"dataframe\">\n",
       "  <thead>\n",
       "    <tr style=\"text-align: right;\">\n",
       "      <th></th>\n",
       "      <th>Tip_Height</th>\n",
       "      <th>Dispense_Speed_AS</th>\n",
       "      <th>Spin_Speed_AS</th>\n",
       "      <th>Volume_AS</th>\n",
       "      <th>Timing_AS</th>\n",
       "      <th>pred_mean</th>\n",
       "      <th>pred_sigma</th>\n",
       "    </tr>\n",
       "  </thead>\n",
       "  <tbody>\n",
       "    <tr>\n",
       "      <th>0</th>\n",
       "      <td>50.0</td>\n",
       "      <td>320.0</td>\n",
       "      <td>7000.0</td>\n",
       "      <td>130.0</td>\n",
       "      <td>2.0</td>\n",
       "      <td>-0.000484</td>\n",
       "      <td>0.000139</td>\n",
       "    </tr>\n",
       "    <tr>\n",
       "      <th>1</th>\n",
       "      <td>50.0</td>\n",
       "      <td>340.0</td>\n",
       "      <td>7000.0</td>\n",
       "      <td>150.0</td>\n",
       "      <td>2.0</td>\n",
       "      <td>-0.000417</td>\n",
       "      <td>0.000204</td>\n",
       "    </tr>\n",
       "    <tr>\n",
       "      <th>2</th>\n",
       "      <td>50.0</td>\n",
       "      <td>500.0</td>\n",
       "      <td>7000.0</td>\n",
       "      <td>180.0</td>\n",
       "      <td>2.0</td>\n",
       "      <td>-0.000131</td>\n",
       "      <td>0.000280</td>\n",
       "    </tr>\n",
       "  </tbody>\n",
       "</table>\n",
       "</div>"
      ],
      "text/plain": [
       "   Tip_Height  Dispense_Speed_AS  Spin_Speed_AS  Volume_AS  Timing_AS  \\\n",
       "0        50.0              320.0         7000.0      130.0        2.0   \n",
       "1        50.0              340.0         7000.0      150.0        2.0   \n",
       "2        50.0              500.0         7000.0      180.0        2.0   \n",
       "\n",
       "   pred_mean  pred_sigma  \n",
       "0  -0.000484    0.000139  \n",
       "1  -0.000417    0.000204  \n",
       "2  -0.000131    0.000280  "
      ]
     },
     "execution_count": 12,
     "metadata": {},
     "output_type": "execute_result"
    }
   ],
   "source": [
    "np.random.seed(1000)\n",
    "\n",
    "objective_model = GPyModelWrapper(model)\n",
    "bs = 1\n",
    "\n",
    "beta = [0.1,1,10]\n",
    "recommend_point = []\n",
    "num = 3\n",
    "for i in range(num):\n",
    "\n",
    "    acquisition = NegativeLowerConfidenceBound(objective_model, beta = beta[i])#NegativeLowerConfidenceBound(objective_model, beta = beta[i])#ExpectedImprovement(objective_model, jitter=.1)#NegativeLowerConfidenceBound(objective_model, beta = 1)\n",
    "\n",
    "    bayesopt= BayesianOptimizationLoop(model=objective_model, \n",
    "                                       space=parameter_space, \n",
    "                                       acquisition=acquisition,\n",
    "                                       batch_size = bs)\n",
    "\n",
    "\n",
    "    X_new = bayesopt.candidate_point_calculator.compute_next_points(bayesopt.loop_state)\n",
    "\n",
    "    recommend_point.append(get_closest_array(x_denormalizer(X_new,var_array)))\n",
    "    \n",
    "recommend_point_pd = pd.DataFrame(np.array(recommend_point).reshape(-1,5), columns = x_label)\n",
    "\n",
    "rp = x_normalizer(np.array(recommend_point).reshape(num,5))\n",
    "u = ss_y*model.predict(rp)[0] #均值\n",
    "sigma = ss_y*model.predict(rp)[1] #方差\n",
    "pred = pd.DataFrame(np.append(u,sigma,axis=1),columns=['pred_mean','pred_sigma'])\n",
    "final = pd.concat([recommend_point_pd, pred], axis=1)\n",
    "final"
   ]
  },
  {
   "cell_type": "code",
   "execution_count": 13,
   "id": "31e3b003",
   "metadata": {},
   "outputs": [],
   "source": [
    "final.to_excel('Peak cv2_gp.xlsx')"
   ]
  },
  {
   "cell_type": "code",
   "execution_count": null,
   "id": "15a838c9",
   "metadata": {},
   "outputs": [],
   "source": []
  }
 ],
 "metadata": {
  "kernelspec": {
   "display_name": "Python 3 (ipykernel)",
   "language": "python",
   "name": "python3"
  },
  "language_info": {
   "codemirror_mode": {
    "name": "ipython",
    "version": 3
   },
   "file_extension": ".py",
   "mimetype": "text/x-python",
   "name": "python",
   "nbconvert_exporter": "python",
   "pygments_lexer": "ipython3",
   "version": "3.9.13"
  }
 },
 "nbformat": 4,
 "nbformat_minor": 5
}
