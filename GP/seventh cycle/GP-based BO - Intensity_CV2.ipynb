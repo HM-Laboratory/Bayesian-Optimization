{
 "cells": [
  {
   "cell_type": "code",
   "execution_count": 1,
   "id": "90f66b81",
   "metadata": {},
   "outputs": [],
   "source": [
    "import numpy as np\n",
    "import pandas as pd\n",
    "import matplotlib.pyplot as plt\n",
    "import GPy\n",
    "import random\n",
    "from sklearn.metrics import mean_squared_error\n",
    "from sklearn.metrics import mean_squared_error as mse\n",
    "from emukit.core import ParameterSpace, ContinuousParameter\n",
    "from emukit.model_wrappers import GPyModelWrapper\n",
    "from emukit.bayesian_optimization.loops import BayesianOptimizationLoop\n",
    "from emukit.bayesian_optimization.acquisitions import ExpectedImprovement, \\\n",
    "                                                      NegativeLowerConfidenceBound, \\\n",
    "                                                      MaxValueEntropySearch, \\\n",
    "                                                      ProbabilityOfImprovement\n",
    "from sklearn.preprocessing import StandardScaler,MinMaxScaler\n",
    "from sklearn.model_selection import train_test_split"
   ]
  },
  {
   "cell_type": "code",
   "execution_count": 2,
   "id": "b211b11f",
   "metadata": {},
   "outputs": [],
   "source": [
    "def myplot(y_true_list, y_pred_list,var_list, title_str_list, color_list,region):\n",
    "    fig, axes = plt.subplots(1, 2, figsize=(5.5*2, 4.5))\n",
    "    fs = 18\n",
    "    \n",
    "    for i in range(len(axes)):\n",
    "        axes[i].scatter(y_true_list[i], y_pred_list[i], alpha = 0.6, c = color_list[i])\n",
    "        axes[i].plot(region,region, 'k--', alpha=0.75, zorder=0)\n",
    "        axes[i].errorbar(y_true_list[i],y_pred_list[i], yerr = var_list[i], ms = 0, \n",
    "                 ls = '', capsize = 2, alpha = 0.6,\n",
    "                 color = 'gray', zorder = 0)\n",
    "        axes[i].set_xlabel('Ground Truth', fontsize = fs)\n",
    "        axes[i].set_ylabel('Prediction', fontsize = fs)\n",
    "        axes[i].set_xlim(region)\n",
    "        axes[i].set_ylim(region)\n",
    "        rmse = mse(y_true_list[i],y_pred_list[i],squared=False)\n",
    "        title = title_str_list[i] + \" (RMSE = %.3f)\"%rmse\n",
    "        axes[i].set_title(title, fontsize = fs)\n",
    "        axes[i].grid(True, linestyle='-.')"
   ]
  },
  {
   "cell_type": "code",
   "execution_count": 3,
   "id": "60fca12c",
   "metadata": {},
   "outputs": [],
   "source": [
    "# 参数空间\n",
    "Tip_Height_min, Tip_Height_max, Tip_Height_step = [0.5, 50, 0.5]\n",
    "Tip_Height_var = np.arange(Tip_Height_min, Tip_Height_max+0.1*Tip_Height_step,Tip_Height_step)\n",
    "Tip_Height_num = len(Tip_Height_var)\n",
    "\n",
    "Dispense_Speed_AS_min, Dispense_Speed_AS_max, Dispense_Speed_AS_step = [20,500,10]\n",
    "Dispense_Speed_AS_var = np.arange(Dispense_Speed_AS_min, Dispense_Speed_AS_max+0.1*Dispense_Speed_AS_step,Dispense_Speed_AS_step)\n",
    "Dispense_Speed_AS_num = len(Dispense_Speed_AS_var)\n",
    "\n",
    "Spin_Speed_AS_min, Spin_Speed_AS_max, Spin_Speed_AS_step = [500,7000,100]\n",
    "Spin_Speed_var = np.arange(Spin_Speed_AS_min,Spin_Speed_AS_max+0.1*Spin_Speed_AS_step,Spin_Speed_AS_step)\n",
    "Spin_Speed_num = len(Spin_Speed_var)\n",
    "\n",
    "Volume_AS_min, Volume_AS_max, Volume_AS_step = [50,300,10]\n",
    "Volume_AS_var = np.arange(Volume_AS_min, Volume_AS_max+0.1*Volume_AS_step, Volume_AS_step)\n",
    "Volume_AS_num = len(Volume_AS_var)\n",
    "\n",
    "Timing_AS_min, Timing_AS_max, Timing_AS_step = [2,18,1]\n",
    "Timing_AS_var = np.arange(Timing_AS_min, Timing_AS_max+0.1*Timing_AS_step,Timing_AS_step)\n",
    "Timing_AS_num = len(Timing_AS_var)\n",
    "\n",
    "x_label=[\n",
    "    'Tip_Height',\n",
    "    'Dispense_Speed_AS',\n",
    "    'Spin_Speed_AS',\n",
    "    'Volume_AS',\n",
    "    'Timing_AS'\n",
    "]\n",
    "\n",
    "var_array = [\n",
    "    Tip_Height_var,\n",
    "    Dispense_Speed_AS_var,\n",
    "    Spin_Speed_var,\n",
    "    Volume_AS_var,\n",
    "    Timing_AS_var\n",
    "]\n",
    "\n",
    "\n",
    "def x_normalizer(X, var_array = var_array):\n",
    "    \n",
    "    def max_min_scaler(x, x_max, x_min):\n",
    "        return (x-x_min)/(x_max-x_min)\n",
    "    x_norm = []\n",
    "    for x in (X):\n",
    "           x_norm.append([max_min_scaler(x[i], \n",
    "                         max(var_array[i]), \n",
    "                         min(var_array[i])) for i in range(len(x))])\n",
    "            \n",
    "    return np.array(x_norm)\n",
    "\n",
    "def x_denormalizer(x_norm, var_array = var_array):\n",
    "    \n",
    "    def max_min_rescaler(x, x_max, x_min):\n",
    "        return x*(x_max-x_min)+x_min\n",
    "    x_original = []\n",
    "    for x in (x_norm):\n",
    "           x_original.append([max_min_rescaler(x[i], \n",
    "                              max(var_array[i]), \n",
    "                              min(var_array[i])) for i in range(len(x))])\n",
    "\n",
    "    return np.array(x_original)\n",
    "\n",
    "\n",
    "def get_closest_array(suggested_x):\n",
    "    \n",
    "    def get_closest_value(given_value, array_list):\n",
    "        absolute_difference_function = lambda list_value : abs(list_value - given_value)\n",
    "        closest_value = min(array_list, key=absolute_difference_function)\n",
    "        return closest_value\n",
    "    \n",
    "    var_list = var_array\n",
    "    modified_array = []\n",
    "    for x in suggested_x:\n",
    "        modified_array.append([get_closest_value(x[i], var_list[i]) for i in range(len(x))])\n",
    "    return np.array(modified_array)"
   ]
  },
  {
   "cell_type": "code",
   "execution_count": 4,
   "id": "7580e3f1",
   "metadata": {},
   "outputs": [],
   "source": [
    "data  = pd.read_excel('../高斯过程.xlsx',usecols=[i for i in range(1,9)],sheet_name='round6').dropna()\n",
    "Data = data.values\n",
    "\n",
    "X = Data[:,:5]\n",
    "Y = Data[:,6]\n",
    "\n",
    "X_norm = x_normalizer(X)\n",
    "ss_y = 0.3\n",
    "Y_norm = Y/ss_y \n",
    "\n",
    "Train_X, Test_X, Train_y, Test_y = train_test_split(X_norm, Y_norm, test_size = 0.3,random_state=1)\n"
   ]
  },
  {
   "cell_type": "code",
   "execution_count": 5,
   "id": "470e83ba",
   "metadata": {},
   "outputs": [
    {
     "data": {
      "text/plain": [
       "array([0.57921036, 1.03121747, 0.39792063, 0.75839459, 0.48327929,\n",
       "       0.41032203, 0.33075321, 0.33081659, 0.11184334, 0.2000958 ,\n",
       "       0.75826963, 0.21736726, 0.17069694, 0.32581634, 0.11564557,\n",
       "       0.14920296, 0.43444485, 0.519572  , 0.23401393, 0.26159913,\n",
       "       0.45373809, 0.53990352, 0.88464947, 0.39054193, 0.37283972,\n",
       "       0.16304026, 0.6660023 , 1.22802472, 0.48923303, 0.2896915 ,\n",
       "       0.50768582, 0.38422636, 0.0869071 , 0.20470687, 0.23269881,\n",
       "       0.30328455, 0.12840877, 0.17210343, 0.12232588])"
      ]
     },
     "execution_count": 5,
     "metadata": {},
     "output_type": "execute_result"
    }
   ],
   "source": [
    "Y_norm"
   ]
  },
  {
   "cell_type": "code",
   "execution_count": 5,
   "id": "ecda39fd",
   "metadata": {},
   "outputs": [
    {
     "data": {
      "text/plain": [
       "(47, 8)"
      ]
     },
     "execution_count": 5,
     "metadata": {},
     "output_type": "execute_result"
    }
   ],
   "source": [
    "data.shape"
   ]
  },
  {
   "cell_type": "code",
   "execution_count": 7,
   "id": "9b0e5504",
   "metadata": {},
   "outputs": [
    {
     "data": {
      "text/plain": [
       "array([0.2896915 , 0.30328455, 0.0869071 , 1.22802472, 0.48327929,\n",
       "       0.11564557, 0.75826963, 0.23269881, 0.39054193, 0.37283972,\n",
       "       0.20470687, 0.45373809, 0.23401393, 0.33075321, 0.32581634,\n",
       "       0.33081659, 0.12232588, 1.03121747, 0.43444485, 0.57921036,\n",
       "       0.14920296, 0.41032203, 0.21736726, 0.2000958 , 0.11184334,\n",
       "       0.17069694, 0.17210343])"
      ]
     },
     "execution_count": 7,
     "metadata": {},
     "output_type": "execute_result"
    }
   ],
   "source": [
    "Train_y"
   ]
  },
  {
   "cell_type": "code",
   "execution_count": 5,
   "id": "04b9d54b",
   "metadata": {
    "scrolled": true
   },
   "outputs": [
    {
     "name": "stderr",
     "output_type": "stream",
     "text": [
      "reconstraining parameters Mat52.lengthscale\n",
      "reconstraining parameters Mat52.variance\n"
     ]
    },
    {
     "name": "stdout",
     "output_type": "stream",
     "text": [
      "Optimization restart 1/50, f = 1.7055427944212767\n",
      "Optimization restart 2/50, f = 1.0882956357272988\n",
      "Optimization restart 3/50, f = 1.527346972623235\n",
      "Optimization restart 4/50, f = 4.446329682216945\n",
      "Optimization restart 5/50, f = 1.52732925315685\n",
      "Optimization restart 6/50, f = 1.088307969067234\n",
      "Optimization restart 7/50, f = 1.0681814005750603\n",
      "Optimization restart 8/50, f = 1.7055428025864465\n",
      "Optimization restart 9/50, f = 1.705541129717453\n",
      "Optimization restart 10/50, f = 1.705540937932792\n",
      "Optimization restart 11/50, f = -0.1059296177251845\n",
      "Optimization restart 12/50, f = 1.7055419994017562\n",
      "Optimization restart 13/50, f = 1.088295637917458\n",
      "Optimization restart 14/50, f = 1.705542790330636\n",
      "Optimization restart 15/50, f = 1.7055425803743525\n",
      "Optimization restart 16/50, f = 1.6029288105222683\n",
      "Optimization restart 17/50, f = 1.0681814004515502\n",
      "Optimization restart 18/50, f = 1.068181400729955\n",
      "Optimization restart 19/50, f = 1.0882956384512283\n",
      "Optimization restart 20/50, f = 1.088295638423645\n",
      "Optimization restart 21/50, f = 1.0882956356348394\n",
      "Optimization restart 22/50, f = 1.8936814161551823\n",
      "Optimization restart 23/50, f = 1.7055423078928342\n",
      "Optimization restart 24/50, f = 1.088295644452888\n",
      "Optimization restart 25/50, f = 1.068181405150895\n",
      "Optimization restart 26/50, f = 1.7055428045174956\n",
      "Optimization restart 27/50, f = 1.7055427850779417\n",
      "Optimization restart 28/50, f = 1.0681814004471093\n",
      "Optimization restart 29/50, f = 1.7055424040699272\n",
      "Optimization restart 30/50, f = 1.7055427844324456\n",
      "Optimization restart 31/50, f = 1.7055438633773008\n",
      "Optimization restart 32/50, f = 1.088295635705478\n",
      "Optimization restart 33/50, f = 4.4463296896499465\n",
      "Optimization restart 34/50, f = 1.6029465961556788\n",
      "Optimization restart 35/50, f = 3.844755364486435\n",
      "Optimization restart 36/50, f = 1.0681825357935075\n",
      "Optimization restart 37/50, f = 1.0882956356141165\n",
      "Optimization restart 38/50, f = 1.068181400454531\n",
      "Optimization restart 39/50, f = 2.4690267589780994\n",
      "Optimization restart 40/50, f = 1.0883052546599856\n",
      "Optimization restart 41/50, f = 2.469007532735926\n",
      "Optimization restart 42/50, f = 1.7055285908069528\n",
      "Optimization restart 43/50, f = 1.5273470128837054\n",
      "Optimization restart 44/50, f = 1.506677056235553\n",
      "Optimization restart 45/50, f = 4.446274673983044\n",
      "Optimization restart 46/50, f = 1.0882956356108942\n",
      "Optimization restart 47/50, f = 2.469027673811194\n",
      "Optimization restart 48/50, f = -0.10592961882115048\n",
      "Optimization restart 49/50, f = 1.0681814041746023\n",
      "Optimization restart 50/50, f = 1.506676053018868\n"
     ]
    },
    {
     "data": {
      "application/vnd.jupyter.widget-view+json": {
       "model_id": "2dbbbe2c322d4519afb4fc24cf51d126",
       "version_major": 2,
       "version_minor": 0
      },
      "text/plain": [
       "HBox(children=(VBox(children=(IntProgress(value=0, max=1000), HTML(value=''))), Box(children=(HTML(value=''),)…"
      ]
     },
     "metadata": {},
     "output_type": "display_data"
    }
   ],
   "source": [
    "rbf = GPy.kern.RBF(input_dim=5, variance=1., lengthscale=1.,ARD=True)\n",
    "linear = GPy.kern.Linear(input_dim=5,ARD =True)\n",
    "m52 = GPy.kern.Matern52(input_dim = 5, ARD =True)\n",
    "m52.lengthscale.constrain_bounded(1e-2, 1)\n",
    "m52.variance.constrain_bounded(1e-1, 1000.0)\n",
    "\n",
    "kernel = m52\n",
    "model_gpy = GPy.models.GPRegression(Train_X,Train_y.reshape(-1,1),kernel)\n",
    "\n",
    "model_gpy.randomize()\n",
    "model_gpy.optimize_restarts(num_restarts = 50)\n",
    "model_gpy.optimize(messages=True)\n",
    "\n",
    "y_pred_train = model_gpy.predict(Train_X)[0].ravel()\n",
    "y_pred_test = model_gpy.predict(Test_X)[0].ravel()\n",
    "var_train = np.sqrt(model_gpy.predict(Train_X)[1]).ravel()\n",
    "var_test = np.sqrt(model_gpy.predict(Test_X)[1]).ravel()"
   ]
  },
  {
   "cell_type": "code",
   "execution_count": 6,
   "id": "4862eab3",
   "metadata": {},
   "outputs": [
    {
     "data": {
      "image/png": "[encoded data removed]",
      "text/plain": [
       "<Figure size 1100x450 with 2 Axes>"
      ]
     },
     "metadata": {},
     "output_type": "display_data"
    }
   ],
   "source": [
    "myplot([Train_y,Test_y],[y_pred_train,y_pred_test],[var_train,var_test],\n",
    "       [\"Train - Peak cv\",\"Test - Peak cv\"],\n",
    "       [\"blue\",\"orange\"],\n",
    "      [-0.5,1])\n",
    "#plt.savefig('result',dpi=1000)"
   ]
  },
  {
   "cell_type": "code",
   "execution_count": 7,
   "id": "92f30132",
   "metadata": {
    "scrolled": true
   },
   "outputs": [
    {
     "name": "stderr",
     "output_type": "stream",
     "text": [
      "reconstraining parameters Mat52.lengthscale\n",
      "reconstraining parameters Mat52.variance\n"
     ]
    },
    {
     "name": "stdout",
     "output_type": "stream",
     "text": [
      "Optimization restart 1/50, f = 2.4945214955339132\n",
      "Optimization restart 2/50, f = 2.0962513629740265\n",
      "Optimization restart 3/50, f = 2.494521902952293\n",
      "Optimization restart 4/50, f = 4.4982329878488585\n",
      "Optimization restart 5/50, f = 2.494521394361783\n",
      "Optimization restart 6/50, f = 2.0962513658306996\n",
      "Optimization restart 7/50, f = 2.096251361694005\n",
      "Optimization restart 8/50, f = 2.4945219897307247\n",
      "Optimization restart 9/50, f = 2.4945217108403597\n",
      "Optimization restart 10/50, f = 4.523034510138018\n",
      "Optimization restart 11/50, f = 4.523034603748762\n",
      "Optimization restart 12/50, f = 4.523033341441877\n",
      "Optimization restart 13/50, f = 2.494521438179355\n",
      "Optimization restart 14/50, f = 2.09625136475675\n",
      "Optimization restart 15/50, f = 2.494530050268711\n",
      "Optimization restart 16/50, f = 2.49452138606593\n",
      "Optimization restart 17/50, f = 2.0962515407752775\n",
      "Optimization restart 18/50, f = 4.498233075602123\n",
      "Optimization restart 19/50, f = 2.494580060458798\n",
      "Optimization restart 20/50, f = 2.0962513572915498\n",
      "Optimization restart 21/50, f = 2.494521382949248\n",
      "Optimization restart 22/50, f = 4.498233433485016\n",
      "Optimization restart 23/50, f = 4.498233075179439\n",
      "Optimization restart 24/50, f = 2.494520933418748\n",
      "Optimization restart 25/50, f = 2.0962514060352326\n",
      "Optimization restart 26/50, f = 4.362003009270271\n",
      "Optimization restart 27/50, f = 4.459040141743795\n",
      "Optimization restart 28/50, f = 2.494521373780369\n",
      "Optimization restart 29/50, f = 2.096251360572701\n",
      "Optimization restart 30/50, f = 2.494521557995082\n",
      "Optimization restart 31/50, f = 2.0962513660252817\n",
      "Optimization restart 32/50, f = 2.494521372015541\n",
      "Optimization restart 33/50, f = 4.52301352061437\n",
      "Optimization restart 34/50, f = 2.4945215047627585\n",
      "Optimization restart 35/50, f = 2.096251406611948\n",
      "Optimization restart 36/50, f = 2.096251361055696\n",
      "Optimization restart 37/50, f = 4.498233075152854\n",
      "Optimization restart 38/50, f = 2.0962513629802118\n",
      "Optimization restart 39/50, f = 4.523032154991263\n",
      "Optimization restart 40/50, f = 2.0962513646898415\n",
      "Optimization restart 41/50, f = 4.498232278524611\n",
      "Optimization restart 42/50, f = 2.494521382610202\n",
      "Optimization restart 43/50, f = 2.4945213807278996\n",
      "Optimization restart 44/50, f = 2.4945214205373603\n",
      "Optimization restart 45/50, f = 2.09625138580898\n",
      "Optimization restart 46/50, f = 2.4945218990114384\n",
      "Optimization restart 47/50, f = 2.494521373292951\n",
      "Optimization restart 48/50, f = 2.494521373492642\n",
      "Optimization restart 49/50, f = 2.4945214286674684\n",
      "Optimization restart 50/50, f = 2.0962513596768915\n"
     ]
    },
    {
     "data": {
      "application/vnd.jupyter.widget-view+json": {
       "model_id": "3a7a04a844eb4dd5bc436f98229053cc",
       "version_major": 2,
       "version_minor": 0
      },
      "text/plain": [
       "HBox(children=(VBox(children=(IntProgress(value=0, max=1000), HTML(value=''))), Box(children=(HTML(value=''),)…"
      ]
     },
     "metadata": {},
     "output_type": "display_data"
    },
    {
     "data": {
      "text/plain": [
       "<paramz.optimization.optimization.opt_lbfgsb at 0x1ce81e30070>"
      ]
     },
     "execution_count": 7,
     "metadata": {},
     "output_type": "execute_result"
    }
   ],
   "source": [
    "X_normalize = x_normalizer(Data[:,:5])\n",
    "Y_normalize = Data[:,6]/ss_y\n",
    "\n",
    "rbf =  GPy.kern.RBF(input_dim=5, variance=1., lengthscale=1.,ARD=True)\n",
    "linear = GPy.kern.Linear(input_dim=5,ARD =True)\n",
    "\n",
    "m52 = GPy.kern.Matern52(input_dim = 5, ARD =True)\n",
    "m52.lengthscale.constrain_bounded(1e-2, 1)\n",
    "m52.variance.constrain_bounded(1e-1, 1000.0)\n",
    "\n",
    "kernel = m52\n",
    "model = GPy.models.GPRegression(X_normalize,Y_normalize.reshape(-1,1),kernel)\n",
    "\n",
    "model.randomize()\n",
    "model.optimize_restarts(num_restarts = 50)\n",
    "model.optimize(messages=True)"
   ]
  },
  {
   "cell_type": "code",
   "execution_count": 8,
   "id": "6ee53f76",
   "metadata": {},
   "outputs": [
    {
     "name": "stdout",
     "output_type": "stream",
     "text": [
      "0.025136963120567873\n"
     ]
    },
    {
     "data": {
      "image/png": "[encoded data removed]",
      "text/plain": [
       "<Figure size 640x480 with 1 Axes>"
      ]
     },
     "metadata": {},
     "output_type": "display_data"
    }
   ],
   "source": [
    "y_pred = model.predict(X_normalize)[0]\n",
    "plt.scatter(Y_normalize,y_pred,c='b',alpha=0.6)\n",
    "plt.plot([0,1],[0,1], 'k--', alpha=0.75, zorder=0)\n",
    "print(mse(Y_normalize,y_pred,squared=False))"
   ]
  },
  {
   "cell_type": "code",
   "execution_count": 9,
   "id": "33e260e6",
   "metadata": {},
   "outputs": [
    {
     "data": {
      "text/plain": [
       "[ContinuousParameter(Tip_Height, -0.005050505050505051, 1.005050505050505),\n",
       " ContinuousParameter(Dispense_Speed_AS, -0.010416666666666666, 1.0104166666666667),\n",
       " ContinuousParameter(Spin_Speed, -0.007692307692307693, 1.0076923076923077),\n",
       " ContinuousParameter(Volume_AS, -0.02, 1.02),\n",
       " ContinuousParameter(Timing_AS, -0.03125, 1.03125)]"
      ]
     },
     "execution_count": 9,
     "metadata": {},
     "output_type": "execute_result"
    }
   ],
   "source": [
    "parameter_space = ParameterSpace([ContinuousParameter('Tip_Height', 0-1/(Tip_Height_num-1)/2, 1+1/(Tip_Height_num-1)/2),\n",
    "                                  ContinuousParameter('Dispense_Speed_AS', 0-1/(Dispense_Speed_AS_num-1)/2, 1+1/(Dispense_Speed_AS_num-1)/2),\n",
    "                                  ContinuousParameter('Spin_Speed', 0-1/(Spin_Speed_num-1)/2, 1+1/(Spin_Speed_num-1)/2),\n",
    "                                  ContinuousParameter('Volume_AS', 0-1/(Volume_AS_num-1)/2, 1+1/(Volume_AS_num-1)/2),\n",
    "                                  ContinuousParameter('Timing_AS', 0-1/(Timing_AS_num-1)/2, 1+1/(Timing_AS_num-1)/2)\n",
    "                                  \n",
    "                                  ])\n",
    "parameter_space.parameters"
   ]
  },
  {
   "cell_type": "code",
   "execution_count": 25,
   "id": "5af66744",
   "metadata": {},
   "outputs": [
    {
     "name": "stdout",
     "output_type": "stream",
     "text": [
      "1000000\n",
      "LPP\n"
     ]
    },
    {
     "name": "stderr",
     "output_type": "stream",
     "text": [
      " D:\\Anaconda\\lib\\site-packages\\emukit-0.4.10-py3.9.egg\\emukit\\bayesian_optimization\\acquisitions\\log_acquisition.py:25: RuntimeWarning:invalid value encountered in log\n"
     ]
    },
    {
     "name": "stdout",
     "output_type": "stream",
     "text": [
      "Init point :  [0.46538428 0.14174281 0.2063762  0.79678339 0.13500668]\n",
      "opt point :  (array([[0.46538428, 0.14174281, 0.2063762 , 0.79678339, 0.13500668]]), array([[nan]]))\n",
      "acq_max =  [[nan]]\n",
      "Init point :  [0.40654548 0.65710037 0.76375203 0.34645683 0.48595222]\n",
      "opt point :  (array([[0.40654548, 0.65710037, 0.76375203, 0.34645683, 0.48595222]]), array([[nan]]))\n",
      "acq_max =  [[nan]]\n",
      "Init point :  [0.12557292 0.40123953 0.79458869 0.73835624 0.89446184]\n",
      "opt point :  (array([[0.12557292, 0.40123953, 0.79458869, 0.73835624, 0.89446184]]), array([[nan]]))\n",
      "acq_max =  [[nan]]\n",
      "Init point :  [0.3114754  0.49468542 0.21246399 0.91643559 0.1817743 ]\n",
      "opt point :  (array([[0.3114754 , 0.49468542, 0.21246399, 0.91643559, 0.1817743 ]]), array([[nan]]))\n",
      "acq_max =  [[nan]]\n",
      "Init point :  [0.11277673 0.11031596 0.28555327 0.43468651 0.35519231]\n",
      "opt point :  (array([[0.11277673, 0.11031596, 0.28555327, 0.43468651, 0.35519231]]), array([[nan]]))\n",
      "acq_max =  [[nan]]\n",
      "Init point :  [0.13359687 0.00280644 0.7831102  0.74766433 0.61578028]\n",
      "opt point :  (array([[0.13359687, 0.00280644, 0.7831102 , 0.74766433, 0.61578028]]), array([[nan]]))\n",
      "acq_max =  [[nan]]\n",
      "Init point :  [0.28617552 0.16827454 0.20453137 0.66640317 0.71906288]\n",
      "opt point :  (array([[0.28617552, 0.16827454, 0.20453137, 0.66640317, 0.71906288]]), array([[nan]]))\n",
      "acq_max =  [[nan]]\n",
      "Init point :  [0.49481169 0.66689089 0.65616682 0.94258354 0.82261802]\n",
      "opt point :  (array([[0.49481169, 0.66689089, 0.65616682, 0.94258354, 0.82261802]]), array([[nan]]))\n",
      "acq_max =  [[nan]]\n",
      "Init point :  [0.9629768  0.4483608  0.01851203 0.66282886 0.91255967]\n",
      "opt point :  (array([[0.9629768 , 0.4483608 , 0.01851203, 0.66282886, 0.91255967]]), array([[nan]]))\n",
      "acq_max =  [[nan]]\n",
      "Init point :  [0.36307337 0.48156384 0.5146481  0.42388729 1.0261676 ]\n",
      "opt point :  (array([[0.36307337, 0.48156384, 0.5146481 , 0.42388729, 1.0261676 ]]), array([[nan]]))\n",
      "acq_max =  [[nan]]\n"
     ]
    },
    {
     "data": {
      "text/html": [
       "<div>\n",
       "<style scoped>\n",
       "    .dataframe tbody tr th:only-of-type {\n",
       "        vertical-align: middle;\n",
       "    }\n",
       "\n",
       "    .dataframe tbody tr th {\n",
       "        vertical-align: top;\n",
       "    }\n",
       "\n",
       "    .dataframe thead th {\n",
       "        text-align: right;\n",
       "    }\n",
       "</style>\n",
       "<table border=\"1\" class=\"dataframe\">\n",
       "  <thead>\n",
       "    <tr style=\"text-align: right;\">\n",
       "      <th></th>\n",
       "      <th>Tip_Height</th>\n",
       "      <th>Dispense_Speed_AS</th>\n",
       "      <th>Spin_Speed_AS</th>\n",
       "      <th>Volume_AS</th>\n",
       "      <th>Timing_AS</th>\n",
       "      <th>pred_mean</th>\n",
       "      <th>pred_sigma</th>\n",
       "    </tr>\n",
       "  </thead>\n",
       "  <tbody>\n",
       "    <tr>\n",
       "      <th>0</th>\n",
       "      <td>23.5</td>\n",
       "      <td>90.0</td>\n",
       "      <td>1800.0</td>\n",
       "      <td>250.0</td>\n",
       "      <td>4.0</td>\n",
       "      <td>0.117163</td>\n",
       "      <td>2.999985e-09</td>\n",
       "    </tr>\n",
       "    <tr>\n",
       "      <th>1</th>\n",
       "      <td>20.5</td>\n",
       "      <td>340.0</td>\n",
       "      <td>5500.0</td>\n",
       "      <td>140.0</td>\n",
       "      <td>10.0</td>\n",
       "      <td>0.111852</td>\n",
       "      <td>2.999999e-09</td>\n",
       "    </tr>\n",
       "    <tr>\n",
       "      <th>2</th>\n",
       "      <td>6.5</td>\n",
       "      <td>210.0</td>\n",
       "      <td>5700.0</td>\n",
       "      <td>230.0</td>\n",
       "      <td>16.0</td>\n",
       "      <td>0.048912</td>\n",
       "      <td>3.000000e-09</td>\n",
       "    </tr>\n",
       "    <tr>\n",
       "      <th>3</th>\n",
       "      <td>16.0</td>\n",
       "      <td>260.0</td>\n",
       "      <td>1900.0</td>\n",
       "      <td>280.0</td>\n",
       "      <td>5.0</td>\n",
       "      <td>0.153911</td>\n",
       "      <td>6.206393e-02</td>\n",
       "    </tr>\n",
       "    <tr>\n",
       "      <th>4</th>\n",
       "      <td>6.0</td>\n",
       "      <td>70.0</td>\n",
       "      <td>2400.0</td>\n",
       "      <td>160.0</td>\n",
       "      <td>8.0</td>\n",
       "      <td>0.158329</td>\n",
       "      <td>4.710436e-02</td>\n",
       "    </tr>\n",
       "    <tr>\n",
       "      <th>5</th>\n",
       "      <td>7.0</td>\n",
       "      <td>20.0</td>\n",
       "      <td>5600.0</td>\n",
       "      <td>240.0</td>\n",
       "      <td>12.0</td>\n",
       "      <td>0.221726</td>\n",
       "      <td>3.780519e-02</td>\n",
       "    </tr>\n",
       "    <tr>\n",
       "      <th>6</th>\n",
       "      <td>14.5</td>\n",
       "      <td>100.0</td>\n",
       "      <td>1800.0</td>\n",
       "      <td>220.0</td>\n",
       "      <td>14.0</td>\n",
       "      <td>0.172430</td>\n",
       "      <td>3.164219e-02</td>\n",
       "    </tr>\n",
       "    <tr>\n",
       "      <th>7</th>\n",
       "      <td>25.0</td>\n",
       "      <td>340.0</td>\n",
       "      <td>4800.0</td>\n",
       "      <td>290.0</td>\n",
       "      <td>15.0</td>\n",
       "      <td>0.131051</td>\n",
       "      <td>4.599420e-02</td>\n",
       "    </tr>\n",
       "    <tr>\n",
       "      <th>8</th>\n",
       "      <td>48.0</td>\n",
       "      <td>240.0</td>\n",
       "      <td>600.0</td>\n",
       "      <td>220.0</td>\n",
       "      <td>17.0</td>\n",
       "      <td>0.135704</td>\n",
       "      <td>4.465114e-02</td>\n",
       "    </tr>\n",
       "    <tr>\n",
       "      <th>9</th>\n",
       "      <td>18.5</td>\n",
       "      <td>250.0</td>\n",
       "      <td>3800.0</td>\n",
       "      <td>160.0</td>\n",
       "      <td>18.0</td>\n",
       "      <td>0.163718</td>\n",
       "      <td>3.786902e-02</td>\n",
       "    </tr>\n",
       "  </tbody>\n",
       "</table>\n",
       "</div>"
      ],
      "text/plain": [
       "   Tip_Height  Dispense_Speed_AS  Spin_Speed_AS  Volume_AS  Timing_AS  \\\n",
       "0        23.5               90.0         1800.0      250.0        4.0   \n",
       "1        20.5              340.0         5500.0      140.0       10.0   \n",
       "2         6.5              210.0         5700.0      230.0       16.0   \n",
       "3        16.0              260.0         1900.0      280.0        5.0   \n",
       "4         6.0               70.0         2400.0      160.0        8.0   \n",
       "5         7.0               20.0         5600.0      240.0       12.0   \n",
       "6        14.5              100.0         1800.0      220.0       14.0   \n",
       "7        25.0              340.0         4800.0      290.0       15.0   \n",
       "8        48.0              240.0          600.0      220.0       17.0   \n",
       "9        18.5              250.0         3800.0      160.0       18.0   \n",
       "\n",
       "   pred_mean    pred_sigma  \n",
       "0   0.117163  2.999985e-09  \n",
       "1   0.111852  2.999999e-09  \n",
       "2   0.048912  3.000000e-09  \n",
       "3   0.153911  6.206393e-02  \n",
       "4   0.158329  4.710436e-02  \n",
       "5   0.221726  3.780519e-02  \n",
       "6   0.172430  3.164219e-02  \n",
       "7   0.131051  4.599420e-02  \n",
       "8   0.135704  4.465114e-02  \n",
       "9   0.163718  3.786902e-02  "
      ]
     },
     "execution_count": 25,
     "metadata": {},
     "output_type": "execute_result"
    }
   ],
   "source": [
    "np.random.seed(1000)\n",
    "\n",
    "objective_model = GPyModelWrapper(model)\n",
    "bs = 10\n",
    "\n",
    "\n",
    "acquisition = NegativeLowerConfidenceBound(objective_model, beta = 1)#NegativeLowerConfidenceBound(objective_model, beta = beta[i])#ExpectedImprovement(objective_model, jitter=.1)#NegativeLowerConfidenceBound(objective_model, beta = 1)\n",
    "\n",
    "bayesopt= BayesianOptimizationLoop(model=objective_model, \n",
    "                                   space=parameter_space, \n",
    "                                   acquisition=acquisition,\n",
    "                                   batch_size = bs)\n",
    "\n",
    "\n",
    "X_new = bayesopt.candidate_point_calculator.compute_next_points(bayesopt.loop_state)\n",
    "x = get_closest_array(x_denormalizer(X_new,var_array))\n",
    "df_Xnew = pd.DataFrame(x, columns = x_label)\n",
    "u = ss_y*model.predict(x_normalizer(x))[0]\n",
    "sigma = ss_y*model.predict(x_normalizer(x))[1]\n",
    "pred = pd.DataFrame(np.append(u,sigma,axis=1),columns=['pred_mean','pred_sigma'])\n",
    "final = pd.concat([df_Xnew, pred], axis=1)\n",
    "final\n"
   ]
  },
  {
   "cell_type": "code",
   "execution_count": 11,
   "id": "2ff1f1f4",
   "metadata": {},
   "outputs": [],
   "source": [
    "final.to_excel('Intensity cv2_gp.xlsx')"
   ]
  },
  {
   "cell_type": "code",
   "execution_count": 10,
   "id": "3a35b8b6",
   "metadata": {},
   "outputs": [
    {
     "name": "stdout",
     "output_type": "stream",
     "text": [
      "1000000\n",
      "Init point :  [ 9.82405684e-01 -9.01288749e-04 -5.78394161e-03  9.69822682e-01\n",
      " -1.22369147e-02]\n",
      "opt point :  (array([[ 1.00505051, -0.01041667, -0.00769231,  1.02      , -0.03125   ]]), array([[0.01895432]]))\n",
      "acq_max =  [[-0.01895432]]\n",
      "1000000\n",
      "Init point :  [1.00412109 0.30655386 0.75771747 0.99027316 0.99988828]\n",
      "opt point :  (array([[1.00505051, 0.30145502, 0.77174543, 1.02      , 1.03125   ]]), array([[-0.21493637]]))\n",
      "acq_max =  [[0.21493637]]\n",
      "1000000\n",
      "Init point :  [ 0.01024826  1.00656304  0.40503584  0.98590528 -0.01602759]\n",
      "opt point :  (array([[-0.00505051,  1.01041667,  0.68579061,  1.02      , -0.03125   ]]), array([[-3.08356706]]))\n",
      "acq_max =  [[3.08356706]]\n"
     ]
    },
    {
     "data": {
      "text/html": [
       "<div>\n",
       "<style scoped>\n",
       "    .dataframe tbody tr th:only-of-type {\n",
       "        vertical-align: middle;\n",
       "    }\n",
       "\n",
       "    .dataframe tbody tr th {\n",
       "        vertical-align: top;\n",
       "    }\n",
       "\n",
       "    .dataframe thead th {\n",
       "        text-align: right;\n",
       "    }\n",
       "</style>\n",
       "<table border=\"1\" class=\"dataframe\">\n",
       "  <thead>\n",
       "    <tr style=\"text-align: right;\">\n",
       "      <th></th>\n",
       "      <th>Tip_Height</th>\n",
       "      <th>Dispense_Speed_AS</th>\n",
       "      <th>Spin_Speed_AS</th>\n",
       "      <th>Volume_AS</th>\n",
       "      <th>Timing_AS</th>\n",
       "      <th>pred_mean</th>\n",
       "      <th>pred_sigma</th>\n",
       "    </tr>\n",
       "  </thead>\n",
       "  <tbody>\n",
       "    <tr>\n",
       "      <th>0</th>\n",
       "      <td>50.0</td>\n",
       "      <td>20.0</td>\n",
       "      <td>500.0</td>\n",
       "      <td>300.0</td>\n",
       "      <td>2.0</td>\n",
       "      <td>0.016570</td>\n",
       "      <td>0.007291</td>\n",
       "    </tr>\n",
       "    <tr>\n",
       "      <th>1</th>\n",
       "      <td>50.0</td>\n",
       "      <td>160.0</td>\n",
       "      <td>5500.0</td>\n",
       "      <td>300.0</td>\n",
       "      <td>18.0</td>\n",
       "      <td>0.020045</td>\n",
       "      <td>0.022924</td>\n",
       "    </tr>\n",
       "    <tr>\n",
       "      <th>2</th>\n",
       "      <td>0.5</td>\n",
       "      <td>500.0</td>\n",
       "      <td>5000.0</td>\n",
       "      <td>300.0</td>\n",
       "      <td>2.0</td>\n",
       "      <td>0.052797</td>\n",
       "      <td>0.031114</td>\n",
       "    </tr>\n",
       "  </tbody>\n",
       "</table>\n",
       "</div>"
      ],
      "text/plain": [
       "   Tip_Height  Dispense_Speed_AS  Spin_Speed_AS  Volume_AS  Timing_AS  \\\n",
       "0        50.0               20.0          500.0      300.0        2.0   \n",
       "1        50.0              160.0         5500.0      300.0       18.0   \n",
       "2         0.5              500.0         5000.0      300.0        2.0   \n",
       "\n",
       "   pred_mean  pred_sigma  \n",
       "0   0.016570    0.007291  \n",
       "1   0.020045    0.022924  \n",
       "2   0.052797    0.031114  "
      ]
     },
     "execution_count": 10,
     "metadata": {},
     "output_type": "execute_result"
    }
   ],
   "source": [
    "np.random.seed(1000)\n",
    "\n",
    "objective_model = GPyModelWrapper(model)\n",
    "bs = 1\n",
    "\n",
    "beta = [0.1,1,10]\n",
    "recommend_point = []\n",
    "num = 3\n",
    "for i in range(num):\n",
    "\n",
    "    acquisition = NegativeLowerConfidenceBound(objective_model, beta = beta[i])#NegativeLowerConfidenceBound(objective_model, beta = beta[i])#ExpectedImprovement(objective_model, jitter=.1)#NegativeLowerConfidenceBound(objective_model, beta = 1)\n",
    "\n",
    "    bayesopt= BayesianOptimizationLoop(model=objective_model, \n",
    "                                       space=parameter_space, \n",
    "                                       acquisition=acquisition,\n",
    "                                       batch_size = bs)\n",
    "\n",
    "\n",
    "    X_new = bayesopt.candidate_point_calculator.compute_next_points(bayesopt.loop_state)\n",
    "\n",
    "    recommend_point.append(get_closest_array(x_denormalizer(X_new,var_array)))\n",
    "    \n",
    "recommend_point_pd = pd.DataFrame(np.array(recommend_point).reshape(-1,5), columns = x_label)\n",
    "\n",
    "rp = x_normalizer(np.array(recommend_point).reshape(num,5))\n",
    "u = ss_y*model.predict(rp)[0] #均值\n",
    "sigma = ss_y*model.predict(rp)[1] #方差\n",
    "pred = pd.DataFrame(np.append(u,sigma,axis=1),columns=['pred_mean','pred_sigma'])\n",
    "final = pd.concat([recommend_point_pd, pred], axis=1)\n",
    "final"
   ]
  },
  {
   "cell_type": "code",
   "execution_count": null,
   "id": "1051d910",
   "metadata": {},
   "outputs": [],
   "source": []
  }
 ],
 "metadata": {
  "kernelspec": {
   "display_name": "Python 3 (ipykernel)",
   "language": "python",
   "name": "python3"
  },
  "language_info": {
   "codemirror_mode": {
    "name": "ipython",
    "version": 3
   },
   "file_extension": ".py",
   "mimetype": "text/x-python",
   "name": "python",
   "nbconvert_exporter": "python",
   "pygments_lexer": "ipython3",
   "version": "3.9.13"
  }
 },
 "nbformat": 4,
 "nbformat_minor": 5
}
