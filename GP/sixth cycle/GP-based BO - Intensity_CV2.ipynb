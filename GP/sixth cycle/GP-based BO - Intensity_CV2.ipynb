{
 "cells": [
  {
   "cell_type": "code",
   "execution_count": 1,
   "id": "90f66b81",
   "metadata": {},
   "outputs": [],
   "source": [
    "import numpy as np\n",
    "import pandas as pd\n",
    "import matplotlib.pyplot as plt\n",
    "import GPy\n",
    "import random\n",
    "from sklearn.metrics import mean_squared_error\n",
    "from sklearn.metrics import mean_squared_error as mse\n",
    "from emukit.core import ParameterSpace, ContinuousParameter\n",
    "from emukit.model_wrappers import GPyModelWrapper\n",
    "from emukit.bayesian_optimization.loops import BayesianOptimizationLoop\n",
    "from emukit.bayesian_optimization.acquisitions import ExpectedImprovement, \\\n",
    "                                                      NegativeLowerConfidenceBound, \\\n",
    "                                                      MaxValueEntropySearch, \\\n",
    "                                                      ProbabilityOfImprovement\n",
    "from sklearn.preprocessing import StandardScaler,MinMaxScaler\n",
    "from sklearn.model_selection import train_test_split"
   ]
  },
  {
   "cell_type": "code",
   "execution_count": 2,
   "id": "b211b11f",
   "metadata": {},
   "outputs": [],
   "source": [
    "def myplot(y_true_list, y_pred_list,var_list, title_str_list, color_list,region):\n",
    "    fig, axes = plt.subplots(1, 2, figsize=(5.5*2, 4.5))\n",
    "    fs = 18\n",
    "    \n",
    "    for i in range(len(axes)):\n",
    "        axes[i].scatter(y_true_list[i], y_pred_list[i], alpha = 0.6, c = color_list[i])\n",
    "        axes[i].plot(region,region, 'k--', alpha=0.75, zorder=0)\n",
    "        axes[i].errorbar(y_true_list[i],y_pred_list[i], yerr = var_list[i], ms = 0, \n",
    "                 ls = '', capsize = 2, alpha = 0.6,\n",
    "                 color = 'gray', zorder = 0)\n",
    "        axes[i].set_xlabel('Ground Truth', fontsize = fs)\n",
    "        axes[i].set_ylabel('Prediction', fontsize = fs)\n",
    "        axes[i].set_xlim(region)\n",
    "        axes[i].set_ylim(region)\n",
    "        rmse = mse(y_true_list[i],y_pred_list[i],squared=False)\n",
    "        title = title_str_list[i] + \" (RMSE = %.3f)\"%rmse\n",
    "        axes[i].set_title(title, fontsize = fs)\n",
    "        axes[i].grid(True, linestyle='-.')"
   ]
  },
  {
   "cell_type": "code",
   "execution_count": 3,
   "id": "60fca12c",
   "metadata": {},
   "outputs": [],
   "source": [
    "# 参数空间\n",
    "Tip_Height_min, Tip_Height_max, Tip_Height_step = [0.5, 50, 0.5]\n",
    "Tip_Height_var = np.arange(Tip_Height_min, Tip_Height_max+0.1*Tip_Height_step,Tip_Height_step)\n",
    "Tip_Height_num = len(Tip_Height_var)\n",
    "\n",
    "Dispense_Speed_AS_min, Dispense_Speed_AS_max, Dispense_Speed_AS_step = [20,500,10]\n",
    "Dispense_Speed_AS_var = np.arange(Dispense_Speed_AS_min, Dispense_Speed_AS_max+0.1*Dispense_Speed_AS_step,Dispense_Speed_AS_step)\n",
    "Dispense_Speed_AS_num = len(Dispense_Speed_AS_var)\n",
    "\n",
    "Spin_Speed_AS_min, Spin_Speed_AS_max, Spin_Speed_AS_step = [500,7000,100]\n",
    "Spin_Speed_var = np.arange(Spin_Speed_AS_min,Spin_Speed_AS_max+0.1*Spin_Speed_AS_step,Spin_Speed_AS_step)\n",
    "Spin_Speed_num = len(Spin_Speed_var)\n",
    "\n",
    "Volume_AS_min, Volume_AS_max, Volume_AS_step = [50,300,10]\n",
    "Volume_AS_var = np.arange(Volume_AS_min, Volume_AS_max+0.1*Volume_AS_step, Volume_AS_step)\n",
    "Volume_AS_num = len(Volume_AS_var)\n",
    "\n",
    "Timing_AS_min, Timing_AS_max, Timing_AS_step = [2,18,1]\n",
    "Timing_AS_var = np.arange(Timing_AS_min, Timing_AS_max+0.1*Timing_AS_step,Timing_AS_step)\n",
    "Timing_AS_num = len(Timing_AS_var)\n",
    "\n",
    "x_label=[\n",
    "    'Tip_Height',\n",
    "    'Dispense_Speed_AS',\n",
    "    'Spin_Speed_AS',\n",
    "    'Volume_AS',\n",
    "    'Timing_AS'\n",
    "]\n",
    "\n",
    "var_array = [\n",
    "    Tip_Height_var,\n",
    "    Dispense_Speed_AS_var,\n",
    "    Spin_Speed_var,\n",
    "    Volume_AS_var,\n",
    "    Timing_AS_var\n",
    "]\n",
    "\n",
    "\n",
    "def x_normalizer(X, var_array = var_array):\n",
    "    \n",
    "    def max_min_scaler(x, x_max, x_min):\n",
    "        return (x-x_min)/(x_max-x_min)\n",
    "    x_norm = []\n",
    "    for x in (X):\n",
    "           x_norm.append([max_min_scaler(x[i], \n",
    "                         max(var_array[i]), \n",
    "                         min(var_array[i])) for i in range(len(x))])\n",
    "            \n",
    "    return np.array(x_norm)\n",
    "\n",
    "def x_denormalizer(x_norm, var_array = var_array):\n",
    "    \n",
    "    def max_min_rescaler(x, x_max, x_min):\n",
    "        return x*(x_max-x_min)+x_min\n",
    "    x_original = []\n",
    "    for x in (x_norm):\n",
    "           x_original.append([max_min_rescaler(x[i], \n",
    "                              max(var_array[i]), \n",
    "                              min(var_array[i])) for i in range(len(x))])\n",
    "\n",
    "    return np.array(x_original)\n",
    "\n",
    "\n",
    "def get_closest_array(suggested_x):\n",
    "    \n",
    "    def get_closest_value(given_value, array_list):\n",
    "        absolute_difference_function = lambda list_value : abs(list_value - given_value)\n",
    "        closest_value = min(array_list, key=absolute_difference_function)\n",
    "        return closest_value\n",
    "    \n",
    "    var_list = var_array\n",
    "    modified_array = []\n",
    "    for x in suggested_x:\n",
    "        modified_array.append([get_closest_value(x[i], var_list[i]) for i in range(len(x))])\n",
    "    return np.array(modified_array)"
   ]
  },
  {
   "cell_type": "code",
   "execution_count": 4,
   "id": "7580e3f1",
   "metadata": {},
   "outputs": [],
   "source": [
    "data  = pd.read_excel('../高斯过程.xlsx',usecols=[i for i in range(1,9)],sheet_name='round5').dropna()\n",
    "Data = data.values\n",
    "\n",
    "X = Data[:,:5]\n",
    "Y = Data[:,6]\n",
    "\n",
    "X_norm = x_normalizer(X)\n",
    "ss_y = 0.3\n",
    "Y_norm = Y/ss_y \n",
    "\n",
    "Train_X, Test_X, Train_y, Test_y = train_test_split(X_norm, Y_norm, test_size = 0.3,random_state=1)\n"
   ]
  },
  {
   "cell_type": "code",
   "execution_count": 5,
   "id": "470e83ba",
   "metadata": {},
   "outputs": [
    {
     "data": {
      "text/plain": [
       "array([0.57921036, 1.03121747, 0.39792063, 0.75839459, 0.48327929,\n",
       "       0.41032203, 0.33075321, 0.33081659, 0.11184334, 0.2000958 ,\n",
       "       0.75826963, 0.21736726, 0.17069694, 0.32581634, 0.11564557,\n",
       "       0.14920296, 0.43444485, 0.519572  , 0.23401393, 0.26159913,\n",
       "       0.45373809, 0.53990352, 0.88464947, 0.39054193, 0.37283972,\n",
       "       0.16304026, 0.6660023 , 1.22802472, 0.48923303, 0.2896915 ,\n",
       "       0.50768582, 0.38422636, 0.0869071 , 0.20470687, 0.23269881,\n",
       "       0.30328455, 0.12840877, 0.17210343, 0.12232588])"
      ]
     },
     "execution_count": 5,
     "metadata": {},
     "output_type": "execute_result"
    }
   ],
   "source": [
    "Y_norm"
   ]
  },
  {
   "cell_type": "code",
   "execution_count": 5,
   "id": "ecda39fd",
   "metadata": {},
   "outputs": [
    {
     "data": {
      "text/plain": [
       "(47, 8)"
      ]
     },
     "execution_count": 5,
     "metadata": {},
     "output_type": "execute_result"
    }
   ],
   "source": [
    "data.shape"
   ]
  },
  {
   "cell_type": "code",
   "execution_count": 7,
   "id": "9b0e5504",
   "metadata": {},
   "outputs": [
    {
     "data": {
      "text/plain": [
       "array([0.2896915 , 0.30328455, 0.0869071 , 1.22802472, 0.48327929,\n",
       "       0.11564557, 0.75826963, 0.23269881, 0.39054193, 0.37283972,\n",
       "       0.20470687, 0.45373809, 0.23401393, 0.33075321, 0.32581634,\n",
       "       0.33081659, 0.12232588, 1.03121747, 0.43444485, 0.57921036,\n",
       "       0.14920296, 0.41032203, 0.21736726, 0.2000958 , 0.11184334,\n",
       "       0.17069694, 0.17210343])"
      ]
     },
     "execution_count": 7,
     "metadata": {},
     "output_type": "execute_result"
    }
   ],
   "source": [
    "Train_y"
   ]
  },
  {
   "cell_type": "code",
   "execution_count": 10,
   "id": "04b9d54b",
   "metadata": {
    "scrolled": true
   },
   "outputs": [
    {
     "name": "stderr",
     "output_type": "stream",
     "text": [
      "reconstraining parameters Mat52.lengthscale\n",
      "reconstraining parameters Mat52.variance\n"
     ]
    },
    {
     "name": "stdout",
     "output_type": "stream",
     "text": [
      "Optimization restart 1/50, f = 7.442134297110689\n",
      "Optimization restart 2/50, f = 7.490791339847876\n",
      "Optimization restart 3/50, f = 7.407714773564013\n",
      "Optimization restart 4/50, f = 7.40771441515029\n",
      "Optimization restart 5/50, f = 7.407715185377885\n",
      "Optimization restart 6/50, f = 7.407714437637603\n",
      "Optimization restart 7/50, f = 7.490789794325458\n",
      "Optimization restart 8/50, f = 7.407714400780046\n",
      "Optimization restart 9/50, f = 7.4077144007223\n",
      "Optimization restart 10/50, f = 7.44213428721549\n",
      "Optimization restart 11/50, f = 7.407714426468928\n",
      "Optimization restart 12/50, f = 7.442132367831308\n",
      "Optimization restart 13/50, f = 7.407714648529291\n",
      "Optimization restart 14/50, f = 7.442142545061468\n",
      "Optimization restart 15/50, f = 7.442136852217589\n",
      "Optimization restart 16/50, f = 7.442130794658526\n",
      "Optimization restart 17/50, f = 7.407714606045364\n",
      "Optimization restart 18/50, f = 7.490791750184993\n",
      "Optimization restart 19/50, f = 7.407715547260681\n",
      "Optimization restart 20/50, f = 7.407714410970183\n",
      "Optimization restart 21/50, f = 7.407714521566858\n",
      "Optimization restart 22/50, f = 7.442131075806049\n",
      "Optimization restart 23/50, f = 7.4077144662573815\n",
      "Optimization restart 24/50, f = 7.442134766751817\n",
      "Optimization restart 25/50, f = 7.442134139213648\n",
      "Optimization restart 26/50, f = 7.407714404648424\n",
      "Optimization restart 27/50, f = 7.442274201901853\n",
      "Optimization restart 28/50, f = 7.407714428090038\n",
      "Optimization restart 29/50, f = 7.442141174220875\n",
      "Optimization restart 30/50, f = 7.407714409282743\n",
      "Optimization restart 31/50, f = 7.442134031993783\n",
      "Optimization restart 32/50, f = 7.44213469432802\n",
      "Optimization restart 33/50, f = 7.407715663226858\n",
      "Optimization restart 34/50, f = 7.407714400635754\n",
      "Optimization restart 35/50, f = 7.442134378476636\n",
      "Optimization restart 36/50, f = 7.407718866264021\n",
      "Optimization restart 37/50, f = 7.407714938596799\n",
      "Optimization restart 38/50, f = 7.4077145014225785\n",
      "Optimization restart 39/50, f = 7.4421343024671\n",
      "Optimization restart 40/50, f = 7.407714426812763\n",
      "Optimization restart 41/50, f = 7.490789930693323\n",
      "Optimization restart 42/50, f = 7.442110628050397\n",
      "Optimization restart 43/50, f = 7.40771440065968\n",
      "Optimization restart 44/50, f = 7.407714419106167\n",
      "Optimization restart 45/50, f = 7.407714536733671\n",
      "Optimization restart 46/50, f = 7.4421208533886585\n",
      "Optimization restart 47/50, f = 7.490792066943644\n",
      "Optimization restart 48/50, f = 7.490789909898005\n",
      "Optimization restart 49/50, f = 7.407714401657369\n",
      "Optimization restart 50/50, f = 7.407714401254809\n"
     ]
    },
    {
     "data": {
      "application/vnd.jupyter.widget-view+json": {
       "model_id": "2def282c95c34c3aa6732060d743731b",
       "version_major": 2,
       "version_minor": 0
      },
      "text/plain": [
       "HBox(children=(VBox(children=(IntProgress(value=0, max=1000), HTML(value=''))), Box(children=(HTML(value=''),)…"
      ]
     },
     "metadata": {},
     "output_type": "display_data"
    }
   ],
   "source": [
    "rbf = GPy.kern.RBF(input_dim=5, variance=1., lengthscale=1.,ARD=True)\n",
    "linear = GPy.kern.Linear(input_dim=5,ARD =True)\n",
    "m52 = GPy.kern.Matern52(input_dim = 5, ARD =True)\n",
    "m52.lengthscale.constrain_bounded(1e-2, 1)\n",
    "m52.variance.constrain_bounded(1e-1, 1000.0)\n",
    "\n",
    "kernel = m52\n",
    "model_gpy = GPy.models.GPRegression(Train_X,Train_y.reshape(-1,1),kernel)\n",
    "\n",
    "model_gpy.randomize()\n",
    "model_gpy.optimize_restarts(num_restarts = 50)\n",
    "model_gpy.optimize(messages=True)\n",
    "\n",
    "y_pred_train = model_gpy.predict(Train_X)[0].ravel()\n",
    "y_pred_test = model_gpy.predict(Test_X)[0].ravel()\n",
    "var_train = np.sqrt(model_gpy.predict(Train_X)[1]).ravel()\n",
    "var_test = np.sqrt(model_gpy.predict(Test_X)[1]).ravel()"
   ]
  },
  {
   "cell_type": "code",
   "execution_count": 11,
   "id": "4862eab3",
   "metadata": {},
   "outputs": [
    {
     "data": {
      "image/png": "[encoded data removed]",
      "text/plain": [
       "<Figure size 1100x450 with 2 Axes>"
      ]
     },
     "metadata": {},
     "output_type": "display_data"
    }
   ],
   "source": [
    "myplot([Train_y,Test_y],[y_pred_train,y_pred_test],[var_train,var_test],\n",
    "       [\"Train - Peak cv\",\"Test - Peak cv\"],\n",
    "       [\"blue\",\"orange\"],\n",
    "      [-0.5,1])\n",
    "#plt.savefig('result',dpi=1000)"
   ]
  },
  {
   "cell_type": "code",
   "execution_count": 12,
   "id": "92f30132",
   "metadata": {
    "scrolled": true
   },
   "outputs": [
    {
     "name": "stderr",
     "output_type": "stream",
     "text": [
      "reconstraining parameters Mat52.lengthscale\n",
      "reconstraining parameters Mat52.variance\n"
     ]
    },
    {
     "name": "stdout",
     "output_type": "stream",
     "text": [
      "Optimization restart 1/50, f = 3.8965889426330484\n",
      "Optimization restart 2/50, f = 3.896586930372436\n",
      "Optimization restart 3/50, f = 3.8965869224704193\n",
      "Optimization restart 4/50, f = 5.932381753649544\n",
      "Optimization restart 5/50, f = 3.896586929873198\n",
      "Optimization restart 6/50, f = 4.526896356083245\n",
      "Optimization restart 7/50, f = 5.8852665649280205\n",
      "Optimization restart 8/50, f = 3.8965869445078702\n",
      "Optimization restart 9/50, f = 3.896586932560922\n",
      "Optimization restart 10/50, f = 3.1268275291201775\n",
      "Optimization restart 11/50, f = 3.1268275231300606\n",
      "Optimization restart 12/50, f = 3.8965869173419314\n",
      "Optimization restart 13/50, f = 3.896591302085735\n",
      "Optimization restart 14/50, f = 5.885154842103052\n",
      "Optimization restart 15/50, f = 3.8965869432594182\n",
      "Optimization restart 16/50, f = 5.932381219460101\n",
      "Optimization restart 17/50, f = 3.896586949927979\n",
      "Optimization restart 18/50, f = 3.1268275302380673\n",
      "Optimization restart 19/50, f = 5.932380300847409\n",
      "Optimization restart 20/50, f = 3.8965869285765002\n",
      "Optimization restart 21/50, f = 3.8965870021684594\n",
      "Optimization restart 22/50, f = 3.896589311594443\n",
      "Optimization restart 23/50, f = 5.93241636941227\n",
      "Optimization restart 24/50, f = 3.8965869392567782\n",
      "Optimization restart 25/50, f = 3.8965870601381702\n",
      "Optimization restart 26/50, f = 5.885260219616153\n",
      "Optimization restart 27/50, f = 3.8965869893288634\n",
      "Optimization restart 28/50, f = 5.93238101483098\n",
      "Optimization restart 29/50, f = 5.932380350099084\n",
      "Optimization restart 30/50, f = 3.896586996981892\n",
      "Optimization restart 31/50, f = 3.8965869233598163\n",
      "Optimization restart 32/50, f = 5.885266157676373\n",
      "Optimization restart 33/50, f = 5.932380307853915\n",
      "Optimization restart 34/50, f = 3.896587238955462\n",
      "Optimization restart 35/50, f = 3.8965869333341665\n",
      "Optimization restart 36/50, f = 3.8965869358313867\n",
      "Optimization restart 37/50, f = 3.126827530992646\n",
      "Optimization restart 38/50, f = 3.126827555063695\n",
      "Optimization restart 39/50, f = 3.8965869351269724\n",
      "Optimization restart 40/50, f = 3.1268275321537544\n",
      "Optimization restart 41/50, f = 5.97580950584231\n",
      "Optimization restart 42/50, f = 5.885266911437007\n",
      "Optimization restart 43/50, f = 3.8965866537488445\n",
      "Optimization restart 44/50, f = 3.8965870635585667\n",
      "Optimization restart 45/50, f = 5.9323803137019375\n",
      "Optimization restart 46/50, f = 5.932380341880876\n",
      "Optimization restart 47/50, f = 3.896585979549645\n",
      "Optimization restart 48/50, f = 3.8965869347030875\n",
      "Optimization restart 49/50, f = 3.896587032966817\n",
      "Optimization restart 50/50, f = 3.896586932278357\n"
     ]
    },
    {
     "data": {
      "application/vnd.jupyter.widget-view+json": {
       "model_id": "9f7a3b3b6f904c35b7d3322b6d9cf34a",
       "version_major": 2,
       "version_minor": 0
      },
      "text/plain": [
       "HBox(children=(VBox(children=(IntProgress(value=0, max=1000), HTML(value=''))), Box(children=(HTML(value=''),)…"
      ]
     },
     "metadata": {},
     "output_type": "display_data"
    },
    {
     "data": {
      "text/plain": [
       "<paramz.optimization.optimization.opt_lbfgsb at 0x23a9e7c0190>"
      ]
     },
     "execution_count": 12,
     "metadata": {},
     "output_type": "execute_result"
    }
   ],
   "source": [
    "X_normalize = x_normalizer(Data[:,:5])\n",
    "Y_normalize = Data[:,6]/ss_y\n",
    "\n",
    "rbf =  GPy.kern.RBF(input_dim=5, variance=1., lengthscale=1.,ARD=True)\n",
    "linear = GPy.kern.Linear(input_dim=5,ARD =True)\n",
    "\n",
    "m52 = GPy.kern.Matern52(input_dim = 5, ARD =True)\n",
    "m52.lengthscale.constrain_bounded(1e-2, 1)\n",
    "m52.variance.constrain_bounded(1e-1, 1000.0)\n",
    "\n",
    "kernel = m52\n",
    "model = GPy.models.GPRegression(X_normalize,Y_normalize.reshape(-1,1),kernel)\n",
    "\n",
    "model.randomize()\n",
    "model.optimize_restarts(num_restarts = 50)\n",
    "model.optimize(messages=True)"
   ]
  },
  {
   "cell_type": "code",
   "execution_count": 13,
   "id": "6ee53f76",
   "metadata": {},
   "outputs": [
    {
     "name": "stdout",
     "output_type": "stream",
     "text": [
      "0.022114909734158326\n"
     ]
    },
    {
     "data": {
      "image/png": "[encoded data removed]",
      "text/plain": [
       "<Figure size 640x480 with 1 Axes>"
      ]
     },
     "metadata": {},
     "output_type": "display_data"
    }
   ],
   "source": [
    "y_pred = model.predict(X_normalize)[0]\n",
    "plt.scatter(Y_normalize,y_pred,c='b',alpha=0.6)\n",
    "plt.plot([0,1],[0,1], 'k--', alpha=0.75, zorder=0)\n",
    "print(mse(Y_normalize,y_pred,squared=False))"
   ]
  },
  {
   "cell_type": "code",
   "execution_count": 14,
   "id": "33e260e6",
   "metadata": {},
   "outputs": [
    {
     "data": {
      "text/plain": [
       "[ContinuousParameter(Tip_Height, -0.005050505050505051, 1.005050505050505),\n",
       " ContinuousParameter(Dispense_Speed_AS, -0.010416666666666666, 1.0104166666666667),\n",
       " ContinuousParameter(Spin_Speed, -0.007692307692307693, 1.0076923076923077),\n",
       " ContinuousParameter(Volume_AS, -0.02, 1.02),\n",
       " ContinuousParameter(Timing_AS, -0.03125, 1.03125)]"
      ]
     },
     "execution_count": 14,
     "metadata": {},
     "output_type": "execute_result"
    }
   ],
   "source": [
    "parameter_space = ParameterSpace([ContinuousParameter('Tip_Height', 0-1/(Tip_Height_num-1)/2, 1+1/(Tip_Height_num-1)/2),\n",
    "                                  ContinuousParameter('Dispense_Speed_AS', 0-1/(Dispense_Speed_AS_num-1)/2, 1+1/(Dispense_Speed_AS_num-1)/2),\n",
    "                                  ContinuousParameter('Spin_Speed', 0-1/(Spin_Speed_num-1)/2, 1+1/(Spin_Speed_num-1)/2),\n",
    "                                  ContinuousParameter('Volume_AS', 0-1/(Volume_AS_num-1)/2, 1+1/(Volume_AS_num-1)/2),\n",
    "                                  ContinuousParameter('Timing_AS', 0-1/(Timing_AS_num-1)/2, 1+1/(Timing_AS_num-1)/2)\n",
    "                                  \n",
    "                                  ])\n",
    "parameter_space.parameters"
   ]
  },
  {
   "cell_type": "code",
   "execution_count": 25,
   "id": "5af66744",
   "metadata": {},
   "outputs": [
    {
     "name": "stdout",
     "output_type": "stream",
     "text": [
      "1000000\n",
      "LPP\n"
     ]
    },
    {
     "name": "stderr",
     "output_type": "stream",
     "text": [
      " D:\\Anaconda\\lib\\site-packages\\emukit-0.4.10-py3.9.egg\\emukit\\bayesian_optimization\\acquisitions\\log_acquisition.py:25: RuntimeWarning:invalid value encountered in log\n"
     ]
    },
    {
     "name": "stdout",
     "output_type": "stream",
     "text": [
      "Init point :  [0.46538428 0.14174281 0.2063762  0.79678339 0.13500668]\n",
      "opt point :  (array([[0.46538428, 0.14174281, 0.2063762 , 0.79678339, 0.13500668]]), array([[nan]]))\n",
      "acq_max =  [[nan]]\n",
      "Init point :  [0.40654548 0.65710037 0.76375203 0.34645683 0.48595222]\n",
      "opt point :  (array([[0.40654548, 0.65710037, 0.76375203, 0.34645683, 0.48595222]]), array([[nan]]))\n",
      "acq_max =  [[nan]]\n",
      "Init point :  [0.12557292 0.40123953 0.79458869 0.73835624 0.89446184]\n",
      "opt point :  (array([[0.12557292, 0.40123953, 0.79458869, 0.73835624, 0.89446184]]), array([[nan]]))\n",
      "acq_max =  [[nan]]\n",
      "Init point :  [0.3114754  0.49468542 0.21246399 0.91643559 0.1817743 ]\n",
      "opt point :  (array([[0.3114754 , 0.49468542, 0.21246399, 0.91643559, 0.1817743 ]]), array([[nan]]))\n",
      "acq_max =  [[nan]]\n",
      "Init point :  [0.11277673 0.11031596 0.28555327 0.43468651 0.35519231]\n",
      "opt point :  (array([[0.11277673, 0.11031596, 0.28555327, 0.43468651, 0.35519231]]), array([[nan]]))\n",
      "acq_max =  [[nan]]\n",
      "Init point :  [0.13359687 0.00280644 0.7831102  0.74766433 0.61578028]\n",
      "opt point :  (array([[0.13359687, 0.00280644, 0.7831102 , 0.74766433, 0.61578028]]), array([[nan]]))\n",
      "acq_max =  [[nan]]\n",
      "Init point :  [0.28617552 0.16827454 0.20453137 0.66640317 0.71906288]\n",
      "opt point :  (array([[0.28617552, 0.16827454, 0.20453137, 0.66640317, 0.71906288]]), array([[nan]]))\n",
      "acq_max =  [[nan]]\n",
      "Init point :  [0.49481169 0.66689089 0.65616682 0.94258354 0.82261802]\n",
      "opt point :  (array([[0.49481169, 0.66689089, 0.65616682, 0.94258354, 0.82261802]]), array([[nan]]))\n",
      "acq_max =  [[nan]]\n",
      "Init point :  [0.9629768  0.4483608  0.01851203 0.66282886 0.91255967]\n",
      "opt point :  (array([[0.9629768 , 0.4483608 , 0.01851203, 0.66282886, 0.91255967]]), array([[nan]]))\n",
      "acq_max =  [[nan]]\n",
      "Init point :  [0.36307337 0.48156384 0.5146481  0.42388729 1.0261676 ]\n",
      "opt point :  (array([[0.36307337, 0.48156384, 0.5146481 , 0.42388729, 1.0261676 ]]), array([[nan]]))\n",
      "acq_max =  [[nan]]\n"
     ]
    },
    {
     "data": {
      "text/html": [
       "<div>\n",
       "<style scoped>\n",
       "    .dataframe tbody tr th:only-of-type {\n",
       "        vertical-align: middle;\n",
       "    }\n",
       "\n",
       "    .dataframe tbody tr th {\n",
       "        vertical-align: top;\n",
       "    }\n",
       "\n",
       "    .dataframe thead th {\n",
       "        text-align: right;\n",
       "    }\n",
       "</style>\n",
       "<table border=\"1\" class=\"dataframe\">\n",
       "  <thead>\n",
       "    <tr style=\"text-align: right;\">\n",
       "      <th></th>\n",
       "      <th>Tip_Height</th>\n",
       "      <th>Dispense_Speed_AS</th>\n",
       "      <th>Spin_Speed_AS</th>\n",
       "      <th>Volume_AS</th>\n",
       "      <th>Timing_AS</th>\n",
       "      <th>pred_mean</th>\n",
       "      <th>pred_sigma</th>\n",
       "    </tr>\n",
       "  </thead>\n",
       "  <tbody>\n",
       "    <tr>\n",
       "      <th>0</th>\n",
       "      <td>23.5</td>\n",
       "      <td>90.0</td>\n",
       "      <td>1800.0</td>\n",
       "      <td>250.0</td>\n",
       "      <td>4.0</td>\n",
       "      <td>0.117163</td>\n",
       "      <td>2.999985e-09</td>\n",
       "    </tr>\n",
       "    <tr>\n",
       "      <th>1</th>\n",
       "      <td>20.5</td>\n",
       "      <td>340.0</td>\n",
       "      <td>5500.0</td>\n",
       "      <td>140.0</td>\n",
       "      <td>10.0</td>\n",
       "      <td>0.111852</td>\n",
       "      <td>2.999999e-09</td>\n",
       "    </tr>\n",
       "    <tr>\n",
       "      <th>2</th>\n",
       "      <td>6.5</td>\n",
       "      <td>210.0</td>\n",
       "      <td>5700.0</td>\n",
       "      <td>230.0</td>\n",
       "      <td>16.0</td>\n",
       "      <td>0.048912</td>\n",
       "      <td>3.000000e-09</td>\n",
       "    </tr>\n",
       "    <tr>\n",
       "      <th>3</th>\n",
       "      <td>16.0</td>\n",
       "      <td>260.0</td>\n",
       "      <td>1900.0</td>\n",
       "      <td>280.0</td>\n",
       "      <td>5.0</td>\n",
       "      <td>0.153911</td>\n",
       "      <td>6.206393e-02</td>\n",
       "    </tr>\n",
       "    <tr>\n",
       "      <th>4</th>\n",
       "      <td>6.0</td>\n",
       "      <td>70.0</td>\n",
       "      <td>2400.0</td>\n",
       "      <td>160.0</td>\n",
       "      <td>8.0</td>\n",
       "      <td>0.158329</td>\n",
       "      <td>4.710436e-02</td>\n",
       "    </tr>\n",
       "    <tr>\n",
       "      <th>5</th>\n",
       "      <td>7.0</td>\n",
       "      <td>20.0</td>\n",
       "      <td>5600.0</td>\n",
       "      <td>240.0</td>\n",
       "      <td>12.0</td>\n",
       "      <td>0.221726</td>\n",
       "      <td>3.780519e-02</td>\n",
       "    </tr>\n",
       "    <tr>\n",
       "      <th>6</th>\n",
       "      <td>14.5</td>\n",
       "      <td>100.0</td>\n",
       "      <td>1800.0</td>\n",
       "      <td>220.0</td>\n",
       "      <td>14.0</td>\n",
       "      <td>0.172430</td>\n",
       "      <td>3.164219e-02</td>\n",
       "    </tr>\n",
       "    <tr>\n",
       "      <th>7</th>\n",
       "      <td>25.0</td>\n",
       "      <td>340.0</td>\n",
       "      <td>4800.0</td>\n",
       "      <td>290.0</td>\n",
       "      <td>15.0</td>\n",
       "      <td>0.131051</td>\n",
       "      <td>4.599420e-02</td>\n",
       "    </tr>\n",
       "    <tr>\n",
       "      <th>8</th>\n",
       "      <td>48.0</td>\n",
       "      <td>240.0</td>\n",
       "      <td>600.0</td>\n",
       "      <td>220.0</td>\n",
       "      <td>17.0</td>\n",
       "      <td>0.135704</td>\n",
       "      <td>4.465114e-02</td>\n",
       "    </tr>\n",
       "    <tr>\n",
       "      <th>9</th>\n",
       "      <td>18.5</td>\n",
       "      <td>250.0</td>\n",
       "      <td>3800.0</td>\n",
       "      <td>160.0</td>\n",
       "      <td>18.0</td>\n",
       "      <td>0.163718</td>\n",
       "      <td>3.786902e-02</td>\n",
       "    </tr>\n",
       "  </tbody>\n",
       "</table>\n",
       "</div>"
      ],
      "text/plain": [
       "   Tip_Height  Dispense_Speed_AS  Spin_Speed_AS  Volume_AS  Timing_AS  \\\n",
       "0        23.5               90.0         1800.0      250.0        4.0   \n",
       "1        20.5              340.0         5500.0      140.0       10.0   \n",
       "2         6.5              210.0         5700.0      230.0       16.0   \n",
       "3        16.0              260.0         1900.0      280.0        5.0   \n",
       "4         6.0               70.0         2400.0      160.0        8.0   \n",
       "5         7.0               20.0         5600.0      240.0       12.0   \n",
       "6        14.5              100.0         1800.0      220.0       14.0   \n",
       "7        25.0              340.0         4800.0      290.0       15.0   \n",
       "8        48.0              240.0          600.0      220.0       17.0   \n",
       "9        18.5              250.0         3800.0      160.0       18.0   \n",
       "\n",
       "   pred_mean    pred_sigma  \n",
       "0   0.117163  2.999985e-09  \n",
       "1   0.111852  2.999999e-09  \n",
       "2   0.048912  3.000000e-09  \n",
       "3   0.153911  6.206393e-02  \n",
       "4   0.158329  4.710436e-02  \n",
       "5   0.221726  3.780519e-02  \n",
       "6   0.172430  3.164219e-02  \n",
       "7   0.131051  4.599420e-02  \n",
       "8   0.135704  4.465114e-02  \n",
       "9   0.163718  3.786902e-02  "
      ]
     },
     "execution_count": 25,
     "metadata": {},
     "output_type": "execute_result"
    }
   ],
   "source": [
    "np.random.seed(1000)\n",
    "\n",
    "objective_model = GPyModelWrapper(model)\n",
    "bs = 10\n",
    "\n",
    "\n",
    "acquisition = NegativeLowerConfidenceBound(objective_model, beta = 1)#NegativeLowerConfidenceBound(objective_model, beta = beta[i])#ExpectedImprovement(objective_model, jitter=.1)#NegativeLowerConfidenceBound(objective_model, beta = 1)\n",
    "\n",
    "bayesopt= BayesianOptimizationLoop(model=objective_model, \n",
    "                                   space=parameter_space, \n",
    "                                   acquisition=acquisition,\n",
    "                                   batch_size = bs)\n",
    "\n",
    "\n",
    "X_new = bayesopt.candidate_point_calculator.compute_next_points(bayesopt.loop_state)\n",
    "x = get_closest_array(x_denormalizer(X_new,var_array))\n",
    "df_Xnew = pd.DataFrame(x, columns = x_label)\n",
    "u = ss_y*model.predict(x_normalizer(x))[0]\n",
    "sigma = ss_y*model.predict(x_normalizer(x))[1]\n",
    "pred = pd.DataFrame(np.append(u,sigma,axis=1),columns=['pred_mean','pred_sigma'])\n",
    "final = pd.concat([df_Xnew, pred], axis=1)\n",
    "final\n"
   ]
  },
  {
   "cell_type": "code",
   "execution_count": 16,
   "id": "2ff1f1f4",
   "metadata": {},
   "outputs": [],
   "source": [
    "final.to_excel('Intensity cv2_gp.xlsx')"
   ]
  },
  {
   "cell_type": "code",
   "execution_count": 15,
   "id": "3a35b8b6",
   "metadata": {},
   "outputs": [
    {
     "name": "stdout",
     "output_type": "stream",
     "text": [
      "1000000\n",
      "Init point :  [-7.91670773e-04 -3.31039970e-03  6.42308343e-01  9.36779052e-01\n",
      "  1.02639358e+00]\n",
      "opt point :  (array([[-0.00505051, -0.01041667,  0.60706374,  1.02      ,  1.03125   ]]), array([[0.02664467]]))\n",
      "acq_max =  [[-0.02664467]]\n",
      "1000000\n",
      "Init point :  [0.99634655 0.00595192 0.53369478 1.01991324 1.02283091]\n",
      "opt point :  (array([[ 1.00505051, -0.01041667,  0.52074282,  1.02      ,  1.03125   ]]), array([[-0.20913666]]))\n",
      "acq_max =  [[0.20913666]]\n",
      "1000000\n",
      "Init point :  [0.98953004 0.02711746 0.51253678 0.05370243 1.02627034]\n",
      "opt point :  (array([[ 1.00505051, -0.01041667,  0.49453438, -0.02      ,  1.03125   ]]), array([[-3.32666559]]))\n",
      "acq_max =  [[3.32666559]]\n"
     ]
    },
    {
     "data": {
      "text/html": [
       "<div>\n",
       "<style scoped>\n",
       "    .dataframe tbody tr th:only-of-type {\n",
       "        vertical-align: middle;\n",
       "    }\n",
       "\n",
       "    .dataframe tbody tr th {\n",
       "        vertical-align: top;\n",
       "    }\n",
       "\n",
       "    .dataframe thead th {\n",
       "        text-align: right;\n",
       "    }\n",
       "</style>\n",
       "<table border=\"1\" class=\"dataframe\">\n",
       "  <thead>\n",
       "    <tr style=\"text-align: right;\">\n",
       "      <th></th>\n",
       "      <th>Tip_Height</th>\n",
       "      <th>Dispense_Speed_AS</th>\n",
       "      <th>Spin_Speed_AS</th>\n",
       "      <th>Volume_AS</th>\n",
       "      <th>Timing_AS</th>\n",
       "      <th>pred_mean</th>\n",
       "      <th>pred_sigma</th>\n",
       "    </tr>\n",
       "  </thead>\n",
       "  <tbody>\n",
       "    <tr>\n",
       "      <th>0</th>\n",
       "      <td>0.5</td>\n",
       "      <td>20.0</td>\n",
       "      <td>4400.0</td>\n",
       "      <td>300.0</td>\n",
       "      <td>18.0</td>\n",
       "      <td>0.017129</td>\n",
       "      <td>0.018830</td>\n",
       "    </tr>\n",
       "    <tr>\n",
       "      <th>1</th>\n",
       "      <td>50.0</td>\n",
       "      <td>20.0</td>\n",
       "      <td>3900.0</td>\n",
       "      <td>300.0</td>\n",
       "      <td>18.0</td>\n",
       "      <td>0.037255</td>\n",
       "      <td>0.032125</td>\n",
       "    </tr>\n",
       "    <tr>\n",
       "      <th>2</th>\n",
       "      <td>50.0</td>\n",
       "      <td>20.0</td>\n",
       "      <td>3700.0</td>\n",
       "      <td>50.0</td>\n",
       "      <td>18.0</td>\n",
       "      <td>0.041079</td>\n",
       "      <td>0.035445</td>\n",
       "    </tr>\n",
       "  </tbody>\n",
       "</table>\n",
       "</div>"
      ],
      "text/plain": [
       "   Tip_Height  Dispense_Speed_AS  Spin_Speed_AS  Volume_AS  Timing_AS  \\\n",
       "0         0.5               20.0         4400.0      300.0       18.0   \n",
       "1        50.0               20.0         3900.0      300.0       18.0   \n",
       "2        50.0               20.0         3700.0       50.0       18.0   \n",
       "\n",
       "   pred_mean  pred_sigma  \n",
       "0   0.017129    0.018830  \n",
       "1   0.037255    0.032125  \n",
       "2   0.041079    0.035445  "
      ]
     },
     "execution_count": 15,
     "metadata": {},
     "output_type": "execute_result"
    }
   ],
   "source": [
    "np.random.seed(1000)\n",
    "\n",
    "objective_model = GPyModelWrapper(model)\n",
    "bs = 1\n",
    "\n",
    "beta = [0.1,1,10]\n",
    "recommend_point = []\n",
    "num = 3\n",
    "for i in range(num):\n",
    "\n",
    "    acquisition = NegativeLowerConfidenceBound(objective_model, beta = beta[i])#NegativeLowerConfidenceBound(objective_model, beta = beta[i])#ExpectedImprovement(objective_model, jitter=.1)#NegativeLowerConfidenceBound(objective_model, beta = 1)\n",
    "\n",
    "    bayesopt= BayesianOptimizationLoop(model=objective_model, \n",
    "                                       space=parameter_space, \n",
    "                                       acquisition=acquisition,\n",
    "                                       batch_size = bs)\n",
    "\n",
    "\n",
    "    X_new = bayesopt.candidate_point_calculator.compute_next_points(bayesopt.loop_state)\n",
    "\n",
    "    recommend_point.append(get_closest_array(x_denormalizer(X_new,var_array)))\n",
    "    \n",
    "recommend_point_pd = pd.DataFrame(np.array(recommend_point).reshape(-1,5), columns = x_label)\n",
    "\n",
    "rp = x_normalizer(np.array(recommend_point).reshape(num,5))\n",
    "u = ss_y*model.predict(rp)[0] #均值\n",
    "sigma = ss_y*model.predict(rp)[1] #方差\n",
    "pred = pd.DataFrame(np.append(u,sigma,axis=1),columns=['pred_mean','pred_sigma'])\n",
    "final = pd.concat([recommend_point_pd, pred], axis=1)\n",
    "final"
   ]
  },
  {
   "cell_type": "code",
   "execution_count": null,
   "id": "1051d910",
   "metadata": {},
   "outputs": [],
   "source": []
  }
 ],
 "metadata": {
  "kernelspec": {
   "display_name": "Python 3 (ipykernel)",
   "language": "python",
   "name": "python3"
  },
  "language_info": {
   "codemirror_mode": {
    "name": "ipython",
    "version": 3
   },
   "file_extension": ".py",
   "mimetype": "text/x-python",
   "name": "python",
   "nbconvert_exporter": "python",
   "pygments_lexer": "ipython3",
   "version": "3.9.13"
  }
 },
 "nbformat": 4,
 "nbformat_minor": 5
}
