{
 "cells": [
  {
   "cell_type": "code",
   "execution_count": 1,
   "id": "90f66b81",
   "metadata": {},
   "outputs": [],
   "source": [
    "import numpy as np\n",
    "import pandas as pd\n",
    "import matplotlib.pyplot as plt\n",
    "import GPy\n",
    "import random\n",
    "from sklearn.metrics import mean_squared_error\n",
    "from sklearn.metrics import mean_squared_error as mse\n",
    "from emukit.core import ParameterSpace, ContinuousParameter\n",
    "from emukit.model_wrappers import GPyModelWrapper\n",
    "from emukit.bayesian_optimization.loops import BayesianOptimizationLoop\n",
    "from emukit.bayesian_optimization.acquisitions import ExpectedImprovement, \\\n",
    "                                                      NegativeLowerConfidenceBound, \\\n",
    "                                                      MaxValueEntropySearch, \\\n",
    "                                                      ProbabilityOfImprovement\n",
    "from sklearn.preprocessing import StandardScaler,MinMaxScaler\n",
    "from sklearn.model_selection import train_test_split"
   ]
  },
  {
   "cell_type": "code",
   "execution_count": 2,
   "id": "b211b11f",
   "metadata": {},
   "outputs": [],
   "source": [
    "def myplot(y_true_list, y_pred_list,var_list, title_str_list, color_list,region):\n",
    "    fig, axes = plt.subplots(1, 2, figsize=(5.5*2, 4.5))\n",
    "    fs = 18\n",
    "    \n",
    "    for i in range(len(axes)):\n",
    "        axes[i].scatter(y_true_list[i], y_pred_list[i], alpha = 0.6, c = color_list[i])\n",
    "        axes[i].plot(region,region, 'k--', alpha=0.75, zorder=0)\n",
    "        axes[i].errorbar(y_true_list[i],y_pred_list[i], yerr = var_list[i], ms = 0, \n",
    "                 ls = '', capsize = 2, alpha = 0.6,\n",
    "                 color = 'gray', zorder = 0)\n",
    "        axes[i].set_xlabel('Ground Truth', fontsize = fs)\n",
    "        axes[i].set_ylabel('Prediction', fontsize = fs)\n",
    "        axes[i].set_xlim(region)\n",
    "        axes[i].set_ylim(region)\n",
    "        rmse = mse(y_true_list[i],y_pred_list[i],squared=False)\n",
    "        title = title_str_list[i] + \" (RMSE = %.3f)\"%rmse\n",
    "        axes[i].set_title(title, fontsize = fs)\n",
    "        axes[i].grid(True, linestyle='-.')"
   ]
  },
  {
   "cell_type": "code",
   "execution_count": 3,
   "id": "60fca12c",
   "metadata": {},
   "outputs": [],
   "source": [
    "# 参数空间\n",
    "Tip_Height_min, Tip_Height_max, Tip_Height_step = [0.5, 50, 0.5]\n",
    "Tip_Height_var = np.arange(Tip_Height_min, Tip_Height_max+0.1*Tip_Height_step,Tip_Height_step)\n",
    "Tip_Height_num = len(Tip_Height_var)\n",
    "\n",
    "Dispense_Speed_AS_min, Dispense_Speed_AS_max, Dispense_Speed_AS_step = [20,500,10]\n",
    "Dispense_Speed_AS_var = np.arange(Dispense_Speed_AS_min, Dispense_Speed_AS_max+0.1*Dispense_Speed_AS_step,Dispense_Speed_AS_step)\n",
    "Dispense_Speed_AS_num = len(Dispense_Speed_AS_var)\n",
    "\n",
    "Spin_Speed_AS_min, Spin_Speed_AS_max, Spin_Speed_AS_step = [500,7000,100]\n",
    "Spin_Speed_var = np.arange(Spin_Speed_AS_min,Spin_Speed_AS_max+0.1*Spin_Speed_AS_step,Spin_Speed_AS_step)\n",
    "Spin_Speed_num = len(Spin_Speed_var)\n",
    "\n",
    "Volume_AS_min, Volume_AS_max, Volume_AS_step = [50,300,10]\n",
    "Volume_AS_var = np.arange(Volume_AS_min, Volume_AS_max+0.1*Volume_AS_step, Volume_AS_step)\n",
    "Volume_AS_num = len(Volume_AS_var)\n",
    "\n",
    "Timing_AS_min, Timing_AS_max, Timing_AS_step = [2,18,1]\n",
    "Timing_AS_var = np.arange(Timing_AS_min, Timing_AS_max+0.1*Timing_AS_step,Timing_AS_step)\n",
    "Timing_AS_num = len(Timing_AS_var)\n",
    "\n",
    "x_label=[\n",
    "    'Tip_Height',\n",
    "    'Dispense_Speed_AS',\n",
    "    'Spin_Speed_AS',\n",
    "    'Volume_AS',\n",
    "    'Timing_AS'\n",
    "]\n",
    "\n",
    "var_array = [\n",
    "    Tip_Height_var,\n",
    "    Dispense_Speed_AS_var,\n",
    "    Spin_Speed_var,\n",
    "    Volume_AS_var,\n",
    "    Timing_AS_var\n",
    "]\n",
    "\n",
    "\n",
    "def x_normalizer(X, var_array = var_array):\n",
    "    \n",
    "    def max_min_scaler(x, x_max, x_min):\n",
    "        return (x-x_min)/(x_max-x_min)\n",
    "    x_norm = []\n",
    "    for x in (X):\n",
    "           x_norm.append([max_min_scaler(x[i], \n",
    "                         max(var_array[i]), \n",
    "                         min(var_array[i])) for i in range(len(x))])\n",
    "            \n",
    "    return np.array(x_norm)\n",
    "\n",
    "def x_denormalizer(x_norm, var_array = var_array):\n",
    "    \n",
    "    def max_min_rescaler(x, x_max, x_min):\n",
    "        return x*(x_max-x_min)+x_min\n",
    "    x_original = []\n",
    "    for x in (x_norm):\n",
    "           x_original.append([max_min_rescaler(x[i], \n",
    "                              max(var_array[i]), \n",
    "                              min(var_array[i])) for i in range(len(x))])\n",
    "\n",
    "    return np.array(x_original)\n",
    "\n",
    "\n",
    "def get_closest_array(suggested_x):\n",
    "    \n",
    "    def get_closest_value(given_value, array_list):\n",
    "        absolute_difference_function = lambda list_value : abs(list_value - given_value)\n",
    "        closest_value = min(array_list, key=absolute_difference_function)\n",
    "        return closest_value\n",
    "    \n",
    "    var_list = var_array\n",
    "    modified_array = []\n",
    "    for x in suggested_x:\n",
    "        modified_array.append([get_closest_value(x[i], var_list[i]) for i in range(len(x))])\n",
    "    return np.array(modified_array)"
   ]
  },
  {
   "cell_type": "code",
   "execution_count": 4,
   "id": "7580e3f1",
   "metadata": {},
   "outputs": [],
   "source": [
    "data  = pd.read_excel('../高斯过程.xlsx',usecols=[i for i in range(1,9)],sheet_name='round5').dropna()\n",
    "Data = data.values\n",
    "\n",
    "X = Data[:,:5]\n",
    "Y = Data[:,7]\n",
    "\n",
    "X_norm = x_normalizer(X)\n",
    "ss_y = 0.003\n",
    "Y_norm = Y/ss_y \n",
    "\n",
    "Train_X, Test_X, Train_y, Test_y = train_test_split(X_norm, Y_norm, test_size = 0.3,random_state=1)\n"
   ]
  },
  {
   "cell_type": "code",
   "execution_count": 5,
   "id": "f5f1fe62",
   "metadata": {},
   "outputs": [
    {
     "data": {
      "text/plain": [
       "(47, 8)"
      ]
     },
     "execution_count": 5,
     "metadata": {},
     "output_type": "execute_result"
    }
   ],
   "source": [
    "data.shape"
   ]
  },
  {
   "cell_type": "code",
   "execution_count": 6,
   "id": "6f2625b5",
   "metadata": {},
   "outputs": [
    {
     "data": {
      "text/plain": [
       "(32, 5)"
      ]
     },
     "execution_count": 6,
     "metadata": {},
     "output_type": "execute_result"
    }
   ],
   "source": [
    "Train_X.shape"
   ]
  },
  {
   "cell_type": "code",
   "execution_count": 7,
   "id": "04b9d54b",
   "metadata": {
    "scrolled": true
   },
   "outputs": [
    {
     "name": "stderr",
     "output_type": "stream",
     "text": [
      "reconstraining parameters Mat52.lengthscale\n",
      "reconstraining parameters Mat52.variance\n"
     ]
    },
    {
     "name": "stdout",
     "output_type": "stream",
     "text": [
      "Optimization restart 1/50, f = 4.721674035185725\n",
      "Optimization restart 2/50, f = 4.721664974690203\n",
      "Optimization restart 3/50, f = 4.721666721824791\n",
      "Optimization restart 4/50, f = 4.721665325832575\n",
      "Optimization restart 5/50, f = 4.721664980588258\n",
      "Optimization restart 6/50, f = 4.721665385648446\n",
      "Optimization restart 7/50, f = 4.721665502419743\n",
      "Optimization restart 8/50, f = 4.7216687413654\n",
      "Optimization restart 9/50, f = 4.721670634915746\n",
      "Optimization restart 10/50, f = 4.721665205855469\n",
      "Optimization restart 11/50, f = 4.721664987891831\n",
      "Optimization restart 12/50, f = 4.721668115841068\n",
      "Optimization restart 13/50, f = 4.721666062622981\n",
      "Optimization restart 14/50, f = 4.7216667757724675\n",
      "Optimization restart 15/50, f = 4.721672186194276\n",
      "Optimization restart 16/50, f = 4.721666551638295\n",
      "Optimization restart 17/50, f = 4.72166679835437\n",
      "Optimization restart 18/50, f = 4.721665400220395\n",
      "Optimization restart 19/50, f = 4.721665005828431\n",
      "Optimization restart 20/50, f = 4.721665419737182\n",
      "Optimization restart 21/50, f = 4.72166766114352\n",
      "Optimization restart 22/50, f = 4.72167746103899\n",
      "Optimization restart 23/50, f = 4.721666755126558\n",
      "Optimization restart 24/50, f = 4.72166558672062\n",
      "Optimization restart 25/50, f = 4.721666508455467\n",
      "Optimization restart 26/50, f = 4.7216657498595325\n",
      "Optimization restart 27/50, f = 4.721666255383589\n",
      "Optimization restart 28/50, f = 4.721665923222828\n",
      "Optimization restart 29/50, f = 4.72167327434072\n",
      "Optimization restart 30/50, f = 4.721666161562718\n",
      "Optimization restart 31/50, f = 4.721670601172583\n",
      "Optimization restart 32/50, f = 4.721670564169374\n",
      "Optimization restart 33/50, f = 4.721667168399442\n",
      "Optimization restart 34/50, f = 4.721668777007652\n",
      "Optimization restart 35/50, f = 4.721664976914571\n",
      "Optimization restart 36/50, f = 4.7216672611064965\n",
      "Optimization restart 37/50, f = 4.721664986386999\n",
      "Optimization restart 38/50, f = 4.721682945690141\n",
      "Optimization restart 39/50, f = 4.721668225238783\n",
      "Optimization restart 40/50, f = 4.721665181566834\n",
      "Optimization restart 41/50, f = 4.721666642954213\n",
      "Optimization restart 42/50, f = 4.7216666976741895\n",
      "Optimization restart 43/50, f = 4.721666280012464\n",
      "Optimization restart 44/50, f = 4.721664974138321\n",
      "Optimization restart 45/50, f = 4.721667299212337\n",
      "Optimization restart 46/50, f = 4.72166497844994\n",
      "Optimization restart 47/50, f = 4.721664981861709\n",
      "Optimization restart 48/50, f = 4.721664988990581\n",
      "Optimization restart 49/50, f = 4.721665061051672\n",
      "Optimization restart 50/50, f = 4.721666286878113\n"
     ]
    },
    {
     "data": {
      "application/vnd.jupyter.widget-view+json": {
       "model_id": "fdca72a4e62b4bb29895cb2a8bb3bdec",
       "version_major": 2,
       "version_minor": 0
      },
      "text/plain": [
       "HBox(children=(VBox(children=(IntProgress(value=0, max=1000), HTML(value=''))), Box(children=(HTML(value=''),)…"
      ]
     },
     "metadata": {},
     "output_type": "display_data"
    }
   ],
   "source": [
    "rbf = GPy.kern.RBF(input_dim=5, variance=1., lengthscale=1.,ARD=True)\n",
    "linear = GPy.kern.Linear(input_dim=5,ARD =True)\n",
    "m52 = GPy.kern.Matern52(input_dim = 5, ARD =True)\n",
    "m52.lengthscale.constrain_bounded(1e-2, 1)\n",
    "m52.variance.constrain_bounded(1e-1, 1000.0)\n",
    "#poly = GPy.kern.Poly(input_dim=5)\n",
    "kernel = m52\n",
    "model_gpy = GPy.models.GPRegression(Train_X,Train_y.reshape(-1,1),kernel)\n",
    "\n",
    "model_gpy.randomize()\n",
    "model_gpy.optimize_restarts(num_restarts = 50)\n",
    "model_gpy.optimize(messages=True)\n",
    "\n",
    "y_pred_train = model_gpy.predict(Train_X)[0].ravel()\n",
    "y_pred_test = model_gpy.predict(Test_X)[0].ravel()\n",
    "var_train = np.sqrt(model_gpy.predict(Train_X)[1]).ravel()\n",
    "var_test = np.sqrt(model_gpy.predict(Test_X)[1]).ravel()"
   ]
  },
  {
   "cell_type": "code",
   "execution_count": 8,
   "id": "4862eab3",
   "metadata": {},
   "outputs": [
    {
     "data": {
      "image/png": "[encoded data removed]",
      "text/plain": [
       "<Figure size 1100x450 with 2 Axes>"
      ]
     },
     "metadata": {},
     "output_type": "display_data"
    }
   ],
   "source": [
    "myplot([Train_y,Test_y],[y_pred_train,y_pred_test],[var_train,var_test],\n",
    "       [\"Train - Peak cv\",\"Test - Peak cv\"],\n",
    "       [\"blue\",\"orange\"],\n",
    "      [-0.5,1])\n",
    "#plt.savefig('result',dpi=1000)"
   ]
  },
  {
   "cell_type": "code",
   "execution_count": 9,
   "id": "3c1564de",
   "metadata": {
    "scrolled": true
   },
   "outputs": [
    {
     "name": "stderr",
     "output_type": "stream",
     "text": [
      "reconstraining parameters Mat52.lengthscale\n",
      "reconstraining parameters Mat52.variance\n"
     ]
    },
    {
     "name": "stdout",
     "output_type": "stream",
     "text": [
      "Optimization restart 1/50, f = -1.3496339471654117\n",
      "Optimization restart 2/50, f = -1.3496337095373931\n",
      "Optimization restart 3/50, f = -1.3496332170673107\n",
      "Optimization restart 4/50, f = -1.3496337225348647\n",
      "Optimization restart 5/50, f = -1.3496335456286346\n",
      "Optimization restart 6/50, f = -1.3496339740478867\n",
      "Optimization restart 7/50, f = -1.3496339131968647\n",
      "Optimization restart 8/50, f = -1.3496339824863135\n",
      "Optimization restart 9/50, f = -1.3496322582069098\n",
      "Optimization restart 10/50, f = -1.3496331872700047\n",
      "Optimization restart 11/50, f = -1.3496339718789052\n",
      "Optimization restart 12/50, f = -1.3496334439122393\n",
      "Optimization restart 13/50, f = -1.3496339073750363\n",
      "Optimization restart 14/50, f = -1.3496334082959223\n",
      "Optimization restart 15/50, f = -1.349633062819212\n",
      "Optimization restart 16/50, f = -1.3496335040572305\n",
      "Optimization restart 17/50, f = -1.3496338188795676\n",
      "Optimization restart 18/50, f = -1.3496336698444296\n",
      "Optimization restart 19/50, f = -1.3496265908309866\n",
      "Optimization restart 20/50, f = -1.349633981343466\n",
      "Optimization restart 21/50, f = -1.3496337379690395\n",
      "Optimization restart 22/50, f = -1.3496339715911319\n",
      "Optimization restart 23/50, f = -1.3496328884143018\n",
      "Optimization restart 24/50, f = -1.3496327241953487\n",
      "Optimization restart 25/50, f = -1.3496335578722167\n",
      "Optimization restart 26/50, f = -1.3496338808242179\n",
      "Optimization restart 27/50, f = -1.3496338344782153\n",
      "Optimization restart 28/50, f = -1.3496338440614721\n",
      "Optimization restart 29/50, f = -1.3496334830547028\n",
      "Optimization restart 30/50, f = -1.3496338896761735\n",
      "Optimization restart 31/50, f = -1.3496339824236827\n",
      "Optimization restart 32/50, f = -1.3496321381083902\n",
      "Optimization restart 33/50, f = -1.3496339803553248\n",
      "Optimization restart 34/50, f = -1.349633734211043\n",
      "Optimization restart 35/50, f = -1.3496339485976634\n",
      "Optimization restart 36/50, f = -1.3496337302048396\n",
      "Optimization restart 37/50, f = -1.349633859113215\n",
      "Optimization restart 38/50, f = -1.3496336460974199\n",
      "Optimization restart 39/50, f = -1.349633542062442\n",
      "Optimization restart 40/50, f = -1.3496326694987921\n",
      "Optimization restart 41/50, f = -1.3496335518702978\n",
      "Optimization restart 42/50, f = -1.3496339656577803\n",
      "Optimization restart 43/50, f = -1.3496329739667345\n",
      "Optimization restart 44/50, f = -1.3496337602824404\n",
      "Optimization restart 45/50, f = -1.3496338363985956\n",
      "Optimization restart 46/50, f = -1.3496339020965458\n",
      "Optimization restart 47/50, f = -1.349633981509136\n",
      "Optimization restart 48/50, f = -3.17355142312298\n",
      "Optimization restart 49/50, f = -1.3496323687318714\n",
      "Optimization restart 50/50, f = -1.3496336421665838\n"
     ]
    },
    {
     "data": {
      "application/vnd.jupyter.widget-view+json": {
       "model_id": "1367060e02064a318518301bc5641f23",
       "version_major": 2,
       "version_minor": 0
      },
      "text/plain": [
       "HBox(children=(VBox(children=(IntProgress(value=0, max=1000), HTML(value=''))), Box(children=(HTML(value=''),)…"
      ]
     },
     "metadata": {},
     "output_type": "display_data"
    },
    {
     "data": {
      "text/plain": [
       "<paramz.optimization.optimization.opt_lbfgsb at 0x17ff6831670>"
      ]
     },
     "execution_count": 9,
     "metadata": {},
     "output_type": "execute_result"
    }
   ],
   "source": [
    "X_normalize = x_normalizer(Data[:,:5])\n",
    "Y_normalize = Data[:,7]/ss_y\n",
    "m52 = GPy.kern.sde_Matern52(input_dim=5,ARD =True)\n",
    "rbf =  GPy.kern.RBF(input_dim=5, variance=1., lengthscale=1.,ARD=True)\n",
    "linear = GPy.kern.Linear(input_dim=5,ARD =True)\n",
    "m52 = GPy.kern.Matern52(input_dim = 5, ARD =True)\n",
    "m52.lengthscale.constrain_bounded(1e-2, 1)\n",
    "m52.variance.constrain_bounded(1e-1, 1000.0)\n",
    "kernel = m52\n",
    "model = GPy.models.GPRegression(X_normalize,Y_normalize.reshape(-1,1),kernel)\n",
    "\n",
    "\n",
    "\n",
    "model.randomize()\n",
    "model.optimize_restarts(num_restarts = 50)\n",
    "model.optimize(messages=True)"
   ]
  },
  {
   "cell_type": "code",
   "execution_count": 10,
   "id": "917be3e1",
   "metadata": {},
   "outputs": [
    {
     "name": "stdout",
     "output_type": "stream",
     "text": [
      "0.0016202948493953162\n"
     ]
    },
    {
     "data": {
      "image/png": "[encoded data removed]",
      "text/plain": [
       "<Figure size 640x480 with 1 Axes>"
      ]
     },
     "metadata": {},
     "output_type": "display_data"
    }
   ],
   "source": [
    "y_pred = model.predict(X_normalize)[0]\n",
    "plt.scatter(Y_normalize,y_pred,c='b',alpha=0.6)\n",
    "plt.plot([0,1],[0,1], 'k--', alpha=0.75, zorder=0)\n",
    "print(mse(Y_normalize,y_pred,squared=False))"
   ]
  },
  {
   "cell_type": "code",
   "execution_count": 11,
   "id": "33e260e6",
   "metadata": {},
   "outputs": [
    {
     "data": {
      "text/plain": [
       "[ContinuousParameter(Tip_Height, -0.005050505050505051, 1.005050505050505),\n",
       " ContinuousParameter(Dispense_Speed_AS, -0.010416666666666666, 1.0104166666666667),\n",
       " ContinuousParameter(Spin_Speed, -0.007692307692307693, 1.0076923076923077),\n",
       " ContinuousParameter(Volume_AS, -0.02, 1.02),\n",
       " ContinuousParameter(Timing_AS, -0.03125, 1.03125)]"
      ]
     },
     "execution_count": 11,
     "metadata": {},
     "output_type": "execute_result"
    }
   ],
   "source": [
    "parameter_space = ParameterSpace([ContinuousParameter('Tip_Height', 0-1/(Tip_Height_num-1)/2, 1+1/(Tip_Height_num-1)/2),\n",
    "                                  ContinuousParameter('Dispense_Speed_AS', 0-1/(Dispense_Speed_AS_num-1)/2, 1+1/(Dispense_Speed_AS_num-1)/2),\n",
    "                                  ContinuousParameter('Spin_Speed', 0-1/(Spin_Speed_num-1)/2, 1+1/(Spin_Speed_num-1)/2),\n",
    "                                  ContinuousParameter('Volume_AS', 0-1/(Volume_AS_num-1)/2, 1+1/(Volume_AS_num-1)/2),\n",
    "                                  ContinuousParameter('Timing_AS', 0-1/(Timing_AS_num-1)/2, 1+1/(Timing_AS_num-1)/2)\n",
    "                                  \n",
    "                                  ])\n",
    "parameter_space.parameters"
   ]
  },
  {
   "cell_type": "code",
   "execution_count": 22,
   "id": "66170708",
   "metadata": {},
   "outputs": [
    {
     "name": "stdout",
     "output_type": "stream",
     "text": [
      "1000000\n",
      "LPP\n"
     ]
    },
    {
     "name": "stderr",
     "output_type": "stream",
     "text": [
      " D:\\Anaconda\\lib\\site-packages\\emukit-0.4.10-py3.9.egg\\emukit\\bayesian_optimization\\acquisitions\\log_acquisition.py:25: RuntimeWarning:invalid value encountered in log\n"
     ]
    },
    {
     "name": "stdout",
     "output_type": "stream",
     "text": [
      "Init point :  [0.46538428 0.14174281 0.2063762  0.79678339 0.13500668]\n",
      "opt point :  (array([[0.46538428, 0.14174281, 0.2063762 , 0.79678339, 0.13500668]]), array([[nan]]))\n",
      "acq_max =  [[nan]]\n",
      "Init point :  [0.2900123  0.80174498 0.14451664 0.0076728  0.25450386]\n",
      "opt point :  (array([[0.2900123 , 0.80174498, 0.14451664, 0.0076728 , 0.25450386]]), array([[nan]]))\n",
      "acq_max =  [[nan]]\n",
      "Init point :  [0.78215543 0.61269504 0.67363696 0.19938139 0.45603455]\n",
      "opt point :  (array([[0.78215543, 0.61269504, 0.67363696, 0.19938139, 0.45603455]]), array([[nan]]))\n",
      "acq_max =  [[nan]]\n"
     ]
    },
    {
     "data": {
      "text/html": [
       "<div>\n",
       "<style scoped>\n",
       "    .dataframe tbody tr th:only-of-type {\n",
       "        vertical-align: middle;\n",
       "    }\n",
       "\n",
       "    .dataframe tbody tr th {\n",
       "        vertical-align: top;\n",
       "    }\n",
       "\n",
       "    .dataframe thead th {\n",
       "        text-align: right;\n",
       "    }\n",
       "</style>\n",
       "<table border=\"1\" class=\"dataframe\">\n",
       "  <thead>\n",
       "    <tr style=\"text-align: right;\">\n",
       "      <th></th>\n",
       "      <th>Tip_Height</th>\n",
       "      <th>Dispense_Speed_AS</th>\n",
       "      <th>Spin_Speed_AS</th>\n",
       "      <th>Volume_AS</th>\n",
       "      <th>Timing_AS</th>\n",
       "      <th>pred_mean</th>\n",
       "      <th>pred_sigma</th>\n",
       "    </tr>\n",
       "  </thead>\n",
       "  <tbody>\n",
       "    <tr>\n",
       "      <th>0</th>\n",
       "      <td>23.5</td>\n",
       "      <td>90.0</td>\n",
       "      <td>1800.0</td>\n",
       "      <td>250.0</td>\n",
       "      <td>4.0</td>\n",
       "      <td>0.000551</td>\n",
       "      <td>2.999982e-11</td>\n",
       "    </tr>\n",
       "    <tr>\n",
       "      <th>1</th>\n",
       "      <td>15.0</td>\n",
       "      <td>400.0</td>\n",
       "      <td>1400.0</td>\n",
       "      <td>50.0</td>\n",
       "      <td>6.0</td>\n",
       "      <td>0.001946</td>\n",
       "      <td>1.674707e-04</td>\n",
       "    </tr>\n",
       "    <tr>\n",
       "      <th>2</th>\n",
       "      <td>39.0</td>\n",
       "      <td>310.0</td>\n",
       "      <td>4900.0</td>\n",
       "      <td>100.0</td>\n",
       "      <td>9.0</td>\n",
       "      <td>0.000904</td>\n",
       "      <td>9.564855e-05</td>\n",
       "    </tr>\n",
       "  </tbody>\n",
       "</table>\n",
       "</div>"
      ],
      "text/plain": [
       "   Tip_Height  Dispense_Speed_AS  Spin_Speed_AS  Volume_AS  Timing_AS  \\\n",
       "0        23.5               90.0         1800.0      250.0        4.0   \n",
       "1        15.0              400.0         1400.0       50.0        6.0   \n",
       "2        39.0              310.0         4900.0      100.0        9.0   \n",
       "\n",
       "   pred_mean    pred_sigma  \n",
       "0   0.000551  2.999982e-11  \n",
       "1   0.001946  1.674707e-04  \n",
       "2   0.000904  9.564855e-05  "
      ]
     },
     "execution_count": 22,
     "metadata": {},
     "output_type": "execute_result"
    }
   ],
   "source": [
    "np.random.seed(1000)\n",
    "\n",
    "objective_model = GPyModelWrapper(model)\n",
    "bs = 3\n",
    "\n",
    "\n",
    "acquisition = NegativeLowerConfidenceBound(objective_model, beta = 1)#NegativeLowerConfidenceBound(objective_model, beta = beta[i])#ExpectedImprovement(objective_model, jitter=.1)#NegativeLowerConfidenceBound(objective_model, beta = 1)\n",
    "\n",
    "bayesopt= BayesianOptimizationLoop(model=objective_model, \n",
    "                                   space=parameter_space, \n",
    "                                   acquisition=acquisition,\n",
    "                                   batch_size = bs)\n",
    "\n",
    "\n",
    "X_new = bayesopt.candidate_point_calculator.compute_next_points(bayesopt.loop_state)\n",
    "x = get_closest_array(x_denormalizer(X_new,var_array))\n",
    "df_Xnew = pd.DataFrame(x, columns = x_label)\n",
    "u = ss_y*model.predict(x_normalizer(x))[0]\n",
    "sigma = ss_y*model.predict(x_normalizer(x))[1]\n",
    "pred = pd.DataFrame(np.append(u,sigma,axis=1),columns=['pred_mean','pred_sigma'])\n",
    "final = pd.concat([df_Xnew, pred], axis=1)\n",
    "final\n"
   ]
  },
  {
   "cell_type": "code",
   "execution_count": 23,
   "id": "39e4b2d5",
   "metadata": {},
   "outputs": [],
   "source": [
    "final.to_excel('Peak cv2_gp.xlsx')"
   ]
  },
  {
   "cell_type": "code",
   "execution_count": null,
   "id": "4fed4173",
   "metadata": {},
   "outputs": [],
   "source": []
  },
  {
   "cell_type": "code",
   "execution_count": null,
   "id": "78b3834a",
   "metadata": {},
   "outputs": [],
   "source": []
  },
  {
   "cell_type": "code",
   "execution_count": null,
   "id": "66b88f9c",
   "metadata": {},
   "outputs": [],
   "source": []
  },
  {
   "cell_type": "code",
   "execution_count": null,
   "id": "6e5a40c8",
   "metadata": {},
   "outputs": [],
   "source": []
  },
  {
   "cell_type": "code",
   "execution_count": null,
   "id": "21619b75",
   "metadata": {},
   "outputs": [],
   "source": []
  },
  {
   "cell_type": "code",
   "execution_count": null,
   "id": "3f90be3b",
   "metadata": {},
   "outputs": [],
   "source": []
  },
  {
   "cell_type": "code",
   "execution_count": null,
   "id": "39360183",
   "metadata": {},
   "outputs": [],
   "source": []
  },
  {
   "cell_type": "code",
   "execution_count": 12,
   "id": "5af66744",
   "metadata": {},
   "outputs": [
    {
     "name": "stdout",
     "output_type": "stream",
     "text": [
      "1000000\n",
      "Init point :  [0.99497966 0.04048829 0.09301096 0.27448538 0.24521907]\n",
      "opt point :  (array([[ 1.00505051, -0.01041667,  0.1481288 ,  0.26043262,  0.24010035]]), array([[-0.06835849]]))\n",
      "acq_max =  [[0.06835849]]\n",
      "1000000\n",
      "Init point :  [ 0.98414089 -0.00569975  0.73038765  0.27375537 -0.02303719]\n",
      "opt point :  (array([[ 1.00505051, -0.01041667,  0.8625594 ,  0.25538333, -0.03125   ]]), array([[-0.30603944]]))\n",
      "acq_max =  [[0.30603944]]\n",
      "1000000\n",
      "Init point :  [ 0.96815535  1.01018495  0.67005734  0.56809389 -0.02089239]\n",
      "opt point :  (array([[ 1.00505051,  1.01041667,  1.00769231,  0.56553454, -0.03125   ]]), array([[-3.00950424]]))\n",
      "acq_max =  [[3.00950424]]\n"
     ]
    },
    {
     "data": {
      "text/html": [
       "<div>\n",
       "<style scoped>\n",
       "    .dataframe tbody tr th:only-of-type {\n",
       "        vertical-align: middle;\n",
       "    }\n",
       "\n",
       "    .dataframe tbody tr th {\n",
       "        vertical-align: top;\n",
       "    }\n",
       "\n",
       "    .dataframe thead th {\n",
       "        text-align: right;\n",
       "    }\n",
       "</style>\n",
       "<table border=\"1\" class=\"dataframe\">\n",
       "  <thead>\n",
       "    <tr style=\"text-align: right;\">\n",
       "      <th></th>\n",
       "      <th>Tip_Height</th>\n",
       "      <th>Dispense_Speed_AS</th>\n",
       "      <th>Spin_Speed_AS</th>\n",
       "      <th>Volume_AS</th>\n",
       "      <th>Timing_AS</th>\n",
       "      <th>pred_mean</th>\n",
       "      <th>pred_sigma</th>\n",
       "    </tr>\n",
       "  </thead>\n",
       "  <tbody>\n",
       "    <tr>\n",
       "      <th>0</th>\n",
       "      <td>50.0</td>\n",
       "      <td>20.0</td>\n",
       "      <td>1500.0</td>\n",
       "      <td>120.0</td>\n",
       "      <td>6.0</td>\n",
       "      <td>-0.000131</td>\n",
       "      <td>0.000163</td>\n",
       "    </tr>\n",
       "    <tr>\n",
       "      <th>1</th>\n",
       "      <td>50.0</td>\n",
       "      <td>20.0</td>\n",
       "      <td>6100.0</td>\n",
       "      <td>110.0</td>\n",
       "      <td>2.0</td>\n",
       "      <td>-0.000066</td>\n",
       "      <td>0.000236</td>\n",
       "    </tr>\n",
       "    <tr>\n",
       "      <th>2</th>\n",
       "      <td>50.0</td>\n",
       "      <td>500.0</td>\n",
       "      <td>7000.0</td>\n",
       "      <td>190.0</td>\n",
       "      <td>2.0</td>\n",
       "      <td>0.000063</td>\n",
       "      <td>0.000273</td>\n",
       "    </tr>\n",
       "  </tbody>\n",
       "</table>\n",
       "</div>"
      ],
      "text/plain": [
       "   Tip_Height  Dispense_Speed_AS  Spin_Speed_AS  Volume_AS  Timing_AS  \\\n",
       "0        50.0               20.0         1500.0      120.0        6.0   \n",
       "1        50.0               20.0         6100.0      110.0        2.0   \n",
       "2        50.0              500.0         7000.0      190.0        2.0   \n",
       "\n",
       "   pred_mean  pred_sigma  \n",
       "0  -0.000131    0.000163  \n",
       "1  -0.000066    0.000236  \n",
       "2   0.000063    0.000273  "
      ]
     },
     "execution_count": 12,
     "metadata": {},
     "output_type": "execute_result"
    }
   ],
   "source": [
    "np.random.seed(1000)\n",
    "\n",
    "objective_model = GPyModelWrapper(model)\n",
    "bs = 1\n",
    "\n",
    "beta = [0.1,1,10]\n",
    "recommend_point = []\n",
    "num = 3\n",
    "for i in range(num):\n",
    "\n",
    "    acquisition = NegativeLowerConfidenceBound(objective_model, beta = beta[i])#NegativeLowerConfidenceBound(objective_model, beta = beta[i])#ExpectedImprovement(objective_model, jitter=.1)#NegativeLowerConfidenceBound(objective_model, beta = 1)\n",
    "\n",
    "    bayesopt= BayesianOptimizationLoop(model=objective_model, \n",
    "                                       space=parameter_space, \n",
    "                                       acquisition=acquisition,\n",
    "                                       batch_size = bs)\n",
    "\n",
    "\n",
    "    X_new = bayesopt.candidate_point_calculator.compute_next_points(bayesopt.loop_state)\n",
    "\n",
    "    recommend_point.append(get_closest_array(x_denormalizer(X_new,var_array)))\n",
    "    \n",
    "recommend_point_pd = pd.DataFrame(np.array(recommend_point).reshape(-1,5), columns = x_label)\n",
    "\n",
    "rp = x_normalizer(np.array(recommend_point).reshape(num,5))\n",
    "u = ss_y*model.predict(rp)[0] #均值\n",
    "sigma = ss_y*model.predict(rp)[1] #方差\n",
    "pred = pd.DataFrame(np.append(u,sigma,axis=1),columns=['pred_mean','pred_sigma'])\n",
    "final = pd.concat([recommend_point_pd, pred], axis=1)\n",
    "final"
   ]
  },
  {
   "cell_type": "code",
   "execution_count": 13,
   "id": "31e3b003",
   "metadata": {},
   "outputs": [],
   "source": [
    "final.to_excel('Peak cv2_gp.xlsx')"
   ]
  },
  {
   "cell_type": "code",
   "execution_count": null,
   "id": "15a838c9",
   "metadata": {},
   "outputs": [],
   "source": []
  }
 ],
 "metadata": {
  "kernelspec": {
   "display_name": "Python 3 (ipykernel)",
   "language": "python",
   "name": "python3"
  },
  "language_info": {
   "codemirror_mode": {
    "name": "ipython",
    "version": 3
   },
   "file_extension": ".py",
   "mimetype": "text/x-python",
   "name": "python",
   "nbconvert_exporter": "python",
   "pygments_lexer": "ipython3",
   "version": "3.9.13"
  }
 },
 "nbformat": 4,
 "nbformat_minor": 5
}
