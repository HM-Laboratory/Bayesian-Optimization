{
 "cells": [
  {
   "cell_type": "code",
   "execution_count": 1,
   "id": "90f66b81",
   "metadata": {},
   "outputs": [],
   "source": [
    "import numpy as np\n",
    "import pandas as pd\n",
    "import matplotlib.pyplot as plt\n",
    "import GPy\n",
    "import random\n",
    "from sklearn.metrics import mean_squared_error\n",
    "from sklearn.metrics import mean_squared_error as mse\n",
    "from emukit.core import ParameterSpace, ContinuousParameter\n",
    "from emukit.model_wrappers import GPyModelWrapper\n",
    "from emukit.bayesian_optimization.loops import BayesianOptimizationLoop\n",
    "from emukit.bayesian_optimization.acquisitions import ExpectedImprovement, \\\n",
    "                                                      NegativeLowerConfidenceBound, \\\n",
    "                                                      MaxValueEntropySearch, \\\n",
    "                                                      ProbabilityOfImprovement\n",
    "from sklearn.preprocessing import StandardScaler,MinMaxScaler"
   ]
  },
  {
   "cell_type": "code",
   "execution_count": 2,
   "id": "b211b11f",
   "metadata": {},
   "outputs": [],
   "source": [
    "def myplot(y_true_list, y_pred_list,var_list, title_str_list, color_list,region):\n",
    "    fig, axes = plt.subplots(1, 2, figsize=(5.5*2, 4.5))\n",
    "    fs = 18\n",
    "    \n",
    "    for i in range(len(axes)):\n",
    "        axes[i].scatter(y_true_list[i], y_pred_list[i], alpha = 0.6, c = color_list[i])\n",
    "        axes[i].plot(region,region, 'k--', alpha=0.75, zorder=0)\n",
    "        axes[i].errorbar(y_true_list[i],y_pred_list[i], yerr = var_list[i], ms = 0, \n",
    "                 ls = '', capsize = 2, alpha = 0.6,\n",
    "                 color = 'gray', zorder = 0)\n",
    "        axes[i].set_xlabel('Ground Truth', fontsize = fs)\n",
    "        axes[i].set_ylabel('Prediction', fontsize = fs)\n",
    "        axes[i].set_xlim(region)\n",
    "        axes[i].set_ylim(region)\n",
    "        rmse = mse(y_true_list[i],y_pred_list[i],squared=False)\n",
    "        title = title_str_list[i] + \" (RMSE = %.3f)\"%rmse\n",
    "        axes[i].set_title(title, fontsize = fs)\n",
    "        axes[i].grid(True, linestyle='-.')"
   ]
  },
  {
   "cell_type": "code",
   "execution_count": 3,
   "id": "60fca12c",
   "metadata": {},
   "outputs": [],
   "source": [
    "# 参数空间\n",
    "Tip_Height_min, Tip_Height_max, Tip_Height_step = [0.5, 50, 0.5]\n",
    "Tip_Height_var = np.arange(Tip_Height_min, Tip_Height_max+0.1*Tip_Height_step,Tip_Height_step)\n",
    "Tip_Height_num = len(Tip_Height_var)\n",
    "\n",
    "Dispense_Speed_AS_min, Dispense_Speed_AS_max, Dispense_Speed_AS_step = [20,500,10]\n",
    "Dispense_Speed_AS_var = np.arange(Dispense_Speed_AS_min, Dispense_Speed_AS_max+0.1*Dispense_Speed_AS_step,Dispense_Speed_AS_step)\n",
    "Dispense_Speed_AS_num = len(Dispense_Speed_AS_var)\n",
    "\n",
    "Spin_Speed_AS_min, Spin_Speed_AS_max, Spin_Speed_AS_step = [500,7000,100]\n",
    "Spin_Speed_var = np.arange(Spin_Speed_AS_min,Spin_Speed_AS_max+0.1*Spin_Speed_AS_step,Spin_Speed_AS_step)\n",
    "Spin_Speed_num = len(Spin_Speed_var)\n",
    "\n",
    "Volume_AS_min, Volume_AS_max, Volume_AS_step = [50,300,10]\n",
    "Volume_AS_var = np.arange(Volume_AS_min, Volume_AS_max+0.1*Volume_AS_step, Volume_AS_step)\n",
    "Volume_AS_num = len(Volume_AS_var)\n",
    "\n",
    "Timing_AS_min, Timing_AS_max, Timing_AS_step = [2,25,1]\n",
    "Timing_AS_var = np.arange(Timing_AS_min, Timing_AS_max+0.1*Timing_AS_step,Timing_AS_step)\n",
    "Timing_AS_num = len(Timing_AS_var)\n",
    "\n",
    "x_label=[\n",
    "    'Tip_Height',\n",
    "    'Dispense_Speed_AS',\n",
    "    'Spin_Speed_AS',\n",
    "    'Volume_AS',\n",
    "    'Timing_AS'\n",
    "]\n",
    "\n",
    "var_array = [\n",
    "    Tip_Height_var,\n",
    "    Dispense_Speed_AS_var,\n",
    "    Spin_Speed_var,\n",
    "    Volume_AS_var,\n",
    "    Timing_AS_var\n",
    "]\n",
    "\n",
    "\n",
    "def x_normalizer(X, var_array = var_array):\n",
    "    \n",
    "    def max_min_scaler(x, x_max, x_min):\n",
    "        return (x-x_min)/(x_max-x_min)\n",
    "    x_norm = []\n",
    "    for x in (X):\n",
    "           x_norm.append([max_min_scaler(x[i], \n",
    "                         max(var_array[i]), \n",
    "                         min(var_array[i])) for i in range(len(x))])\n",
    "            \n",
    "    return np.array(x_norm)\n",
    "\n",
    "def x_denormalizer(x_norm, var_array = var_array):\n",
    "    \n",
    "    def max_min_rescaler(x, x_max, x_min):\n",
    "        return x*(x_max-x_min)+x_min\n",
    "    x_original = []\n",
    "    for x in (x_norm):\n",
    "           x_original.append([max_min_rescaler(x[i], \n",
    "                              max(var_array[i]), \n",
    "                              min(var_array[i])) for i in range(len(x))])\n",
    "\n",
    "    return np.array(x_original)\n",
    "\n",
    "\n",
    "def get_closest_array(suggested_x):\n",
    "    \n",
    "    def get_closest_value(given_value, array_list):\n",
    "        absolute_difference_function = lambda list_value : abs(list_value - given_value)\n",
    "        closest_value = min(array_list, key=absolute_difference_function)\n",
    "        return closest_value\n",
    "    \n",
    "    var_list = var_array\n",
    "    modified_array = []\n",
    "    for x in suggested_x:\n",
    "        modified_array.append([get_closest_value(x[i], var_list[i]) for i in range(len(x))])\n",
    "    return np.array(modified_array)"
   ]
  },
  {
   "cell_type": "code",
   "execution_count": 4,
   "id": "7580e3f1",
   "metadata": {},
   "outputs": [],
   "source": [
    "data  = pd.read_excel('../高斯过程.xlsx',usecols=[i for i in range(1,10)]).dropna()\n",
    "Data = data.values\n",
    "\n",
    "X = Data[:,:5]\n",
    "\n",
    "X_norm = x_normalizer(X)\n",
    "\n",
    "a = np.linspace(0,7,8,dtype=int)\n",
    "#ind = np.array(random.sample(a.tolist(),6),int)\n",
    "test_index = [0,1,2] #ind#[0,1,2,3,4,5,6,7]    best  [23  6 20  4  1 19 17 22]\n",
    "train_index = np.delete(a,test_index)#\n",
    "\n",
    "index=6\n",
    "Train_X = X_norm[train_index,:]\n",
    "Test_X = X_norm[test_index,:]\n",
    "# Train_y = Data[train_index,index]\n",
    "# Test_y = Data[test_index,index]\n",
    "# ss_y = StandardScaler()\n",
    "\n",
    "ss_y = 0.3\n",
    "Train_y = Data[train_index,index]/ss_y\n",
    "Test_y = Data[test_index,index]/ss_y\n"
   ]
  },
  {
   "cell_type": "code",
   "execution_count": 5,
   "id": "ecda39fd",
   "metadata": {},
   "outputs": [
    {
     "data": {
      "text/html": [
       "<div>\n",
       "<style scoped>\n",
       "    .dataframe tbody tr th:only-of-type {\n",
       "        vertical-align: middle;\n",
       "    }\n",
       "\n",
       "    .dataframe tbody tr th {\n",
       "        vertical-align: top;\n",
       "    }\n",
       "\n",
       "    .dataframe thead th {\n",
       "        text-align: right;\n",
       "    }\n",
       "</style>\n",
       "<table border=\"1\" class=\"dataframe\">\n",
       "  <thead>\n",
       "    <tr style=\"text-align: right;\">\n",
       "      <th></th>\n",
       "      <th>Tip Height \\n(mm) 0.5-50</th>\n",
       "      <th>Dispense Speed \\n(ul/s) 20-500</th>\n",
       "      <th>AS Spin Speed \\n(rpm) 500-7000</th>\n",
       "      <th>AS Volume \\n(ul) 50-300</th>\n",
       "      <th>Timing AS\\n (s) 2-25</th>\n",
       "      <th>PL Intensity ave</th>\n",
       "      <th>PL Intensity CV</th>\n",
       "      <th>Peak CV</th>\n",
       "      <th>PLQY</th>\n",
       "    </tr>\n",
       "  </thead>\n",
       "  <tbody>\n",
       "    <tr>\n",
       "      <th>0</th>\n",
       "      <td>1.5</td>\n",
       "      <td>90.0</td>\n",
       "      <td>5600.0</td>\n",
       "      <td>50.0</td>\n",
       "      <td>12.0</td>\n",
       "      <td>175357.061097</td>\n",
       "      <td>0.173763</td>\n",
       "      <td>0.001152</td>\n",
       "      <td>0.337201</td>\n",
       "    </tr>\n",
       "    <tr>\n",
       "      <th>1</th>\n",
       "      <td>20.0</td>\n",
       "      <td>460.0</td>\n",
       "      <td>2300.0</td>\n",
       "      <td>220.0</td>\n",
       "      <td>25.0</td>\n",
       "      <td>178837.692437</td>\n",
       "      <td>0.309365</td>\n",
       "      <td>0.001924</td>\n",
       "      <td>0.333660</td>\n",
       "    </tr>\n",
       "    <tr>\n",
       "      <th>2</th>\n",
       "      <td>4.0</td>\n",
       "      <td>250.0</td>\n",
       "      <td>7000.0</td>\n",
       "      <td>300.0</td>\n",
       "      <td>22.0</td>\n",
       "      <td>324724.062188</td>\n",
       "      <td>0.119376</td>\n",
       "      <td>0.000455</td>\n",
       "      <td>0.325180</td>\n",
       "    </tr>\n",
       "    <tr>\n",
       "      <th>3</th>\n",
       "      <td>8.0</td>\n",
       "      <td>260.0</td>\n",
       "      <td>4900.0</td>\n",
       "      <td>100.0</td>\n",
       "      <td>5.0</td>\n",
       "      <td>251923.044783</td>\n",
       "      <td>0.227518</td>\n",
       "      <td>0.000707</td>\n",
       "      <td>0.321183</td>\n",
       "    </tr>\n",
       "    <tr>\n",
       "      <th>4</th>\n",
       "      <td>15.5</td>\n",
       "      <td>170.0</td>\n",
       "      <td>5100.0</td>\n",
       "      <td>70.0</td>\n",
       "      <td>7.0</td>\n",
       "      <td>228986.076923</td>\n",
       "      <td>0.144984</td>\n",
       "      <td>0.000439</td>\n",
       "      <td>0.335772</td>\n",
       "    </tr>\n",
       "    <tr>\n",
       "      <th>5</th>\n",
       "      <td>29.5</td>\n",
       "      <td>380.0</td>\n",
       "      <td>5800.0</td>\n",
       "      <td>100.0</td>\n",
       "      <td>13.0</td>\n",
       "      <td>241866.564743</td>\n",
       "      <td>0.123097</td>\n",
       "      <td>0.001060</td>\n",
       "      <td>0.310272</td>\n",
       "    </tr>\n",
       "    <tr>\n",
       "      <th>6</th>\n",
       "      <td>32.0</td>\n",
       "      <td>450.0</td>\n",
       "      <td>800.0</td>\n",
       "      <td>140.0</td>\n",
       "      <td>15.0</td>\n",
       "      <td>188744.000000</td>\n",
       "      <td>0.099226</td>\n",
       "      <td>0.000456</td>\n",
       "      <td>0.393455</td>\n",
       "    </tr>\n",
       "    <tr>\n",
       "      <th>7</th>\n",
       "      <td>50.0</td>\n",
       "      <td>200.0</td>\n",
       "      <td>1700.0</td>\n",
       "      <td>110.0</td>\n",
       "      <td>6.0</td>\n",
       "      <td>245398.692308</td>\n",
       "      <td>0.099245</td>\n",
       "      <td>0.000540</td>\n",
       "      <td>0.444454</td>\n",
       "    </tr>\n",
       "  </tbody>\n",
       "</table>\n",
       "</div>"
      ],
      "text/plain": [
       "   Tip Height \\n(mm) 0.5-50  Dispense Speed \\n(ul/s) 20-500  \\\n",
       "0                       1.5                            90.0   \n",
       "1                      20.0                           460.0   \n",
       "2                       4.0                           250.0   \n",
       "3                       8.0                           260.0   \n",
       "4                      15.5                           170.0   \n",
       "5                      29.5                           380.0   \n",
       "6                      32.0                           450.0   \n",
       "7                      50.0                           200.0   \n",
       "\n",
       "   AS Spin Speed \\n(rpm) 500-7000  AS Volume \\n(ul) 50-300  \\\n",
       "0                          5600.0                     50.0   \n",
       "1                          2300.0                    220.0   \n",
       "2                          7000.0                    300.0   \n",
       "3                          4900.0                    100.0   \n",
       "4                          5100.0                     70.0   \n",
       "5                          5800.0                    100.0   \n",
       "6                           800.0                    140.0   \n",
       "7                          1700.0                    110.0   \n",
       "\n",
       "   Timing AS\\n (s) 2-25  PL Intensity ave  PL Intensity CV   Peak CV      PLQY  \n",
       "0                  12.0     175357.061097         0.173763  0.001152  0.337201  \n",
       "1                  25.0     178837.692437         0.309365  0.001924  0.333660  \n",
       "2                  22.0     324724.062188         0.119376  0.000455  0.325180  \n",
       "3                   5.0     251923.044783         0.227518  0.000707  0.321183  \n",
       "4                   7.0     228986.076923         0.144984  0.000439  0.335772  \n",
       "5                  13.0     241866.564743         0.123097  0.001060  0.310272  \n",
       "6                  15.0     188744.000000         0.099226  0.000456  0.393455  \n",
       "7                   6.0     245398.692308         0.099245  0.000540  0.444454  "
      ]
     },
     "execution_count": 5,
     "metadata": {},
     "output_type": "execute_result"
    }
   ],
   "source": [
    "data"
   ]
  },
  {
   "cell_type": "code",
   "execution_count": 6,
   "id": "9b0e5504",
   "metadata": {},
   "outputs": [
    {
     "data": {
      "text/plain": [
       "array([0.75839459, 0.48327929, 0.41032203, 0.33075321, 0.33081659])"
      ]
     },
     "execution_count": 6,
     "metadata": {},
     "output_type": "execute_result"
    }
   ],
   "source": [
    "Train_y"
   ]
  },
  {
   "cell_type": "code",
   "execution_count": 7,
   "id": "04b9d54b",
   "metadata": {
    "scrolled": true
   },
   "outputs": [
    {
     "name": "stdout",
     "output_type": "stream",
     "text": [
      "Optimization restart 1/50, f = -0.6563991048996516\n",
      "Optimization restart 2/50, f = -0.6563990725996169\n",
      "Optimization restart 3/50, f = -0.65639909086156\n",
      "Optimization restart 4/50, f = -0.6563990601484448\n",
      "Optimization restart 5/50, f = -0.6563991011276271\n",
      "Optimization restart 6/50, f = -0.6563990973678862\n",
      "Optimization restart 7/50, f = -0.6563990959141366\n",
      "Optimization restart 8/50, f = -0.6563991011583004\n",
      "Optimization restart 9/50, f = -0.6563991047924791\n",
      "Optimization restart 10/50, f = -0.3729224926032697\n",
      "Optimization restart 11/50, f = -0.6563990868079772\n",
      "Optimization restart 12/50, f = -0.3729225136250536\n",
      "Optimization restart 13/50, f = -0.6563990954001002\n",
      "Optimization restart 14/50, f = -0.6563991041216748\n",
      "Optimization restart 15/50, f = -0.6563990431761133\n",
      "Optimization restart 16/50, f = -0.6563987790341246\n",
      "Optimization restart 17/50, f = -0.6563990956236396\n",
      "Optimization restart 18/50, f = -0.6563989918039637\n",
      "Optimization restart 19/50, f = -0.6563990949512588\n",
      "Optimization restart 20/50, f = -0.6563906339935368\n",
      "Optimization restart 21/50, f = -0.6563990815759357\n",
      "Optimization restart 22/50, f = -0.6563988996352736\n",
      "Optimization restart 23/50, f = -0.656399082398909\n",
      "Optimization restart 24/50, f = -0.6563990832914346\n",
      "Optimization restart 25/50, f = -0.6563979849677524\n",
      "Optimization restart 26/50, f = -0.6563990963263038\n",
      "Optimization restart 27/50, f = -0.6563982866287685\n",
      "Optimization restart 28/50, f = -0.656399099779879\n",
      "Optimization restart 29/50, f = -0.656399020587251\n",
      "Optimization restart 30/50, f = -0.656399078489545\n",
      "Optimization restart 31/50, f = -0.6563990637911798\n",
      "Optimization restart 32/50, f = -0.6563990561226904\n",
      "Optimization restart 33/50, f = -0.6563989876074023\n",
      "Optimization restart 34/50, f = -0.6563990906408992\n",
      "Optimization restart 35/50, f = -0.6563990710075887\n",
      "Optimization restart 36/50, f = -0.6563980127128675\n",
      "Optimization restart 37/50, f = -0.6563990993917792\n",
      "Optimization restart 38/50, f = -0.6563991018350848\n",
      "Optimization restart 39/50, f = -0.6563991035099068\n",
      "Optimization restart 40/50, f = -0.6563990818944054\n",
      "Optimization restart 41/50, f = -0.656399101033069\n",
      "Optimization restart 42/50, f = -0.656399033332963\n",
      "Optimization restart 43/50, f = -0.6563991033611103\n",
      "Optimization restart 44/50, f = -0.656399091486803\n",
      "Optimization restart 45/50, f = -0.6563990421099546\n",
      "Optimization restart 46/50, f = -0.6563990726593354\n",
      "Optimization restart 47/50, f = -0.6563991044784534\n",
      "Optimization restart 48/50, f = -0.6563982010213381\n",
      "Optimization restart 49/50, f = -0.6563985182292194\n",
      "Optimization restart 50/50, f = -0.6563990232544725\n"
     ]
    },
    {
     "name": "stderr",
     "output_type": "stream",
     "text": [
      " D:\\Anaconda\\lib\\site-packages\\paramz\\transformations.py:111: RuntimeWarning:overflow encountered in expm1\n"
     ]
    },
    {
     "data": {
      "application/vnd.jupyter.widget-view+json": {
       "model_id": "1b2615fdc8bf4aa39091b2d26a3a867c",
       "version_major": 2,
       "version_minor": 0
      },
      "text/plain": [
       "HBox(children=(VBox(children=(IntProgress(value=0, max=1000), HTML(value=''))), Box(children=(HTML(value=''),)…"
      ]
     },
     "metadata": {},
     "output_type": "display_data"
    }
   ],
   "source": [
    "rbf = GPy.kern.RBF(input_dim=5, variance=1., lengthscale=1.,ARD=True)\n",
    "linear = GPy.kern.Linear(input_dim=5,ARD =True)\n",
    "m52 = GPy.kern.sde_Matern52(input_dim=5,ARD =True)\n",
    "#poly = GPy.kern.Poly(input_dim=5)\n",
    "kernel = rbf\n",
    "model = GPy.models.GPRegression(Train_X,Train_y.reshape(-1,1),kernel)\n",
    "\n",
    "model.randomize()\n",
    "model.optimize_restarts(num_restarts = 50)\n",
    "model.optimize(messages=True)\n",
    "\n",
    "y_pred_train = model.predict(Train_X)[0].ravel()\n",
    "y_pred_test = model.predict(Test_X)[0].ravel()\n",
    "var_train = np.sqrt(model.predict(Train_X)[1]).ravel()\n",
    "var_test = np.sqrt(model.predict(Test_X)[1]).ravel()"
   ]
  },
  {
   "cell_type": "code",
   "execution_count": 8,
   "id": "4862eab3",
   "metadata": {},
   "outputs": [
    {
     "data": {
      "image/png": "[encoded data removed]",
      "text/plain": [
       "<Figure size 1100x450 with 2 Axes>"
      ]
     },
     "metadata": {},
     "output_type": "display_data"
    }
   ],
   "source": [
    "myplot([Train_y,Test_y],[y_pred_train,y_pred_test],[var_train,var_test],\n",
    "       [\"Train - Peak cv\",\"Test - Peak cv\"],\n",
    "       [\"blue\",\"orange\"],\n",
    "      [-0.5,1])\n",
    "#plt.savefig('result',dpi=1000)"
   ]
  },
  {
   "cell_type": "code",
   "execution_count": 9,
   "id": "92f30132",
   "metadata": {
    "scrolled": true
   },
   "outputs": [
    {
     "name": "stdout",
     "output_type": "stream",
     "text": [
      "Optimization restart 1/50, f = 1.0601584624599818\n",
      "Optimization restart 2/50, f = 1.0601584991924184\n",
      "Optimization restart 3/50, f = 1.0601584565983169\n",
      "Optimization restart 4/50, f = 1.0601584558849972\n",
      "Optimization restart 5/50, f = 1.0601584529235484\n",
      "Optimization restart 6/50, f = 1.060158453814446\n",
      "Optimization restart 7/50, f = 1.0601584805221118\n",
      "Optimization restart 8/50, f = 1.0601584620932085\n",
      "Optimization restart 9/50, f = 1.0601584549095335\n",
      "Optimization restart 10/50, f = 1.0601584529328933\n",
      "Optimization restart 11/50, f = 1.0601584534075208\n",
      "Optimization restart 12/50, f = 1.0601584584870363\n",
      "Optimization restart 13/50, f = 1.0601584568027596\n",
      "Optimization restart 14/50, f = 1.0601584528148695\n",
      "Optimization restart 15/50, f = 1.060158456645567\n",
      "Optimization restart 16/50, f = 1.0601584585951525\n",
      "Optimization restart 17/50, f = 1.060158457560247\n",
      "Optimization restart 18/50, f = 1.0601584712803565\n",
      "Optimization restart 19/50, f = 1.060158452245906\n",
      "Optimization restart 20/50, f = 1.0601584632157226\n",
      "Optimization restart 21/50, f = 1.0601584672114326\n",
      "Optimization restart 22/50, f = 1.060158463769051\n",
      "Optimization restart 23/50, f = 1.0601584532084711\n",
      "Optimization restart 24/50, f = 1.0601584634603824\n",
      "Optimization restart 25/50, f = 1.060158463057344\n",
      "Optimization restart 26/50, f = 1.0601584516118514\n",
      "Optimization restart 27/50, f = 1.892051385625464\n",
      "Optimization restart 28/50, f = 2.460579997456044\n",
      "Optimization restart 29/50, f = 1.8920650538856751\n",
      "Optimization restart 30/50, f = 1.0601584606563805\n",
      "Optimization restart 31/50, f = 1.0601584809341338\n",
      "Optimization restart 32/50, f = 1.0601584538423463\n",
      "Optimization restart 33/50, f = 1.060158498557294\n",
      "Optimization restart 34/50, f = 1.060158462930222\n",
      "Optimization restart 35/50, f = 2.181940636879669\n"
     ]
    },
    {
     "name": "stderr",
     "output_type": "stream",
     "text": [
      " D:\\Anaconda\\lib\\site-packages\\GPy\\kern\\src\\stationary.py:137: RuntimeWarning:overflow encountered in square\n",
      " D:\\Anaconda\\lib\\site-packages\\GPy\\kern\\src\\stationary.py:138: RuntimeWarning:overflow encountered in multiply\n",
      " D:\\Anaconda\\lib\\site-packages\\GPy\\kern\\src\\stationary.py:138: RuntimeWarning:overflow encountered in add\n",
      " D:\\Anaconda\\lib\\site-packages\\GPy\\kern\\src\\stationary.py:138: RuntimeWarning:invalid value encountered in add\n"
     ]
    },
    {
     "name": "stdout",
     "output_type": "stream",
     "text": [
      "Optimization restart 36/50, f = 1.0601584576847207\n",
      "Optimization restart 37/50, f = 1.0601584551105487\n",
      "Optimization restart 38/50, f = 1.0601584556557326\n",
      "Optimization restart 39/50, f = 1.0601584613607207\n",
      "Optimization restart 40/50, f = 1.0601584585983108\n",
      "Optimization restart 41/50, f = 1.060158455793534\n",
      "Optimization restart 42/50, f = 1.0601584575982077\n",
      "Optimization restart 43/50, f = 1.0601584532126713\n",
      "Optimization restart 44/50, f = 1.0601584633596897\n",
      "Optimization restart 45/50, f = 1.892111375605439\n",
      "Optimization restart 46/50, f = 1.0601584586915642\n",
      "Optimization restart 47/50, f = 1.0601584541185023\n",
      "Optimization restart 48/50, f = 1.0601584585697266\n",
      "Optimization restart 49/50, f = 1.060158455964558\n",
      "Optimization restart 50/50, f = 1.0601584653967118\n"
     ]
    },
    {
     "name": "stderr",
     "output_type": "stream",
     "text": [
      " D:\\Anaconda\\lib\\site-packages\\paramz\\transformations.py:111: RuntimeWarning:overflow encountered in expm1\n"
     ]
    },
    {
     "data": {
      "application/vnd.jupyter.widget-view+json": {
       "model_id": "21372a086c4f4e189c5b14518d4399b2",
       "version_major": 2,
       "version_minor": 0
      },
      "text/plain": [
       "HBox(children=(VBox(children=(IntProgress(value=0, max=1000), HTML(value=''))), Box(children=(HTML(value=''),)…"
      ]
     },
     "metadata": {},
     "output_type": "display_data"
    },
    {
     "data": {
      "text/plain": [
       "<paramz.optimization.optimization.opt_lbfgsb at 0x2a6c5d4fd90>"
      ]
     },
     "execution_count": 9,
     "metadata": {},
     "output_type": "execute_result"
    }
   ],
   "source": [
    "X_normalize = x_normalizer(Data[:,:5])\n",
    "Y_normalize = Data[:,6]/ss_y\n",
    "m52 = GPy.kern.sde_Matern52(input_dim=5,ARD =True)\n",
    "rbf =  GPy.kern.RBF(input_dim=5, variance=1., lengthscale=1.,ARD=True)\n",
    "linear = GPy.kern.Linear(input_dim=5,ARD =True)\n",
    "kernel = rbf\n",
    "model = GPy.models.GPRegression(X_normalize,Y_normalize.reshape(-1,1),kernel)\n",
    "\n",
    "model.randomize()\n",
    "model.optimize_restarts(num_restarts = 50)\n",
    "model.optimize(messages=True)"
   ]
  },
  {
   "cell_type": "code",
   "execution_count": 10,
   "id": "6ee53f76",
   "metadata": {},
   "outputs": [
    {
     "name": "stdout",
     "output_type": "stream",
     "text": [
      "0.03426078674174727\n"
     ]
    },
    {
     "data": {
      "image/png": "[encoded data removed]",
      "text/plain": [
       "<Figure size 640x480 with 1 Axes>"
      ]
     },
     "metadata": {},
     "output_type": "display_data"
    }
   ],
   "source": [
    "y_pred = model.predict(X_normalize)[0]\n",
    "plt.scatter(Y_normalize,y_pred,c='b',alpha=0.6)\n",
    "plt.plot([0,1],[0,1], 'k--', alpha=0.75, zorder=0)\n",
    "print(mse(Y_normalize,y_pred,squared=False))"
   ]
  },
  {
   "cell_type": "code",
   "execution_count": 11,
   "id": "33e260e6",
   "metadata": {},
   "outputs": [
    {
     "data": {
      "text/plain": [
       "[ContinuousParameter(Tip_Height, -0.005050505050505051, 1.005050505050505),\n",
       " ContinuousParameter(Dispense_Speed_AS, -0.010416666666666666, 1.0104166666666667),\n",
       " ContinuousParameter(Spin_Speed, -0.007692307692307693, 1.0076923076923077),\n",
       " ContinuousParameter(Volume_AS, -0.02, 1.02),\n",
       " ContinuousParameter(Timing_AS, -0.021739130434782608, 1.0217391304347827)]"
      ]
     },
     "execution_count": 11,
     "metadata": {},
     "output_type": "execute_result"
    }
   ],
   "source": [
    "parameter_space = ParameterSpace([ContinuousParameter('Tip_Height', 0-1/(Tip_Height_num-1)/2, 1+1/(Tip_Height_num-1)/2),\n",
    "                                  ContinuousParameter('Dispense_Speed_AS', 0-1/(Dispense_Speed_AS_num-1)/2, 1+1/(Dispense_Speed_AS_num-1)/2),\n",
    "                                  ContinuousParameter('Spin_Speed', 0-1/(Spin_Speed_num-1)/2, 1+1/(Spin_Speed_num-1)/2),\n",
    "                                  ContinuousParameter('Volume_AS', 0-1/(Volume_AS_num-1)/2, 1+1/(Volume_AS_num-1)/2),\n",
    "                                  ContinuousParameter('Timing_AS', 0-1/(Timing_AS_num-1)/2, 1+1/(Timing_AS_num-1)/2)\n",
    "                                  \n",
    "                                  ])\n",
    "parameter_space.parameters"
   ]
  },
  {
   "cell_type": "code",
   "execution_count": 12,
   "id": "5af66744",
   "metadata": {},
   "outputs": [
    {
     "name": "stdout",
     "output_type": "stream",
     "text": [
      "1000000\n",
      "Init point :  [ 0.98318072  0.43467212 -0.00366867 -0.01956027  0.18204272]\n",
      "opt point :  (array([[ 1.00505051,  0.43467212, -0.00769231, -0.02      ,  0.18204272]]), array([[-0.1003245]]))\n",
      "acq_max =  [[0.1003245]]\n",
      "1000000\n",
      "Init point :  [ 0.99638573  0.32772823 -0.0047998  -0.01077469  0.55683971]\n",
      "opt point :  (array([[ 1.00505051,  0.32772823, -0.00769231, -0.02      ,  0.55683971]]), array([[-0.27819529]]))\n",
      "acq_max =  [[0.27819529]]\n",
      "1000000\n",
      "Init point :  [ 0.011492    0.27275161  0.00157311 -0.01485542  0.89301078]\n",
      "opt point :  (array([[-0.00505051,  0.27275161, -0.00769231, -0.02      ,  0.89301078]]), array([[-2.85024784]]))\n",
      "acq_max =  [[2.85024784]]\n"
     ]
    },
    {
     "data": {
      "text/html": [
       "<div>\n",
       "<style scoped>\n",
       "    .dataframe tbody tr th:only-of-type {\n",
       "        vertical-align: middle;\n",
       "    }\n",
       "\n",
       "    .dataframe tbody tr th {\n",
       "        vertical-align: top;\n",
       "    }\n",
       "\n",
       "    .dataframe thead th {\n",
       "        text-align: right;\n",
       "    }\n",
       "</style>\n",
       "<table border=\"1\" class=\"dataframe\">\n",
       "  <thead>\n",
       "    <tr style=\"text-align: right;\">\n",
       "      <th></th>\n",
       "      <th>Tip_Height</th>\n",
       "      <th>Dispense_Speed_AS</th>\n",
       "      <th>Spin_Speed_AS</th>\n",
       "      <th>Volume_AS</th>\n",
       "      <th>Timing_AS</th>\n",
       "      <th>pred_mean</th>\n",
       "      <th>pred_sigma</th>\n",
       "    </tr>\n",
       "  </thead>\n",
       "  <tbody>\n",
       "    <tr>\n",
       "      <th>0</th>\n",
       "      <td>50.0</td>\n",
       "      <td>230.0</td>\n",
       "      <td>500.0</td>\n",
       "      <td>50.0</td>\n",
       "      <td>6.0</td>\n",
       "      <td>-0.018154</td>\n",
       "      <td>0.010516</td>\n",
       "    </tr>\n",
       "    <tr>\n",
       "      <th>1</th>\n",
       "      <td>50.0</td>\n",
       "      <td>180.0</td>\n",
       "      <td>500.0</td>\n",
       "      <td>50.0</td>\n",
       "      <td>15.0</td>\n",
       "      <td>-0.018154</td>\n",
       "      <td>0.010516</td>\n",
       "    </tr>\n",
       "    <tr>\n",
       "      <th>2</th>\n",
       "      <td>0.5</td>\n",
       "      <td>150.0</td>\n",
       "      <td>500.0</td>\n",
       "      <td>50.0</td>\n",
       "      <td>23.0</td>\n",
       "      <td>0.044558</td>\n",
       "      <td>0.025197</td>\n",
       "    </tr>\n",
       "  </tbody>\n",
       "</table>\n",
       "</div>"
      ],
      "text/plain": [
       "   Tip_Height  Dispense_Speed_AS  Spin_Speed_AS  Volume_AS  Timing_AS  \\\n",
       "0        50.0              230.0          500.0       50.0        6.0   \n",
       "1        50.0              180.0          500.0       50.0       15.0   \n",
       "2         0.5              150.0          500.0       50.0       23.0   \n",
       "\n",
       "   pred_mean  pred_sigma  \n",
       "0  -0.018154    0.010516  \n",
       "1  -0.018154    0.010516  \n",
       "2   0.044558    0.025197  "
      ]
     },
     "execution_count": 12,
     "metadata": {},
     "output_type": "execute_result"
    }
   ],
   "source": [
    "np.random.seed(1000)\n",
    "\n",
    "objective_model = GPyModelWrapper(model)\n",
    "bs = 1\n",
    "\n",
    "beta = [0.1,1,10]\n",
    "recommend_point = []\n",
    "num = 3\n",
    "for i in range(num):\n",
    "\n",
    "    acquisition = NegativeLowerConfidenceBound(objective_model, beta = beta[i])#ExpectedImprovement(objective_model, jitter=beta[i])#NegativeLowerConfidenceBound(objective_model, beta = beta[i])#ExpectedImprovement(objective_model, jitter=.1)#NegativeLowerConfidenceBound(objective_model, beta = 1)\n",
    "\n",
    "    bayesopt= BayesianOptimizationLoop(model=objective_model, \n",
    "                                       space=parameter_space, \n",
    "                                       acquisition=acquisition,\n",
    "                                       batch_size = bs)\n",
    "\n",
    "\n",
    "    X_new = bayesopt.candidate_point_calculator.compute_next_points(bayesopt.loop_state)\n",
    "\n",
    "    recommend_point.append(get_closest_array(x_denormalizer(X_new,var_array)))\n",
    "    \n",
    "recommend_point_pd = pd.DataFrame(np.array(recommend_point).reshape(-1,5), columns = x_label)\n",
    "\n",
    "rp = x_normalizer(np.array(recommend_point).reshape(num,5))\n",
    "u = ss_y*model.predict(rp)[0] #均值\n",
    "sigma = ss_y*model.predict(rp)[1] #方差\n",
    "pred = pd.DataFrame(np.append(u,sigma,axis=1),columns=['pred_mean','pred_sigma'])\n",
    "final = pd.concat([recommend_point_pd, pred], axis=1)\n",
    "final"
   ]
  },
  {
   "cell_type": "code",
   "execution_count": 13,
   "id": "2ff1f1f4",
   "metadata": {},
   "outputs": [],
   "source": [
    "final.to_excel('Intensity cv2_gp.xlsx')"
   ]
  },
  {
   "cell_type": "code",
   "execution_count": 21,
   "id": "f090005b",
   "metadata": {},
   "outputs": [
    {
     "data": {
      "text/plain": [
       "array([[0.        , 0.68421053, 0.        , 0.31111111, 1.        ],\n",
       "       [1.        , 0.36842105, 0.        , 0.37777778, 1.        ],\n",
       "       [1.        , 0.81578947, 0.        , 0.53333333, 1.        ]])"
      ]
     },
     "execution_count": 21,
     "metadata": {},
     "output_type": "execute_result"
    }
   ],
   "source": [
    "rp"
   ]
  },
  {
   "cell_type": "code",
   "execution_count": 9,
   "id": "f8596c51",
   "metadata": {},
   "outputs": [
    {
     "data": {
      "text/plain": [
       "array([[ 1.00505051,  0.81757072, -0.00714286,  0.54268288,  1.01724138]])"
      ]
     },
     "execution_count": 9,
     "metadata": {},
     "output_type": "execute_result"
    }
   ],
   "source": [
    "X_new"
   ]
  },
  {
   "cell_type": "code",
   "execution_count": 13,
   "id": "20d2bd1e",
   "metadata": {},
   "outputs": [
    {
     "name": "stdout",
     "output_type": "stream",
     "text": [
      "1000000\n"
     ]
    },
    {
     "name": "stderr",
     "output_type": "stream",
     "text": [
      " D:\\Anaconda\\lib\\site-packages\\paramz\\transformations.py:111: RuntimeWarning:overflow encountered in expm1\n",
      " D:\\Anaconda\\lib\\site-packages\\emukit-0.4.10-py3.9.egg\\emukit\\bayesian_optimization\\acquisitions\\log_acquisition.py:25: RuntimeWarning:invalid value encountered in log\n"
     ]
    },
    {
     "name": "stdout",
     "output_type": "stream",
     "text": [
      "Init point :  [0.46538428 0.14189202 0.20669397 0.79520894 0.14463125]\n",
      "opt point :  (array([[0.46538428, 0.14189202, 0.20669397, 0.79520894, 0.14463125]]), array([[nan]]))\n",
      "acq_max =  [[nan]]\n",
      "Init point :  [0.40654548 0.65703494 0.76346659 0.34727138 0.48632265]\n",
      "opt point :  (array([[0.40654548, 0.65703494, 0.76346659, 0.34727138, 0.48632265]]), array([[nan]]))\n",
      "acq_max =  [[nan]]\n",
      "Init point :  [0.12557292 0.40128067 0.79426988 0.73709175 0.88406021]\n",
      "opt point :  (array([[0.12557292, 0.40128067, 0.79426988, 0.73709175, 0.88406021]]), array([[nan]]))\n",
      "acq_max =  [[nan]]\n",
      "Init point :  [0.37678209 0.36536233 0.96221431 0.80144208 0.06896802]\n",
      "opt point :  (array([[0.37678209, 0.36536233, 0.96221431, 0.80144208, 0.06896802]]), array([[nan]]))\n",
      "acq_max =  [[nan]]\n",
      "Init point :  [0.23571933 0.96419597 0.47947772 0.2150342  0.19346971]\n",
      "opt point :  (array([[0.23571933, 0.96419597, 0.47947772, 0.2150342 , 0.19346971]]), array([[nan]]))\n",
      "acq_max =  [[nan]]\n",
      "Init point :  [0.47399726 0.37574806 0.03822834 0.52299429 0.29286455]\n",
      "opt point :  (array([[0.47399726, 0.37574806, 0.03822834, 0.52299429, 0.29286455]]), array([[nan]]))\n",
      "acq_max =  [[nan]]\n",
      "Init point :  [0.08443214 0.87250578 0.97848954 0.58654155 0.09988175]\n",
      "opt point :  (array([[0.08443214, 0.87250578, 0.97848954, 0.58654155, 0.09988175]]), array([[nan]]))\n",
      "acq_max =  [[nan]]\n",
      "Init point :  [0.53011628 0.90931594 0.77114526 0.16309586 0.34662529]\n",
      "opt point :  (array([[0.53011628, 0.90931594, 0.77114526, 0.16309586, 0.34662529]]), array([[nan]]))\n",
      "acq_max =  [[nan]]\n",
      "Init point :  [0.96766637 0.13485771 0.15162779 0.24731097 0.04714437]\n",
      "opt point :  (array([[0.96766637, 0.13485771, 0.15162779, 0.24731097, 0.04714437]]), array([[nan]]))\n",
      "acq_max =  [[nan]]\n",
      "Init point :  [0.36307337 0.48157152 0.51463224 0.42429107 1.01229299]\n",
      "opt point :  (array([[0.36307337, 0.48157152, 0.51463224, 0.42429107, 1.01229299]]), array([[nan]]))\n",
      "acq_max =  [[nan]]\n"
     ]
    }
   ],
   "source": [
    "np.random.seed(1000)\n",
    "\n",
    "objective_model = GPyModelWrapper(model)\n",
    "bs = 10\n",
    "\n",
    "\n",
    "acquisition = NegativeLowerConfidenceBound(objective_model, beta = 1)#ExpectedImprovement(objective_model, jitter=beta[i])#NegativeLowerConfidenceBound(objective_model, beta = beta[i])#ExpectedImprovement(objective_model, jitter=.1)#NegativeLowerConfidenceBound(objective_model, beta = 1)\n",
    "\n",
    "bayesopt= BayesianOptimizationLoop(model=objective_model, \n",
    "                                   space=parameter_space, \n",
    "                                   acquisition=acquisition,\n",
    "                                   batch_size = bs)\n",
    "\n",
    "\n",
    "X_new = bayesopt.candidate_point_calculator.compute_next_points(bayesopt.loop_state)\n",
    "\n"
   ]
  },
  {
   "cell_type": "code",
   "execution_count": 14,
   "id": "1a88c08e",
   "metadata": {},
   "outputs": [
    {
     "data": {
      "text/html": [
       "<div>\n",
       "<style scoped>\n",
       "    .dataframe tbody tr th:only-of-type {\n",
       "        vertical-align: middle;\n",
       "    }\n",
       "\n",
       "    .dataframe tbody tr th {\n",
       "        vertical-align: top;\n",
       "    }\n",
       "\n",
       "    .dataframe thead th {\n",
       "        text-align: right;\n",
       "    }\n",
       "</style>\n",
       "<table border=\"1\" class=\"dataframe\">\n",
       "  <thead>\n",
       "    <tr style=\"text-align: right;\">\n",
       "      <th></th>\n",
       "      <th>Tip_Height</th>\n",
       "      <th>Dispense_Speed_AS</th>\n",
       "      <th>Spin_Speed_AS</th>\n",
       "      <th>Volume_AS</th>\n",
       "      <th>Timing_AS</th>\n",
       "      <th>pred_mean</th>\n",
       "      <th>pred_sigma</th>\n",
       "    </tr>\n",
       "  </thead>\n",
       "  <tbody>\n",
       "    <tr>\n",
       "      <th>0</th>\n",
       "      <td>23.5</td>\n",
       "      <td>71.0</td>\n",
       "      <td>1401.0</td>\n",
       "      <td>231.0</td>\n",
       "      <td>5.0</td>\n",
       "      <td>0.089949</td>\n",
       "      <td>0.018274</td>\n",
       "    </tr>\n",
       "    <tr>\n",
       "      <th>1</th>\n",
       "      <td>20.5</td>\n",
       "      <td>321.0</td>\n",
       "      <td>5301.0</td>\n",
       "      <td>101.0</td>\n",
       "      <td>15.0</td>\n",
       "      <td>0.095449</td>\n",
       "      <td>0.018264</td>\n",
       "    </tr>\n",
       "    <tr>\n",
       "      <th>2</th>\n",
       "      <td>6.5</td>\n",
       "      <td>201.0</td>\n",
       "      <td>5601.0</td>\n",
       "      <td>211.0</td>\n",
       "      <td>27.0</td>\n",
       "      <td>0.094399</td>\n",
       "      <td>0.018312</td>\n",
       "    </tr>\n",
       "    <tr>\n",
       "      <th>3</th>\n",
       "      <td>19.0</td>\n",
       "      <td>181.0</td>\n",
       "      <td>6701.0</td>\n",
       "      <td>231.0</td>\n",
       "      <td>3.0</td>\n",
       "      <td>0.094295</td>\n",
       "      <td>0.018200</td>\n",
       "    </tr>\n",
       "    <tr>\n",
       "      <th>4</th>\n",
       "      <td>12.0</td>\n",
       "      <td>471.0</td>\n",
       "      <td>3401.0</td>\n",
       "      <td>61.0</td>\n",
       "      <td>7.0</td>\n",
       "      <td>0.095618</td>\n",
       "      <td>0.018635</td>\n",
       "    </tr>\n",
       "    <tr>\n",
       "      <th>5</th>\n",
       "      <td>24.0</td>\n",
       "      <td>181.0</td>\n",
       "      <td>301.0</td>\n",
       "      <td>151.0</td>\n",
       "      <td>9.0</td>\n",
       "      <td>0.090790</td>\n",
       "      <td>0.018260</td>\n",
       "    </tr>\n",
       "    <tr>\n",
       "      <th>6</th>\n",
       "      <td>4.5</td>\n",
       "      <td>431.0</td>\n",
       "      <td>6801.0</td>\n",
       "      <td>171.0</td>\n",
       "      <td>4.0</td>\n",
       "      <td>0.097028</td>\n",
       "      <td>0.018564</td>\n",
       "    </tr>\n",
       "    <tr>\n",
       "      <th>7</th>\n",
       "      <td>26.5</td>\n",
       "      <td>451.0</td>\n",
       "      <td>5401.0</td>\n",
       "      <td>51.0</td>\n",
       "      <td>11.0</td>\n",
       "      <td>0.096664</td>\n",
       "      <td>0.018564</td>\n",
       "    </tr>\n",
       "    <tr>\n",
       "      <th>8</th>\n",
       "      <td>48.5</td>\n",
       "      <td>71.0</td>\n",
       "      <td>1101.0</td>\n",
       "      <td>71.0</td>\n",
       "      <td>2.0</td>\n",
       "      <td>0.089668</td>\n",
       "      <td>0.018312</td>\n",
       "    </tr>\n",
       "    <tr>\n",
       "      <th>9</th>\n",
       "      <td>18.5</td>\n",
       "      <td>241.0</td>\n",
       "      <td>3601.0</td>\n",
       "      <td>121.0</td>\n",
       "      <td>30.0</td>\n",
       "      <td>0.093762</td>\n",
       "      <td>0.018388</td>\n",
       "    </tr>\n",
       "  </tbody>\n",
       "</table>\n",
       "</div>"
      ],
      "text/plain": [
       "   Tip_Height  Dispense_Speed_AS  Spin_Speed_AS  Volume_AS  Timing_AS  \\\n",
       "0        23.5               71.0         1401.0      231.0        5.0   \n",
       "1        20.5              321.0         5301.0      101.0       15.0   \n",
       "2         6.5              201.0         5601.0      211.0       27.0   \n",
       "3        19.0              181.0         6701.0      231.0        3.0   \n",
       "4        12.0              471.0         3401.0       61.0        7.0   \n",
       "5        24.0              181.0          301.0      151.0        9.0   \n",
       "6         4.5              431.0         6801.0      171.0        4.0   \n",
       "7        26.5              451.0         5401.0       51.0       11.0   \n",
       "8        48.5               71.0         1101.0       71.0        2.0   \n",
       "9        18.5              241.0         3601.0      121.0       30.0   \n",
       "\n",
       "   pred_mean  pred_sigma  \n",
       "0   0.089949    0.018274  \n",
       "1   0.095449    0.018264  \n",
       "2   0.094399    0.018312  \n",
       "3   0.094295    0.018200  \n",
       "4   0.095618    0.018635  \n",
       "5   0.090790    0.018260  \n",
       "6   0.097028    0.018564  \n",
       "7   0.096664    0.018564  \n",
       "8   0.089668    0.018312  \n",
       "9   0.093762    0.018388  "
      ]
     },
     "execution_count": 14,
     "metadata": {},
     "output_type": "execute_result"
    }
   ],
   "source": [
    "x = get_closest_array(x_denormalizer(X_new,var_array))\n",
    "df_Xnew = pd.DataFrame(x, columns = x_label)\n",
    "u = ss_y*model.predict(x_normalizer(x))[0]\n",
    "sigma = ss_y*model.predict(x_normalizer(x))[1]\n",
    "pred = pd.DataFrame(np.append(u,sigma,axis=1),columns=['pred_mean','pred_sigma'])\n",
    "final = pd.concat([df_Xnew, pred], axis=1)\n",
    "final"
   ]
  },
  {
   "cell_type": "code",
   "execution_count": null,
   "id": "3a35b8b6",
   "metadata": {},
   "outputs": [],
   "source": []
  }
 ],
 "metadata": {
  "kernelspec": {
   "display_name": "Python 3 (ipykernel)",
   "language": "python",
   "name": "python3"
  },
  "language_info": {
   "codemirror_mode": {
    "name": "ipython",
    "version": 3
   },
   "file_extension": ".py",
   "mimetype": "text/x-python",
   "name": "python",
   "nbconvert_exporter": "python",
   "pygments_lexer": "ipython3",
   "version": "3.9.13"
  }
 },
 "nbformat": 4,
 "nbformat_minor": 5
}
